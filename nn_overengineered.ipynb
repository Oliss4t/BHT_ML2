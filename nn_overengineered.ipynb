{
 "cells": [
  {
   "cell_type": "code",
   "execution_count": 1,
   "metadata": {},
   "outputs": [
    {
     "name": "stderr",
     "output_type": "stream",
     "text": [
      "/Users/lsacy/opt/miniconda3/envs/clcnlu/lib/python3.8/site-packages/tqdm/auto.py:22: TqdmWarning: IProgress not found. Please update jupyter and ipywidgets. See https://ipywidgets.readthedocs.io/en/stable/user_install.html\n",
      "  from .autonotebook import tqdm as notebook_tqdm\n"
     ]
    }
   ],
   "source": [
    "import pandas as pd\n",
    "import numpy as np\n",
    "\n",
    "from sklearn.preprocessing import MinMaxScaler, StandardScaler, LabelEncoder\n",
    "from sklearn.model_selection import train_test_split\n",
    "\n",
    "import torch\n",
    "import torch.nn as nn\n",
    "import torch.nn.functional as F\n",
    "from torch.optim import SGD, Adam\n",
    "\n",
    "from pytorch_lightning.loggers import TensorBoardLogger, logger\n",
    "import pytorch_lightning as pl\n",
    "from pytorch_lightning.callbacks import ModelCheckpoint\n",
    "from pytorch_lightning.callbacks.early_stopping import EarlyStopping\n",
    "\n",
    "import optuna\n",
    "\n",
    "import matplotlib.pyplot as plt\n",
    "import seaborn as sns"
   ]
  },
  {
   "cell_type": "code",
   "execution_count": 3,
   "metadata": {},
   "outputs": [
    {
     "name": "stdout",
     "output_type": "stream",
     "text": [
      "MAC MPS available: True\n",
      "Cuda available: False\n"
     ]
    }
   ],
   "source": [
    "# check availability of hardware acceleration\n",
    "print(f'MAC MPS available: {torch.backends.mps.is_available()}')\n",
    "print(f'Cuda available: {torch.cuda.is_available()}') #if cuda is avaiable, set cuda device =1\n",
    "\n",
    "# set device to cuda\n",
    "device = torch.device(\"cuda:1\" if torch.cuda.is_available() else \"cpu\")\n",
    "\n",
    "# set seed for reproducibility\n",
    "seed = 1337\n",
    "torch.manual_seed(seed)\n",
    "np.random.seed(seed)"
   ]
  },
  {
   "cell_type": "code",
   "execution_count": 4,
   "metadata": {},
   "outputs": [
    {
     "data": {
      "text/html": [
       "<div>\n",
       "<style scoped>\n",
       "    .dataframe tbody tr th:only-of-type {\n",
       "        vertical-align: middle;\n",
       "    }\n",
       "\n",
       "    .dataframe tbody tr th {\n",
       "        vertical-align: top;\n",
       "    }\n",
       "\n",
       "    .dataframe thead th {\n",
       "        text-align: right;\n",
       "    }\n",
       "</style>\n",
       "<table border=\"1\" class=\"dataframe\">\n",
       "  <thead>\n",
       "    <tr style=\"text-align: right;\">\n",
       "      <th></th>\n",
       "      <th>age</th>\n",
       "      <th>sex</th>\n",
       "      <th>bmi</th>\n",
       "      <th>children</th>\n",
       "      <th>smoker</th>\n",
       "      <th>region</th>\n",
       "      <th>charges</th>\n",
       "    </tr>\n",
       "  </thead>\n",
       "  <tbody>\n",
       "    <tr>\n",
       "      <th>0</th>\n",
       "      <td>19</td>\n",
       "      <td>female</td>\n",
       "      <td>27.900</td>\n",
       "      <td>0</td>\n",
       "      <td>yes</td>\n",
       "      <td>southwest</td>\n",
       "      <td>16884.92400</td>\n",
       "    </tr>\n",
       "    <tr>\n",
       "      <th>1</th>\n",
       "      <td>18</td>\n",
       "      <td>male</td>\n",
       "      <td>33.770</td>\n",
       "      <td>1</td>\n",
       "      <td>no</td>\n",
       "      <td>southeast</td>\n",
       "      <td>1725.55230</td>\n",
       "    </tr>\n",
       "    <tr>\n",
       "      <th>2</th>\n",
       "      <td>28</td>\n",
       "      <td>male</td>\n",
       "      <td>33.000</td>\n",
       "      <td>3</td>\n",
       "      <td>no</td>\n",
       "      <td>southeast</td>\n",
       "      <td>4449.46200</td>\n",
       "    </tr>\n",
       "    <tr>\n",
       "      <th>3</th>\n",
       "      <td>33</td>\n",
       "      <td>male</td>\n",
       "      <td>22.705</td>\n",
       "      <td>0</td>\n",
       "      <td>no</td>\n",
       "      <td>northwest</td>\n",
       "      <td>21984.47061</td>\n",
       "    </tr>\n",
       "    <tr>\n",
       "      <th>4</th>\n",
       "      <td>32</td>\n",
       "      <td>male</td>\n",
       "      <td>28.880</td>\n",
       "      <td>0</td>\n",
       "      <td>no</td>\n",
       "      <td>northwest</td>\n",
       "      <td>3866.85520</td>\n",
       "    </tr>\n",
       "  </tbody>\n",
       "</table>\n",
       "</div>"
      ],
      "text/plain": [
       "   age     sex     bmi  children smoker     region      charges\n",
       "0   19  female  27.900         0    yes  southwest  16884.92400\n",
       "1   18    male  33.770         1     no  southeast   1725.55230\n",
       "2   28    male  33.000         3     no  southeast   4449.46200\n",
       "3   33    male  22.705         0     no  northwest  21984.47061\n",
       "4   32    male  28.880         0     no  northwest   3866.85520"
      ]
     },
     "execution_count": 4,
     "metadata": {},
     "output_type": "execute_result"
    }
   ],
   "source": [
    "# load data\n",
    "df = pd.read_csv('datasets/insurance.csv')\n",
    "df.head()"
   ]
  },
  {
   "cell_type": "code",
   "execution_count": 5,
   "metadata": {},
   "outputs": [
    {
     "name": "stdout",
     "output_type": "stream",
     "text": [
      "<class 'pandas.core.frame.DataFrame'>\n",
      "RangeIndex: 1338 entries, 0 to 1337\n",
      "Data columns (total 7 columns):\n",
      " #   Column    Non-Null Count  Dtype  \n",
      "---  ------    --------------  -----  \n",
      " 0   age       1338 non-null   int64  \n",
      " 1   sex       1338 non-null   object \n",
      " 2   bmi       1338 non-null   float64\n",
      " 3   children  1338 non-null   int64  \n",
      " 4   smoker    1338 non-null   object \n",
      " 5   region    1338 non-null   object \n",
      " 6   charges   1338 non-null   float64\n",
      "dtypes: float64(2), int64(2), object(3)\n",
      "memory usage: 73.3+ KB\n"
     ]
    }
   ],
   "source": [
    "df.info()"
   ]
  },
  {
   "cell_type": "code",
   "execution_count": 6,
   "metadata": {},
   "outputs": [
    {
     "data": {
      "text/html": [
       "<div>\n",
       "<style scoped>\n",
       "    .dataframe tbody tr th:only-of-type {\n",
       "        vertical-align: middle;\n",
       "    }\n",
       "\n",
       "    .dataframe tbody tr th {\n",
       "        vertical-align: top;\n",
       "    }\n",
       "\n",
       "    .dataframe thead th {\n",
       "        text-align: right;\n",
       "    }\n",
       "</style>\n",
       "<table border=\"1\" class=\"dataframe\">\n",
       "  <thead>\n",
       "    <tr style=\"text-align: right;\">\n",
       "      <th></th>\n",
       "      <th>age</th>\n",
       "      <th>sex</th>\n",
       "      <th>bmi</th>\n",
       "      <th>children</th>\n",
       "      <th>smoker</th>\n",
       "      <th>region</th>\n",
       "      <th>charges</th>\n",
       "    </tr>\n",
       "  </thead>\n",
       "  <tbody>\n",
       "    <tr>\n",
       "      <th>count</th>\n",
       "      <td>1338.000000</td>\n",
       "      <td>1338</td>\n",
       "      <td>1338.000000</td>\n",
       "      <td>1338.000000</td>\n",
       "      <td>1338</td>\n",
       "      <td>1338</td>\n",
       "      <td>1338.000000</td>\n",
       "    </tr>\n",
       "    <tr>\n",
       "      <th>unique</th>\n",
       "      <td>NaN</td>\n",
       "      <td>2</td>\n",
       "      <td>NaN</td>\n",
       "      <td>NaN</td>\n",
       "      <td>2</td>\n",
       "      <td>4</td>\n",
       "      <td>NaN</td>\n",
       "    </tr>\n",
       "    <tr>\n",
       "      <th>top</th>\n",
       "      <td>NaN</td>\n",
       "      <td>male</td>\n",
       "      <td>NaN</td>\n",
       "      <td>NaN</td>\n",
       "      <td>no</td>\n",
       "      <td>southeast</td>\n",
       "      <td>NaN</td>\n",
       "    </tr>\n",
       "    <tr>\n",
       "      <th>freq</th>\n",
       "      <td>NaN</td>\n",
       "      <td>676</td>\n",
       "      <td>NaN</td>\n",
       "      <td>NaN</td>\n",
       "      <td>1064</td>\n",
       "      <td>364</td>\n",
       "      <td>NaN</td>\n",
       "    </tr>\n",
       "    <tr>\n",
       "      <th>mean</th>\n",
       "      <td>39.207025</td>\n",
       "      <td>NaN</td>\n",
       "      <td>30.663397</td>\n",
       "      <td>1.094918</td>\n",
       "      <td>NaN</td>\n",
       "      <td>NaN</td>\n",
       "      <td>13270.422265</td>\n",
       "    </tr>\n",
       "    <tr>\n",
       "      <th>std</th>\n",
       "      <td>14.049960</td>\n",
       "      <td>NaN</td>\n",
       "      <td>6.098187</td>\n",
       "      <td>1.205493</td>\n",
       "      <td>NaN</td>\n",
       "      <td>NaN</td>\n",
       "      <td>12110.011237</td>\n",
       "    </tr>\n",
       "    <tr>\n",
       "      <th>min</th>\n",
       "      <td>18.000000</td>\n",
       "      <td>NaN</td>\n",
       "      <td>15.960000</td>\n",
       "      <td>0.000000</td>\n",
       "      <td>NaN</td>\n",
       "      <td>NaN</td>\n",
       "      <td>1121.873900</td>\n",
       "    </tr>\n",
       "    <tr>\n",
       "      <th>25%</th>\n",
       "      <td>27.000000</td>\n",
       "      <td>NaN</td>\n",
       "      <td>26.296250</td>\n",
       "      <td>0.000000</td>\n",
       "      <td>NaN</td>\n",
       "      <td>NaN</td>\n",
       "      <td>4740.287150</td>\n",
       "    </tr>\n",
       "    <tr>\n",
       "      <th>50%</th>\n",
       "      <td>39.000000</td>\n",
       "      <td>NaN</td>\n",
       "      <td>30.400000</td>\n",
       "      <td>1.000000</td>\n",
       "      <td>NaN</td>\n",
       "      <td>NaN</td>\n",
       "      <td>9382.033000</td>\n",
       "    </tr>\n",
       "    <tr>\n",
       "      <th>75%</th>\n",
       "      <td>51.000000</td>\n",
       "      <td>NaN</td>\n",
       "      <td>34.693750</td>\n",
       "      <td>2.000000</td>\n",
       "      <td>NaN</td>\n",
       "      <td>NaN</td>\n",
       "      <td>16639.912515</td>\n",
       "    </tr>\n",
       "    <tr>\n",
       "      <th>max</th>\n",
       "      <td>64.000000</td>\n",
       "      <td>NaN</td>\n",
       "      <td>53.130000</td>\n",
       "      <td>5.000000</td>\n",
       "      <td>NaN</td>\n",
       "      <td>NaN</td>\n",
       "      <td>63770.428010</td>\n",
       "    </tr>\n",
       "  </tbody>\n",
       "</table>\n",
       "</div>"
      ],
      "text/plain": [
       "                age   sex          bmi     children smoker     region  \\\n",
       "count   1338.000000  1338  1338.000000  1338.000000   1338       1338   \n",
       "unique          NaN     2          NaN          NaN      2          4   \n",
       "top             NaN  male          NaN          NaN     no  southeast   \n",
       "freq            NaN   676          NaN          NaN   1064        364   \n",
       "mean      39.207025   NaN    30.663397     1.094918    NaN        NaN   \n",
       "std       14.049960   NaN     6.098187     1.205493    NaN        NaN   \n",
       "min       18.000000   NaN    15.960000     0.000000    NaN        NaN   \n",
       "25%       27.000000   NaN    26.296250     0.000000    NaN        NaN   \n",
       "50%       39.000000   NaN    30.400000     1.000000    NaN        NaN   \n",
       "75%       51.000000   NaN    34.693750     2.000000    NaN        NaN   \n",
       "max       64.000000   NaN    53.130000     5.000000    NaN        NaN   \n",
       "\n",
       "             charges  \n",
       "count    1338.000000  \n",
       "unique           NaN  \n",
       "top              NaN  \n",
       "freq             NaN  \n",
       "mean    13270.422265  \n",
       "std     12110.011237  \n",
       "min      1121.873900  \n",
       "25%      4740.287150  \n",
       "50%      9382.033000  \n",
       "75%     16639.912515  \n",
       "max     63770.428010  "
      ]
     },
     "execution_count": 6,
     "metadata": {},
     "output_type": "execute_result"
    }
   ],
   "source": [
    "# have a quick overview on the dataframe\n",
    "df.describe(include='all')"
   ]
  },
  {
   "cell_type": "code",
   "execution_count": 7,
   "metadata": {},
   "outputs": [
    {
     "data": {
      "text/plain": [
       "<seaborn.axisgrid.PairGrid at 0x17cbeffa0>"
      ]
     },
     "execution_count": 7,
     "metadata": {},
     "output_type": "execute_result"
    },
    {
     "data": {
      "image/png": "[encoded data removed]",
      "text/plain": [
       "<Figure size 1000x1000 with 20 Axes>"
      ]
     },
     "metadata": {},
     "output_type": "display_data"
    }
   ],
   "source": [
    "sns.pairplot(df, diag_kind='kde')"
   ]
  },
  {
   "cell_type": "code",
   "execution_count": 8,
   "metadata": {},
   "outputs": [
    {
     "data": {
      "image/png": "[encoded data removed]",
      "text/plain": [
       "<Figure size 1200x600 with 4 Axes>"
      ]
     },
     "metadata": {},
     "output_type": "display_data"
    }
   ],
   "source": [
    "dist = ['age', 'bmi', 'children', 'charges']\n",
    "# draw a distribution plot for variables in dist\n",
    "fig, ax = plt.subplots(2, 2, figsize=(12, 6))\n",
    "for i, var in enumerate(dist):\n",
    "    sns.histplot(df[var], ax=ax[i//2, i%2], kde=True, alpha=0.1)"
   ]
  },
  {
   "cell_type": "code",
   "execution_count": 10,
   "metadata": {},
   "outputs": [
    {
     "name": "stdout",
     "output_type": "stream",
     "text": [
      "Outliers in age: 0\n",
      "Outliers in bmi: 9\n",
      "Outliers in children: 0\n",
      "Outliers in charges: 139\n"
     ]
    }
   ],
   "source": [
    "# search for outliers in the dataset\n",
    "for var in dist:\n",
    "    q1 = df[var].quantile(0.25)\n",
    "    q3 = df[var].quantile(0.75)\n",
    "    iqr = q3 - q1\n",
    "    lower_bound = q1 - 1.5 * iqr\n",
    "    upper_bound = q3 + 1.5 * iqr\n",
    "    print(f'Outliers in {var}: {df[(df[var] < lower_bound) | (df[var] > upper_bound)].shape[0]}')"
   ]
  },
  {
   "cell_type": "code",
   "execution_count": 11,
   "metadata": {},
   "outputs": [
    {
     "data": {
      "text/html": [
       "<div>\n",
       "<style scoped>\n",
       "    .dataframe tbody tr th:only-of-type {\n",
       "        vertical-align: middle;\n",
       "    }\n",
       "\n",
       "    .dataframe tbody tr th {\n",
       "        vertical-align: top;\n",
       "    }\n",
       "\n",
       "    .dataframe thead th {\n",
       "        text-align: right;\n",
       "    }\n",
       "</style>\n",
       "<table border=\"1\" class=\"dataframe\">\n",
       "  <thead>\n",
       "    <tr style=\"text-align: right;\">\n",
       "      <th></th>\n",
       "      <th>charges</th>\n",
       "      <th>age</th>\n",
       "      <th>bmi</th>\n",
       "      <th>children</th>\n",
       "    </tr>\n",
       "  </thead>\n",
       "  <tbody>\n",
       "    <tr>\n",
       "      <th>charges</th>\n",
       "      <td>1.000000</td>\n",
       "      <td>0.299008</td>\n",
       "      <td>0.198341</td>\n",
       "      <td>0.067998</td>\n",
       "    </tr>\n",
       "    <tr>\n",
       "      <th>age</th>\n",
       "      <td>0.299008</td>\n",
       "      <td>1.000000</td>\n",
       "      <td>0.109272</td>\n",
       "      <td>0.042469</td>\n",
       "    </tr>\n",
       "    <tr>\n",
       "      <th>bmi</th>\n",
       "      <td>0.198341</td>\n",
       "      <td>0.109272</td>\n",
       "      <td>1.000000</td>\n",
       "      <td>0.012759</td>\n",
       "    </tr>\n",
       "    <tr>\n",
       "      <th>children</th>\n",
       "      <td>0.067998</td>\n",
       "      <td>0.042469</td>\n",
       "      <td>0.012759</td>\n",
       "      <td>1.000000</td>\n",
       "    </tr>\n",
       "  </tbody>\n",
       "</table>\n",
       "</div>"
      ],
      "text/plain": [
       "           charges       age       bmi  children\n",
       "charges   1.000000  0.299008  0.198341  0.067998\n",
       "age       0.299008  1.000000  0.109272  0.042469\n",
       "bmi       0.198341  0.109272  1.000000  0.012759\n",
       "children  0.067998  0.042469  0.012759  1.000000"
      ]
     },
     "execution_count": 11,
     "metadata": {},
     "output_type": "execute_result"
    }
   ],
   "source": [
    "# show the correlation between numerical variables\n",
    "df[['charges', 'age', 'bmi', 'children']].corr()"
   ]
  },
  {
   "cell_type": "code",
   "execution_count": 13,
   "metadata": {},
   "outputs": [
    {
     "data": {
      "text/plain": [
       "<AxesSubplot: xlabel='region', ylabel='charges'>"
      ]
     },
     "execution_count": 13,
     "metadata": {},
     "output_type": "execute_result"
    },
    {
     "data": {
      "image/png": "[encoded data removed]",
      "text/plain": [
       "<Figure size 1900x800 with 3 Axes>"
      ]
     },
     "metadata": {},
     "output_type": "display_data"
    }
   ],
   "source": [
    "fig, ax = plt.subplots(1, 3, figsize=(19, 8))\n",
    "sns.boxplot(x='sex', y='charges', data=df, ax=ax[0])\n",
    "sns.boxplot(x='smoker', y='charges', data=df, ax=ax[1])\n",
    "sns.boxplot(x='region', y='charges', data=df, ax=ax[2])"
   ]
  },
  {
   "cell_type": "code",
   "execution_count": 12,
   "metadata": {},
   "outputs": [
    {
     "data": {
      "text/plain": [
       "<AxesSubplot: xlabel='age', ylabel='charges'>"
      ]
     },
     "execution_count": 12,
     "metadata": {},
     "output_type": "execute_result"
    },
    {
     "data": {
      "image/png": "[encoded data removed]",
      "text/plain": [
       "<Figure size 1200x600 with 1 Axes>"
      ]
     },
     "metadata": {},
     "output_type": "display_data"
    }
   ],
   "source": [
    "# draw boxplot age vs charges\n",
    "fig, ax = plt.subplots(1, 1, figsize=(12, 6))\n",
    "sns.boxplot(x='age', y='charges', data=df, palette='rainbow', showmeans=True)"
   ]
  },
  {
   "cell_type": "code",
   "execution_count": 14,
   "metadata": {},
   "outputs": [
    {
     "data": {
      "text/plain": [
       "<AxesSubplot: >"
      ]
     },
     "execution_count": 14,
     "metadata": {},
     "output_type": "execute_result"
    },
    {
     "data": {
      "image/png": "[encoded data removed]",
      "text/plain": [
       "<Figure size 1200x600 with 2 Axes>"
      ]
     },
     "metadata": {},
     "output_type": "display_data"
    }
   ],
   "source": [
    "#draw boxplot of children and charges side by side\n",
    "\n",
    "fig, ax = plt.subplots(1, 2, figsize=(12, 6))\n",
    "#first draw boxplot of children i\n",
    "sns.boxplot(df['charges'], ax=ax[0], showmeans=True)\n",
    "sns.boxplot(df['children'], ax=ax[1], showmeans=True)"
   ]
  },
  {
   "cell_type": "code",
   "execution_count": 28,
   "metadata": {},
   "outputs": [
    {
     "data": {
      "text/plain": [
       "<AxesSubplot: ylabel='Count'>"
      ]
     },
     "execution_count": 28,
     "metadata": {},
     "output_type": "execute_result"
    },
    {
     "data": {
      "image/png": "[encoded data removed]",
      "text/plain": [
       "<Figure size 1200x500 with 3 Axes>"
      ]
     },
     "metadata": {},
     "output_type": "display_data"
    }
   ],
   "source": [
    "# log transform the charges \n",
    "## not necessary for this dataset and for y variable, but it is a good practice\n",
    "charges_log = np.log(df['charges'])\n",
    "\n",
    "from sklearn.preprocessing import PowerTransformer\n",
    "power_scaler = PowerTransformer(method='yeo-johnson')\n",
    "charges_power = power_scaler.fit_transform(df[['charges']])\n",
    "\n",
    "fig, ax = plt.subplots(1, 3, figsize=(12, 5))\n",
    "sns.histplot(df['charges'], ax=ax[0], kde=True, alpha=0.1)\n",
    "sns.histplot(charges_log, ax=ax[1], kde=True, alpha=0.1)\n",
    "sns.histplot(charges_power, ax=ax[2], kde=True, alpha=0.1)\n"
   ]
  },
  {
   "cell_type": "code",
   "execution_count": 15,
   "metadata": {},
   "outputs": [],
   "source": [
    "# X, y split\n",
    "X = df.drop('charges', axis=1)\n",
    "y = df['charges']\n",
    "\n",
    "# train test validation split\n",
    "X_train, X_test, y_train, y_test = train_test_split(X, y, test_size=0.2, random_state=seed)\n",
    "val_size = 20/80\n",
    "X_train, X_val, y_train, y_val = train_test_split(X_train, y_train, test_size=val_size, random_state=seed)"
   ]
  },
  {
   "cell_type": "code",
   "execution_count": 16,
   "metadata": {},
   "outputs": [],
   "source": [
    "# concatenate X_train with y_train, then X_val with y_val\n",
    "train = pd.concat([X_train, y_train], axis=1)\n",
    "validation = pd.concat([X_val, y_val], axis=1)\n",
    "test = pd.concat([X_test, y_test], axis=1)"
   ]
  },
  {
   "cell_type": "code",
   "execution_count": 220,
   "metadata": {},
   "outputs": [
    {
     "name": "stdout",
     "output_type": "stream",
     "text": [
      "Train shape: (802, 7)\n"
     ]
    },
    {
     "ename": "NameError",
     "evalue": "name 'validation' is not defined",
     "output_type": "error",
     "traceback": [
      "\u001b[0;31m---------------------------------------------------------------------------\u001b[0m",
      "\u001b[0;31mNameError\u001b[0m                                 Traceback (most recent call last)",
      "Cell \u001b[0;32mIn[220], line 2\u001b[0m\n\u001b[1;32m      1\u001b[0m \u001b[39mprint\u001b[39m(\u001b[39mf\u001b[39m\u001b[39m'\u001b[39m\u001b[39mTrain shape: \u001b[39m\u001b[39m{\u001b[39;00mtrain\u001b[39m.\u001b[39mshape\u001b[39m}\u001b[39;00m\u001b[39m'\u001b[39m)\n\u001b[0;32m----> 2\u001b[0m \u001b[39mprint\u001b[39m(\u001b[39mf\u001b[39m\u001b[39m'\u001b[39m\u001b[39mValidation shape: \u001b[39m\u001b[39m{\u001b[39;00mvalidation\u001b[39m.\u001b[39mshape\u001b[39m}\u001b[39;00m\u001b[39m'\u001b[39m)\n\u001b[1;32m      3\u001b[0m \u001b[39mprint\u001b[39m(\u001b[39mf\u001b[39m\u001b[39m'\u001b[39m\u001b[39mTest shape: \u001b[39m\u001b[39m{\u001b[39;00mtest\u001b[39m.\u001b[39mshape\u001b[39m}\u001b[39;00m\u001b[39m'\u001b[39m)\n",
      "\u001b[0;31mNameError\u001b[0m: name 'validation' is not defined"
     ]
    }
   ],
   "source": [
    "print(f'Train shape: {train.shape}')\n",
    "print(f'Validation shape: {validation.shape}')\n",
    "print(f'Test shape: {test.shape}')\n"
   ]
  },
  {
   "cell_type": "code",
   "execution_count": 18,
   "metadata": {},
   "outputs": [],
   "source": [
    "# save the dataframes to csv\n",
    "train.to_csv('datasets/train.csv', index=False)\n",
    "validation.to_csv('datasets/validation.csv', index=False)\n",
    "test.to_csv('datasets/test.csv', index=False)"
   ]
  },
  {
   "attachments": {},
   "cell_type": "markdown",
   "metadata": {},
   "source": [
    "<h1>Data Loading and data wrangling"
   ]
  },
  {
   "cell_type": "code",
   "execution_count": 2,
   "metadata": {},
   "outputs": [],
   "source": [
    "# reload the dataframes and stack them\n",
    "train = pd.read_csv('data/train.csv')\n",
    "val = pd.read_csv('data/valid.csv')\n",
    "test = pd.read_csv('data/test.csv')\n",
    "\n",
    "df_stacked = pd.concat([train, val, test], axis=0)\n"
   ]
  },
  {
   "cell_type": "code",
   "execution_count": 3,
   "metadata": {},
   "outputs": [],
   "source": [
    "# label encode function\n",
    "\n",
    "def labelEncoder(df):\n",
    "    # create a copy of the dataframe\n",
    "    df_labelEncoded = df.copy()\n",
    "    for col in df.columns:\n",
    "        if df.dtypes[col] == \"object\":\n",
    "            df_labelEncoded[col] = LabelEncoder().fit_transform(df[col])\n",
    "    return df_labelEncoded\n",
    "\n",
    "df_labelEncoded = labelEncoder(df_stacked)"
   ]
  },
  {
   "cell_type": "code",
   "execution_count": 4,
   "metadata": {},
   "outputs": [],
   "source": [
    "# one hot encode function\n",
    "\n",
    "def ohe(df):\n",
    "    columns = [i for i in df.columns if df[i].dtype.name == 'object']\n",
    "    df_ohe = pd.get_dummies(df, columns=columns, prefix=columns)\n",
    "    return df_ohe\n",
    "\n",
    "df_ohe = ohe(df_stacked)"
   ]
  },
  {
   "cell_type": "code",
   "execution_count": 5,
   "metadata": {},
   "outputs": [
    {
     "name": "stderr",
     "output_type": "stream",
     "text": [
      "/var/folders/m_/_mwt902x1z595k65b7qf743m0000gn/T/ipykernel_10471/3114378571.py:8: SettingWithCopyWarning: \n",
      "A value is trying to be set on a copy of a slice from a DataFrame.\n",
      "Try using .loc[row_indexer,col_indexer] = value instead\n",
      "\n",
      "See the caveats in the documentation: https://pandas.pydata.org/pandas-docs/stable/user_guide/indexing.html#returning-a-view-versus-a-copy\n",
      "  train.loc[:, cols_for_scaling] = scaler1.fit_transform(train.loc[:,cols_for_scaling])\n",
      "/var/folders/m_/_mwt902x1z595k65b7qf743m0000gn/T/ipykernel_10471/3114378571.py:9: SettingWithCopyWarning: \n",
      "A value is trying to be set on a copy of a slice from a DataFrame.\n",
      "Try using .loc[row_indexer,col_indexer] = value instead\n",
      "\n",
      "See the caveats in the documentation: https://pandas.pydata.org/pandas-docs/stable/user_guide/indexing.html#returning-a-view-versus-a-copy\n",
      "  val.loc[:, cols_for_scaling] = scaler1.transform(val.loc[:,cols_for_scaling])\n",
      "/var/folders/m_/_mwt902x1z595k65b7qf743m0000gn/T/ipykernel_10471/3114378571.py:10: SettingWithCopyWarning: \n",
      "A value is trying to be set on a copy of a slice from a DataFrame.\n",
      "Try using .loc[row_indexer,col_indexer] = value instead\n",
      "\n",
      "See the caveats in the documentation: https://pandas.pydata.org/pandas-docs/stable/user_guide/indexing.html#returning-a-view-versus-a-copy\n",
      "  test.loc[:, cols_for_scaling] = scaler1.transform(test.loc[:,cols_for_scaling])\n",
      "/var/folders/m_/_mwt902x1z595k65b7qf743m0000gn/T/ipykernel_10471/3114378571.py:8: SettingWithCopyWarning: \n",
      "A value is trying to be set on a copy of a slice from a DataFrame.\n",
      "Try using .loc[row_indexer,col_indexer] = value instead\n",
      "\n",
      "See the caveats in the documentation: https://pandas.pydata.org/pandas-docs/stable/user_guide/indexing.html#returning-a-view-versus-a-copy\n",
      "  train.loc[:, cols_for_scaling] = scaler1.fit_transform(train.loc[:,cols_for_scaling])\n",
      "/var/folders/m_/_mwt902x1z595k65b7qf743m0000gn/T/ipykernel_10471/3114378571.py:9: SettingWithCopyWarning: \n",
      "A value is trying to be set on a copy of a slice from a DataFrame.\n",
      "Try using .loc[row_indexer,col_indexer] = value instead\n",
      "\n",
      "See the caveats in the documentation: https://pandas.pydata.org/pandas-docs/stable/user_guide/indexing.html#returning-a-view-versus-a-copy\n",
      "  val.loc[:, cols_for_scaling] = scaler1.transform(val.loc[:,cols_for_scaling])\n",
      "/var/folders/m_/_mwt902x1z595k65b7qf743m0000gn/T/ipykernel_10471/3114378571.py:10: SettingWithCopyWarning: \n",
      "A value is trying to be set on a copy of a slice from a DataFrame.\n",
      "Try using .loc[row_indexer,col_indexer] = value instead\n",
      "\n",
      "See the caveats in the documentation: https://pandas.pydata.org/pandas-docs/stable/user_guide/indexing.html#returning-a-view-versus-a-copy\n",
      "  test.loc[:, cols_for_scaling] = scaler1.transform(test.loc[:,cols_for_scaling])\n"
     ]
    }
   ],
   "source": [
    "# split the dataframes into train, val, test and fit transform the numerical variables\n",
    "cols_for_scaling = ['age', 'bmi', 'children']\n",
    "\n",
    "def split_and_transform(df,cols_for_scaling=cols_for_scaling, train=train, val=val, test=test, scaler1 = MinMaxScaler(), scaler2 = StandardScaler()):\n",
    "    train=df.iloc[:len(train)]\n",
    "    val=df.iloc[len(train):len(train)+len(val)]\n",
    "    test=df.iloc[len(train)+len(val):]\n",
    "    train.loc[:, cols_for_scaling] = scaler1.fit_transform(train.loc[:,cols_for_scaling])\n",
    "    val.loc[:, cols_for_scaling] = scaler1.transform(val.loc[:,cols_for_scaling])\n",
    "    test.loc[:, cols_for_scaling] = scaler1.transform(test.loc[:,cols_for_scaling])\n",
    "    return train, val, test\n",
    "\n",
    "train_le, val_le, test_le = split_and_transform(df_labelEncoded, scaler1=MinMaxScaler(), scaler2=MinMaxScaler())\n",
    "train_ohe, val_ohe, test_ohe = split_and_transform(df_ohe, scaler1=MinMaxScaler(), scaler2=MinMaxScaler())"
   ]
  },
  {
   "cell_type": "code",
   "execution_count": 6,
   "metadata": {},
   "outputs": [
    {
     "name": "stderr",
     "output_type": "stream",
     "text": [
      "/var/folders/m_/_mwt902x1z595k65b7qf743m0000gn/T/ipykernel_10471/1578026204.py:2: SettingWithCopyWarning: \n",
      "A value is trying to be set on a copy of a slice from a DataFrame.\n",
      "Try using .loc[row_indexer,col_indexer] = value instead\n",
      "\n",
      "See the caveats in the documentation: https://pandas.pydata.org/pandas-docs/stable/user_guide/indexing.html#returning-a-view-versus-a-copy\n",
      "  train_le['charges'] = np.log(train_le['charges'])\n",
      "/var/folders/m_/_mwt902x1z595k65b7qf743m0000gn/T/ipykernel_10471/1578026204.py:3: SettingWithCopyWarning: \n",
      "A value is trying to be set on a copy of a slice from a DataFrame.\n",
      "Try using .loc[row_indexer,col_indexer] = value instead\n",
      "\n",
      "See the caveats in the documentation: https://pandas.pydata.org/pandas-docs/stable/user_guide/indexing.html#returning-a-view-versus-a-copy\n",
      "  val_le['charges'] = np.log(val_le['charges'])\n",
      "/var/folders/m_/_mwt902x1z595k65b7qf743m0000gn/T/ipykernel_10471/1578026204.py:4: SettingWithCopyWarning: \n",
      "A value is trying to be set on a copy of a slice from a DataFrame.\n",
      "Try using .loc[row_indexer,col_indexer] = value instead\n",
      "\n",
      "See the caveats in the documentation: https://pandas.pydata.org/pandas-docs/stable/user_guide/indexing.html#returning-a-view-versus-a-copy\n",
      "  test_le['charges'] = np.log(test_le['charges'])\n",
      "/var/folders/m_/_mwt902x1z595k65b7qf743m0000gn/T/ipykernel_10471/1578026204.py:6: SettingWithCopyWarning: \n",
      "A value is trying to be set on a copy of a slice from a DataFrame.\n",
      "Try using .loc[row_indexer,col_indexer] = value instead\n",
      "\n",
      "See the caveats in the documentation: https://pandas.pydata.org/pandas-docs/stable/user_guide/indexing.html#returning-a-view-versus-a-copy\n",
      "  train_ohe['charges'] = np.log(train_ohe['charges'])\n",
      "/var/folders/m_/_mwt902x1z595k65b7qf743m0000gn/T/ipykernel_10471/1578026204.py:7: SettingWithCopyWarning: \n",
      "A value is trying to be set on a copy of a slice from a DataFrame.\n",
      "Try using .loc[row_indexer,col_indexer] = value instead\n",
      "\n",
      "See the caveats in the documentation: https://pandas.pydata.org/pandas-docs/stable/user_guide/indexing.html#returning-a-view-versus-a-copy\n",
      "  val_ohe['charges'] = np.log(val_ohe['charges'])\n",
      "/var/folders/m_/_mwt902x1z595k65b7qf743m0000gn/T/ipykernel_10471/1578026204.py:8: SettingWithCopyWarning: \n",
      "A value is trying to be set on a copy of a slice from a DataFrame.\n",
      "Try using .loc[row_indexer,col_indexer] = value instead\n",
      "\n",
      "See the caveats in the documentation: https://pandas.pydata.org/pandas-docs/stable/user_guide/indexing.html#returning-a-view-versus-a-copy\n",
      "  test_ohe['charges'] = np.log(test_ohe['charges'])\n"
     ]
    }
   ],
   "source": [
    "# optionally, log transform the y variables\n",
    "train_le['charges'] = np.log(train_le['charges'])\n",
    "val_le['charges'] = np.log(val_le['charges'])\n",
    "test_le['charges'] = np.log(test_le['charges'])\n",
    "\n",
    "train_ohe['charges'] = np.log(train_ohe['charges'])\n",
    "val_ohe['charges'] = np.log(val_ohe['charges'])\n",
    "test_ohe['charges'] = np.log(test_ohe['charges'])\n"
   ]
  },
  {
   "cell_type": "code",
   "execution_count": 7,
   "metadata": {},
   "outputs": [],
   "source": [
    "# create dataset class for all the dataframes\n",
    "class InsuranceDataset(torch.utils.data.Dataset):\n",
    "    def __init__(self, df):\n",
    "        self.df = df\n",
    "        self.X = df.drop('charges', axis=1)\n",
    "        self.y = df['charges']\n",
    "        self.X = torch.tensor(self.X.values, dtype=torch.float)\n",
    "        self.y = torch.tensor(self.y.values, dtype=torch.float)\n",
    "        \n",
    "    def __len__(self):\n",
    "        return len(self.df)\n",
    "    \n",
    "    def __getitem__(self, idx):\n",
    "        return self.X[idx], self.y[idx]\n",
    "\n",
    "    def __shape__(self):\n",
    "        return self.X.shape, self.y.shape  "
   ]
  },
  {
   "cell_type": "code",
   "execution_count": 8,
   "metadata": {},
   "outputs": [],
   "source": [
    "train_ohe_dataset = InsuranceDataset(train_ohe)\n",
    "val_ohe_dataset = InsuranceDataset(val_ohe)\n",
    "test_ohe_dataset = InsuranceDataset(test_ohe)"
   ]
  },
  {
   "cell_type": "code",
   "execution_count": 9,
   "metadata": {},
   "outputs": [],
   "source": [
    "train_le_dataset = InsuranceDataset(train_le)\n",
    "val_le_dataset = InsuranceDataset(val_le)\n",
    "test_le_dataset = InsuranceDataset(test_le)"
   ]
  },
  {
   "cell_type": "code",
   "execution_count": 10,
   "metadata": {},
   "outputs": [],
   "source": [
    "# define the hidden layer for the model, so that it can be reused\n",
    "def hidden_layer(in_f, out_f):\n",
    "    return nn.Sequential(\n",
    "        nn.Linear(in_f, out_f),\n",
    "        nn.ReLU()\n",
    "    )\n",
    "\n",
    "# define the model\n",
    "class RegressionModel(pl.LightningModule):\n",
    "    def __init__(self, layers, num_neurons, batch_size, learning_rate, train_dataset, val_dataset, test_dataset):\n",
    "        super().__init__()\n",
    "        self.learning_rate = learning_rate\n",
    "        self.batch_size = batch_size\n",
    "        self.train_dataset = train_dataset\n",
    "        self.val_dataset = val_dataset\n",
    "        self.test_dataset = test_dataset\n",
    "        input_neurons = train_dataset.X.shape[1]\n",
    "        self.num_neurons = num_neurons\n",
    "        hidden = [hidden_layer(num_neurons, num_neurons) for _ in range(layers)]              \n",
    "        self.input = nn.Linear(input_neurons, num_neurons)\n",
    "        self.hidden = nn.Sequential(*hidden)\n",
    "        self.output = nn.Linear(num_neurons, 1)\n",
    "        self.relu = nn.ReLU()\n",
    "        self.save_hyperparameters()\n",
    "\n",
    "    def forward(self, x):\n",
    "        x = self.input(x)\n",
    "        x = self.relu(x)\n",
    "        x = self.hidden(x)\n",
    "        x = self.output(x)\n",
    "        return x\n",
    "\n",
    "    def training_step(self, batch, batch_idx):\n",
    "        x, y = batch\n",
    "        y_hat = self.forward(x).squeeze(dim=1)\n",
    "        loss = F.mse_loss(y_hat, y)\n",
    "        self.log('train_loss', loss)\n",
    "        return {'loss': loss}\n",
    "\n",
    "    def validation_step(self, batch, batch_idx):\n",
    "        x, y = batch\n",
    "        y_hat = self.forward(x).squeeze(dim=1)\n",
    "        # reverse the log transform\n",
    "        y_hat_reversed = torch.exp(y_hat)\n",
    "        y_reversed = torch.exp(y)\n",
    "        loss_reversed = F.mse_loss(y_hat_reversed, y_reversed)\n",
    "        loss = F.mse_loss(y_hat, y)\n",
    "        self.log('val_loss', loss)\n",
    "        self.log('val_loss_reversed', loss_reversed)\n",
    "        return {'val_loss': loss, 'val_loss_reversed': loss_reversed}\n",
    "\n",
    "    def test_step(self, batch, batch_idx):\n",
    "        x, y = batch\n",
    "        y_reversed = torch.exp(y)\n",
    "        y_hat = self(x).squeeze(dim=1)\n",
    "        y_hat_reversed = torch.exp(y_hat)\n",
    "        loss = F.mse_loss(y_hat, y)\n",
    "        loss_reversed = F.mse_loss(y_hat_reversed, y_reversed)\n",
    "        self.log('test_loss', loss)\n",
    "        self.log('test_loss_reversed', loss_reversed)\n",
    "        return {'test_loss': loss}\n",
    "\n",
    "    def validation_epoch_end(self, validation_step_outputs):\n",
    "        avg_loss = torch.stack([x['val_loss'] for x in validation_step_outputs]).mean()\n",
    "        self.log('avg_val_loss', avg_loss)\n",
    "        return {'avg_val_loss': avg_loss}\n",
    "\n",
    "    def configure_optimizers(self):\n",
    "        return torch.optim.Adam(self.parameters(), lr=self.learning_rate)\n",
    "\n",
    "    def train_dataloader(self):\n",
    "        return torch.utils.data.DataLoader(self.train_dataset, batch_size=self.batch_size, num_workers=0)\n",
    "\n",
    "    def val_dataloader(self):\n",
    "        return torch.utils.data.DataLoader(self.val_dataset, batch_size=self.batch_size, num_workers=0)\n",
    "\n",
    "    def test_dataloader(self):\n",
    "        return torch.utils.data.DataLoader(self.test_dataset, batch_size=self.batch_size, num_workers=0)"
   ]
  },
  {
   "cell_type": "code",
   "execution_count": 11,
   "metadata": {},
   "outputs": [
    {
     "name": "stdout",
     "output_type": "stream",
     "text": [
      "region has 4 unique values\n",
      "embedding sizes: [(4, 2)]\n"
     ]
    }
   ],
   "source": [
    "    ## categorical embedding using embedding space\n",
    "\n",
    "    # determining the columns that need to be embedded\n",
    "    embedded_cols = {}\n",
    "    for n, col in enumerate(train.columns):\n",
    "        # count the unqie values in each column, if column is of type object and has more than 2 unique values, add it to the dictioary\n",
    "        if train.dtypes[col] == 'object':\n",
    "            if train[col].nunique() > 2:\n",
    "                embedded_cols = {col: train[col].nunique()}\n",
    "                print(f'{col} has {train[col].nunique()} unique values')\n",
    "    # calculate the embedding sizes\n",
    "    embedding_sizes = [(n_categories, min(50, (n_categories+1)//2)) for _,n_categories in embedded_cols.items()]\n",
    "    print(f'embedding sizes: {embedding_sizes}')\n"
   ]
  },
  {
   "cell_type": "code",
   "execution_count": 19,
   "metadata": {},
   "outputs": [
    {
     "data": {
      "text/plain": [
       "(tensor([0.6957, 0.0000, 0.4844, 0.8000, 0.0000]), tensor([3]), tensor(9.3325))"
      ]
     },
     "execution_count": 19,
     "metadata": {},
     "output_type": "execute_result"
    }
   ],
   "source": [
    "train_dataset[0]"
   ]
  },
  {
   "cell_type": "code",
   "execution_count": 17,
   "metadata": {},
   "outputs": [
    {
     "data": {
      "text/plain": [
       "(tensor([0.3913, 0.0000, 0.3217, 0.0000, 0.0000, 0.0000]), tensor(8.6069))"
      ]
     },
     "execution_count": 17,
     "metadata": {},
     "output_type": "execute_result"
    }
   ],
   "source": [
    "\n",
    "train_le_dataset[3]"
   ]
  },
  {
   "cell_type": "code",
   "execution_count": 15,
   "metadata": {},
   "outputs": [
    {
     "data": {
      "text/plain": [
       "dict_keys(['region'])"
      ]
     },
     "execution_count": 15,
     "metadata": {},
     "output_type": "execute_result"
    }
   ],
   "source": [
    "embedded_cols.keys()"
   ]
  },
  {
   "cell_type": "code",
   "execution_count": 50,
   "metadata": {},
   "outputs": [
    {
     "name": "stderr",
     "output_type": "stream",
     "text": [
      "/var/folders/m_/_mwt902x1z595k65b7qf743m0000gn/T/ipykernel_10471/70810927.py:5: FutureWarning: Passing a dict as an indexer is deprecated and will raise in a future version. Use a list instead.\n",
      "  self.X_embedded1 = self.X.loc[:,embedded_cols]\n",
      "/var/folders/m_/_mwt902x1z595k65b7qf743m0000gn/T/ipykernel_10471/70810927.py:5: FutureWarning: Passing a dict as an indexer is deprecated and will raise in a future version. Use a list instead.\n",
      "  self.X_embedded1 = self.X.loc[:,embedded_cols]\n"
     ]
    }
   ],
   "source": [
    "##  testing for the regressionEmbeddedModel\n",
    "# load the data\n",
    "train_dataset = InsuranceEmbeddedDataset(train_le, embedded_cols=embedded_cols)\n",
    "val_dataset = InsuranceEmbeddedDataset(val_le, embedded_cols=embedded_cols)\n",
    "test_dataset = InsuranceEmbeddedDataset(test_le)"
   ]
  },
  {
   "cell_type": "code",
   "execution_count": 51,
   "metadata": {},
   "outputs": [],
   "source": [
    "# create dataset class for embedding layer model\n",
    "class InsuranceEmbeddedDataset(torch.utils.data.Dataset):\n",
    "    def __init__(self, df, embedded_cols=embedded_cols.keys()):\n",
    "        self.X = df.drop('charges', axis=1)\n",
    "        self.X_embedded1 = self.X.loc[:,embedded_cols]\n",
    "        self.X_nummerical = self.X.drop(columns=embedded_cols, axis=1)\n",
    "        self.y = df['charges']\n",
    "        self.X_nummerical = torch.tensor(self.X_nummerical.values, dtype=torch.float)\n",
    "        self.X_embedded = torch.tensor(self.X_embedded1.values, device='cpu', dtype=torch.int64)\n",
    "        self.y = torch.tensor(self.y.values, dtype=torch.float)\n",
    "        \n",
    "    def __len__(self):\n",
    "        return len(self.X)\n",
    "    \n",
    "    def __getitem__(self, idx):\n",
    "        return self.X_nummerical[idx], self.X_embedded[idx], self.y[idx]\n",
    "\n",
    "    def __shape__(self):\n",
    "        return self.X.shape, self.y.shape  \n",
    "\n",
    "# define the hidden layer for the model, so that it can be reused\n",
    "def hidden_layer_batchnorm(in_f, out_f, dropout_num):\n",
    "    return nn.Sequential(\n",
    "        nn.Linear(in_f, out_f),\n",
    "        nn.Dropout(dropout_num),\n",
    "        nn.BatchNorm1d(out_f),\n",
    "        nn.ReLU()\n",
    "    )\n",
    "\n",
    "# define the model\n",
    "class RegressionEmbeddedModel(pl.LightningModule):\n",
    "    def __init__(self, layers, num_neurons, batch_size, learning_rate, train_dataset, val_dataset, test_dataset, dropout_emb, dropout_num, embedding_sizes=embedding_sizes):\n",
    "        super().__init__()\n",
    "        self.embeddings = nn.ModuleList([nn.Embedding(ni, nf) for ni,nf in embedding_sizes])\n",
    "        n_emb = sum(e.embedding_dim for e in self.embeddings) #length of all embeddings combined\n",
    "        self.n_emb, self.n_cont = n_emb, train_dataset.X_nummerical.shape[1]\n",
    "\n",
    "        input_nummerical = train_dataset.X_nummerical.shape[1]\n",
    "        hidden = [hidden_layer_batchnorm(num_neurons, num_neurons, dropout_num) for _ in range(layers)]              \n",
    "        self.input = nn.Linear(input_nummerical + self.n_emb, num_neurons)\n",
    "        self.hidden = nn.Sequential(*hidden)\n",
    "        self.output = nn.Linear(num_neurons, 1)\n",
    "\n",
    "        self.bn_input = nn.BatchNorm1d(input_nummerical)\n",
    "        self.drops = nn.Dropout(dropout_num)\n",
    "        self.drops_emb = nn.Dropout(dropout_emb)\n",
    "        self.relu = nn.ReLU()\n",
    "\n",
    "        self.learning_rate = learning_rate\n",
    "        self.batch_size = batch_size\n",
    "        self.train_dataset = train_dataset\n",
    "        self.val_dataset = val_dataset\n",
    "        self.test_dataset = test_dataset\n",
    "        self.num_neurons = num_neurons\n",
    "\n",
    "        self.save_hyperparameters()\n",
    "\n",
    "    def forward(self, X_nummerical, X_embedded):\n",
    "        x = [e(X_embedded[:,i]) for i,e in enumerate(self.embeddings)]\n",
    "        x = torch.cat(x, 1)\n",
    "        x = self.drops_emb(x)\n",
    "        #x2 = self.bn_input(X_nummerical)\n",
    "        x2 = X_nummerical\n",
    "        x = torch.cat([x, x2], 1)\n",
    "        #suggestion from chatgpt\n",
    "        x = x.view(x.shape[0], -1)\n",
    "        x = self.input(x)\n",
    "        x = self.relu(x)\n",
    "        x = self.drops(x)\n",
    "        x = self.hidden(x)\n",
    "        x = self.output(x)\n",
    "        return x\n",
    "\n",
    "    def training_step(self, batch, batch_idx):\n",
    "        X_nummerical, X_embedded, y = batch\n",
    "        x2 = X_embedded\n",
    "        x = X_nummerical\n",
    "        y_hat = self.forward(x, x2).squeeze(dim=1)\n",
    "        loss = F.mse_loss(y_hat, y)\n",
    "        self.log('train_loss', loss)\n",
    "        return {'loss': loss}\n",
    "\n",
    "    def validation_step(self, batch, batch_idx):\n",
    "        X_nummerical, X_embedded, y = batch\n",
    "        x = X_embedded\n",
    "        x2 = X_nummerical\n",
    "        y_hat = self.forward(x, x2).squeeze(dim=1)\n",
    "        # reverse the log transform\n",
    "        y_hat_reversed = torch.exp(y_hat)\n",
    "        y_reversed = torch.exp(y)\n",
    "        loss_reversed = F.mse_loss(y_hat_reversed, y_reversed)\n",
    "        loss = F.mse_loss(y_hat, y)\n",
    "        self.log('val_loss', loss)\n",
    "        self.log('val_loss_reversed', loss_reversed)\n",
    "        return {'val_loss': loss, 'val_loss_reversed': loss_reversed}\n",
    "\n",
    "    def test_step(self, batch, batch_idx):\n",
    "        X_nummerical, X_embedded, y = batch\n",
    "        x = X_embedded\n",
    "        x2 = X_nummerical\n",
    "        y_reversed = torch.exp(y)\n",
    "        y_hat = self(x, x2).squeeze(dim=1)\n",
    "        y_hat_reversed = torch.exp(y_hat)\n",
    "        loss = F.mse_loss(y_hat, y)\n",
    "        loss_reversed = F.mse_loss(y_hat_reversed, y_reversed)\n",
    "        self.log('test_loss', loss)\n",
    "        self.log('test_loss_reversed', loss_reversed)\n",
    "        return {'test_loss': loss}\n",
    "\n",
    "    def validation_epoch_end(self, validation_step_outputs):\n",
    "        avg_loss = torch.stack([x['val_loss'] for x in validation_step_outputs]).mean()\n",
    "        self.log('avg_val_loss', avg_loss)\n",
    "        return {'avg_val_loss': avg_loss}\n",
    "\n",
    "    def configure_optimizers(self):\n",
    "        return torch.optim.Adam(self.parameters(), lr=self.learning_rate)\n",
    "\n",
    "    def train_dataloader(self):\n",
    "        return torch.utils.data.DataLoader(self.train_dataset, batch_size=self.batch_size, num_workers=0)\n",
    "\n",
    "    def val_dataloader(self):\n",
    "        return torch.utils.data.DataLoader(self.val_dataset, batch_size=self.batch_size, num_workers=0)\n",
    "\n",
    "    def test_dataloader(self):\n",
    "        return torch.utils.data.DataLoader(self.test_dataset, batch_size=self.batch_size, num_workers=0)"
   ]
  },
  {
   "cell_type": "code",
   "execution_count": 52,
   "metadata": {},
   "outputs": [
    {
     "name": "stderr",
     "output_type": "stream",
     "text": [
      "GPU available: True (mps), used: False\n",
      "TPU available: False, using: 0 TPU cores\n",
      "IPU available: False, using: 0 IPUs\n",
      "HPU available: False, using: 0 HPUs\n",
      "/Users/lsacy/opt/miniconda3/envs/clcnlu/lib/python3.8/site-packages/pytorch_lightning/trainer/setup.py:200: UserWarning: MPS available but not used. Set `accelerator` and `devices` using `Trainer(accelerator='mps', devices=1)`.\n",
      "  rank_zero_warn(\n",
      "/Users/lsacy/opt/miniconda3/envs/clcnlu/lib/python3.8/site-packages/pytorch_lightning/utilities/parsing.py:101: UserWarning: attribute 'train_dataset' removed from hparams because it cannot be pickled\n",
      "  rank_zero_warn(f\"attribute '{k}' removed from hparams because it cannot be pickled\")\n",
      "/Users/lsacy/opt/miniconda3/envs/clcnlu/lib/python3.8/site-packages/pytorch_lightning/utilities/parsing.py:101: UserWarning: attribute 'val_dataset' removed from hparams because it cannot be pickled\n",
      "  rank_zero_warn(f\"attribute '{k}' removed from hparams because it cannot be pickled\")\n",
      "/Users/lsacy/opt/miniconda3/envs/clcnlu/lib/python3.8/site-packages/pytorch_lightning/utilities/parsing.py:101: UserWarning: attribute 'test_dataset' removed from hparams because it cannot be pickled\n",
      "  rank_zero_warn(f\"attribute '{k}' removed from hparams because it cannot be pickled\")\n",
      "\n",
      "  | Name       | Type        | Params\n",
      "-------------------------------------------\n",
      "0 | embeddings | ModuleList  | 8     \n",
      "1 | input      | Linear      | 256   \n",
      "2 | hidden     | Sequential  | 2.2 K \n",
      "3 | output     | Linear      | 33    \n",
      "4 | bn_input   | BatchNorm1d | 10    \n",
      "5 | drops      | Dropout     | 0     \n",
      "6 | drops_emb  | Dropout     | 0     \n",
      "7 | relu       | ReLU        | 0     \n",
      "-------------------------------------------\n",
      "2.5 K     Trainable params\n",
      "0         Non-trainable params\n",
      "2.5 K     Total params\n",
      "0.010     Total estimated model params size (MB)\n"
     ]
    },
    {
     "name": "stdout",
     "output_type": "stream",
     "text": [
      "Sanity Checking DataLoader 0:   0%|          | 0/2 [00:00<?, ?it/s]"
     ]
    },
    {
     "name": "stderr",
     "output_type": "stream",
     "text": [
      "/Users/lsacy/opt/miniconda3/envs/clcnlu/lib/python3.8/site-packages/pytorch_lightning/trainer/connectors/data_connector.py:224: PossibleUserWarning: The dataloader, val_dataloader 0, does not have many workers which may be a bottleneck. Consider increasing the value of the `num_workers` argument` (try 8 which is the number of cpus on this machine) in the `DataLoader` init to improve performance.\n",
      "  rank_zero_warn(\n"
     ]
    },
    {
     "ename": "RuntimeError",
     "evalue": "Expected tensor for argument #1 'indices' to have one of the following scalar types: Long, Int; but got torch.FloatTensor instead (while checking arguments for embedding)",
     "output_type": "error",
     "traceback": [
      "\u001b[0;31m---------------------------------------------------------------------------\u001b[0m",
      "\u001b[0;31mRuntimeError\u001b[0m                              Traceback (most recent call last)",
      "Cell \u001b[0;32mIn[52], line 10\u001b[0m\n\u001b[1;32m      5\u001b[0m model \u001b[39m=\u001b[39m RegressionEmbeddedModel(num_neurons\u001b[39m=\u001b[39m\u001b[39m32\u001b[39m, layers\u001b[39m=\u001b[39m\u001b[39m2\u001b[39m, learning_rate\u001b[39m=\u001b[39m\u001b[39m0.005\u001b[39m, batch_size\u001b[39m=\u001b[39m\u001b[39m32\u001b[39m, \n\u001b[1;32m      6\u001b[0m                                 train_dataset\u001b[39m=\u001b[39mtrain_dataset, val_dataset\u001b[39m=\u001b[39mval_dataset, test_dataset\u001b[39m=\u001b[39mtest_dataset,\n\u001b[1;32m      7\u001b[0m                                 dropout_emb\u001b[39m=\u001b[39m\u001b[39m0.1\u001b[39m, dropout_num\u001b[39m=\u001b[39m\u001b[39m0.1\u001b[39m)\n\u001b[1;32m      9\u001b[0m trainer \u001b[39m=\u001b[39m pl\u001b[39m.\u001b[39mTrainer(accelerator\u001b[39m=\u001b[39m\u001b[39mNone\u001b[39;00m, devices\u001b[39m=\u001b[39m\u001b[39m1\u001b[39m, max_epochs\u001b[39m=\u001b[39m\u001b[39m50\u001b[39m, logger\u001b[39m=\u001b[39mlogger, fast_dev_run\u001b[39m=\u001b[39m\u001b[39mFalse\u001b[39;00m)\n\u001b[0;32m---> 10\u001b[0m trainer\u001b[39m.\u001b[39;49mfit(model)\n",
      "File \u001b[0;32m~/opt/miniconda3/envs/clcnlu/lib/python3.8/site-packages/pytorch_lightning/trainer/trainer.py:603\u001b[0m, in \u001b[0;36mTrainer.fit\u001b[0;34m(self, model, train_dataloaders, val_dataloaders, datamodule, ckpt_path)\u001b[0m\n\u001b[1;32m    601\u001b[0m     \u001b[39mraise\u001b[39;00m \u001b[39mTypeError\u001b[39;00m(\u001b[39mf\u001b[39m\u001b[39m\"\u001b[39m\u001b[39m`Trainer.fit()` requires a `LightningModule`, got: \u001b[39m\u001b[39m{\u001b[39;00mmodel\u001b[39m.\u001b[39m\u001b[39m__class__\u001b[39m\u001b[39m.\u001b[39m\u001b[39m__qualname__\u001b[39m\u001b[39m}\u001b[39;00m\u001b[39m\"\u001b[39m)\n\u001b[1;32m    602\u001b[0m \u001b[39mself\u001b[39m\u001b[39m.\u001b[39mstrategy\u001b[39m.\u001b[39m_lightning_module \u001b[39m=\u001b[39m model\n\u001b[0;32m--> 603\u001b[0m call\u001b[39m.\u001b[39;49m_call_and_handle_interrupt(\n\u001b[1;32m    604\u001b[0m     \u001b[39mself\u001b[39;49m, \u001b[39mself\u001b[39;49m\u001b[39m.\u001b[39;49m_fit_impl, model, train_dataloaders, val_dataloaders, datamodule, ckpt_path\n\u001b[1;32m    605\u001b[0m )\n",
      "File \u001b[0;32m~/opt/miniconda3/envs/clcnlu/lib/python3.8/site-packages/pytorch_lightning/trainer/call.py:38\u001b[0m, in \u001b[0;36m_call_and_handle_interrupt\u001b[0;34m(trainer, trainer_fn, *args, **kwargs)\u001b[0m\n\u001b[1;32m     36\u001b[0m         \u001b[39mreturn\u001b[39;00m trainer\u001b[39m.\u001b[39mstrategy\u001b[39m.\u001b[39mlauncher\u001b[39m.\u001b[39mlaunch(trainer_fn, \u001b[39m*\u001b[39margs, trainer\u001b[39m=\u001b[39mtrainer, \u001b[39m*\u001b[39m\u001b[39m*\u001b[39mkwargs)\n\u001b[1;32m     37\u001b[0m     \u001b[39melse\u001b[39;00m:\n\u001b[0;32m---> 38\u001b[0m         \u001b[39mreturn\u001b[39;00m trainer_fn(\u001b[39m*\u001b[39;49margs, \u001b[39m*\u001b[39;49m\u001b[39m*\u001b[39;49mkwargs)\n\u001b[1;32m     40\u001b[0m \u001b[39mexcept\u001b[39;00m _TunerExitException:\n\u001b[1;32m     41\u001b[0m     trainer\u001b[39m.\u001b[39m_call_teardown_hook()\n",
      "File \u001b[0;32m~/opt/miniconda3/envs/clcnlu/lib/python3.8/site-packages/pytorch_lightning/trainer/trainer.py:645\u001b[0m, in \u001b[0;36mTrainer._fit_impl\u001b[0;34m(self, model, train_dataloaders, val_dataloaders, datamodule, ckpt_path)\u001b[0m\n\u001b[1;32m    638\u001b[0m ckpt_path \u001b[39m=\u001b[39m ckpt_path \u001b[39mor\u001b[39;00m \u001b[39mself\u001b[39m\u001b[39m.\u001b[39mresume_from_checkpoint\n\u001b[1;32m    639\u001b[0m \u001b[39mself\u001b[39m\u001b[39m.\u001b[39m_ckpt_path \u001b[39m=\u001b[39m \u001b[39mself\u001b[39m\u001b[39m.\u001b[39m_checkpoint_connector\u001b[39m.\u001b[39m_set_ckpt_path(\n\u001b[1;32m    640\u001b[0m     \u001b[39mself\u001b[39m\u001b[39m.\u001b[39mstate\u001b[39m.\u001b[39mfn,\n\u001b[1;32m    641\u001b[0m     ckpt_path,  \u001b[39m# type: ignore[arg-type]\u001b[39;00m\n\u001b[1;32m    642\u001b[0m     model_provided\u001b[39m=\u001b[39m\u001b[39mTrue\u001b[39;00m,\n\u001b[1;32m    643\u001b[0m     model_connected\u001b[39m=\u001b[39m\u001b[39mself\u001b[39m\u001b[39m.\u001b[39mlightning_module \u001b[39mis\u001b[39;00m \u001b[39mnot\u001b[39;00m \u001b[39mNone\u001b[39;00m,\n\u001b[1;32m    644\u001b[0m )\n\u001b[0;32m--> 645\u001b[0m \u001b[39mself\u001b[39;49m\u001b[39m.\u001b[39;49m_run(model, ckpt_path\u001b[39m=\u001b[39;49m\u001b[39mself\u001b[39;49m\u001b[39m.\u001b[39;49mckpt_path)\n\u001b[1;32m    647\u001b[0m \u001b[39massert\u001b[39;00m \u001b[39mself\u001b[39m\u001b[39m.\u001b[39mstate\u001b[39m.\u001b[39mstopped\n\u001b[1;32m    648\u001b[0m \u001b[39mself\u001b[39m\u001b[39m.\u001b[39mtraining \u001b[39m=\u001b[39m \u001b[39mFalse\u001b[39;00m\n",
      "File \u001b[0;32m~/opt/miniconda3/envs/clcnlu/lib/python3.8/site-packages/pytorch_lightning/trainer/trainer.py:1098\u001b[0m, in \u001b[0;36mTrainer._run\u001b[0;34m(self, model, ckpt_path)\u001b[0m\n\u001b[1;32m   1094\u001b[0m \u001b[39mself\u001b[39m\u001b[39m.\u001b[39m_checkpoint_connector\u001b[39m.\u001b[39mrestore_training_state()\n\u001b[1;32m   1096\u001b[0m \u001b[39mself\u001b[39m\u001b[39m.\u001b[39m_checkpoint_connector\u001b[39m.\u001b[39mresume_end()\n\u001b[0;32m-> 1098\u001b[0m results \u001b[39m=\u001b[39m \u001b[39mself\u001b[39;49m\u001b[39m.\u001b[39;49m_run_stage()\n\u001b[1;32m   1100\u001b[0m log\u001b[39m.\u001b[39mdetail(\u001b[39mf\u001b[39m\u001b[39m\"\u001b[39m\u001b[39m{\u001b[39;00m\u001b[39mself\u001b[39m\u001b[39m.\u001b[39m\u001b[39m__class__\u001b[39m\u001b[39m.\u001b[39m\u001b[39m__name__\u001b[39m\u001b[39m}\u001b[39;00m\u001b[39m: trainer tearing down\u001b[39m\u001b[39m\"\u001b[39m)\n\u001b[1;32m   1101\u001b[0m \u001b[39mself\u001b[39m\u001b[39m.\u001b[39m_teardown()\n",
      "File \u001b[0;32m~/opt/miniconda3/envs/clcnlu/lib/python3.8/site-packages/pytorch_lightning/trainer/trainer.py:1177\u001b[0m, in \u001b[0;36mTrainer._run_stage\u001b[0;34m(self)\u001b[0m\n\u001b[1;32m   1175\u001b[0m \u001b[39mif\u001b[39;00m \u001b[39mself\u001b[39m\u001b[39m.\u001b[39mpredicting:\n\u001b[1;32m   1176\u001b[0m     \u001b[39mreturn\u001b[39;00m \u001b[39mself\u001b[39m\u001b[39m.\u001b[39m_run_predict()\n\u001b[0;32m-> 1177\u001b[0m \u001b[39mself\u001b[39;49m\u001b[39m.\u001b[39;49m_run_train()\n",
      "File \u001b[0;32m~/opt/miniconda3/envs/clcnlu/lib/python3.8/site-packages/pytorch_lightning/trainer/trainer.py:1190\u001b[0m, in \u001b[0;36mTrainer._run_train\u001b[0;34m(self)\u001b[0m\n\u001b[1;32m   1187\u001b[0m \u001b[39mself\u001b[39m\u001b[39m.\u001b[39m_pre_training_routine()\n\u001b[1;32m   1189\u001b[0m \u001b[39mwith\u001b[39;00m isolate_rng():\n\u001b[0;32m-> 1190\u001b[0m     \u001b[39mself\u001b[39;49m\u001b[39m.\u001b[39;49m_run_sanity_check()\n\u001b[1;32m   1192\u001b[0m \u001b[39m# enable train mode\u001b[39;00m\n\u001b[1;32m   1193\u001b[0m \u001b[39massert\u001b[39;00m \u001b[39mself\u001b[39m\u001b[39m.\u001b[39mmodel \u001b[39mis\u001b[39;00m \u001b[39mnot\u001b[39;00m \u001b[39mNone\u001b[39;00m\n",
      "File \u001b[0;32m~/opt/miniconda3/envs/clcnlu/lib/python3.8/site-packages/pytorch_lightning/trainer/trainer.py:1262\u001b[0m, in \u001b[0;36mTrainer._run_sanity_check\u001b[0;34m(self)\u001b[0m\n\u001b[1;32m   1260\u001b[0m \u001b[39m# run eval step\u001b[39;00m\n\u001b[1;32m   1261\u001b[0m \u001b[39mwith\u001b[39;00m torch\u001b[39m.\u001b[39mno_grad():\n\u001b[0;32m-> 1262\u001b[0m     val_loop\u001b[39m.\u001b[39;49mrun()\n\u001b[1;32m   1264\u001b[0m \u001b[39mself\u001b[39m\u001b[39m.\u001b[39m_call_callback_hooks(\u001b[39m\"\u001b[39m\u001b[39mon_sanity_check_end\u001b[39m\u001b[39m\"\u001b[39m)\n\u001b[1;32m   1266\u001b[0m \u001b[39m# reset logger connector\u001b[39;00m\n",
      "File \u001b[0;32m~/opt/miniconda3/envs/clcnlu/lib/python3.8/site-packages/pytorch_lightning/loops/loop.py:199\u001b[0m, in \u001b[0;36mLoop.run\u001b[0;34m(self, *args, **kwargs)\u001b[0m\n\u001b[1;32m    197\u001b[0m \u001b[39mtry\u001b[39;00m:\n\u001b[1;32m    198\u001b[0m     \u001b[39mself\u001b[39m\u001b[39m.\u001b[39mon_advance_start(\u001b[39m*\u001b[39margs, \u001b[39m*\u001b[39m\u001b[39m*\u001b[39mkwargs)\n\u001b[0;32m--> 199\u001b[0m     \u001b[39mself\u001b[39;49m\u001b[39m.\u001b[39;49madvance(\u001b[39m*\u001b[39;49margs, \u001b[39m*\u001b[39;49m\u001b[39m*\u001b[39;49mkwargs)\n\u001b[1;32m    200\u001b[0m     \u001b[39mself\u001b[39m\u001b[39m.\u001b[39mon_advance_end()\n\u001b[1;32m    201\u001b[0m     \u001b[39mself\u001b[39m\u001b[39m.\u001b[39m_restarting \u001b[39m=\u001b[39m \u001b[39mFalse\u001b[39;00m\n",
      "File \u001b[0;32m~/opt/miniconda3/envs/clcnlu/lib/python3.8/site-packages/pytorch_lightning/loops/dataloader/evaluation_loop.py:152\u001b[0m, in \u001b[0;36mEvaluationLoop.advance\u001b[0;34m(self, *args, **kwargs)\u001b[0m\n\u001b[1;32m    150\u001b[0m \u001b[39mif\u001b[39;00m \u001b[39mself\u001b[39m\u001b[39m.\u001b[39mnum_dataloaders \u001b[39m>\u001b[39m \u001b[39m1\u001b[39m:\n\u001b[1;32m    151\u001b[0m     kwargs[\u001b[39m\"\u001b[39m\u001b[39mdataloader_idx\u001b[39m\u001b[39m\"\u001b[39m] \u001b[39m=\u001b[39m dataloader_idx\n\u001b[0;32m--> 152\u001b[0m dl_outputs \u001b[39m=\u001b[39m \u001b[39mself\u001b[39;49m\u001b[39m.\u001b[39;49mepoch_loop\u001b[39m.\u001b[39;49mrun(\u001b[39mself\u001b[39;49m\u001b[39m.\u001b[39;49m_data_fetcher, dl_max_batches, kwargs)\n\u001b[1;32m    154\u001b[0m \u001b[39m# store batch level output per dataloader\u001b[39;00m\n\u001b[1;32m    155\u001b[0m \u001b[39mself\u001b[39m\u001b[39m.\u001b[39m_outputs\u001b[39m.\u001b[39mappend(dl_outputs)\n",
      "File \u001b[0;32m~/opt/miniconda3/envs/clcnlu/lib/python3.8/site-packages/pytorch_lightning/loops/loop.py:199\u001b[0m, in \u001b[0;36mLoop.run\u001b[0;34m(self, *args, **kwargs)\u001b[0m\n\u001b[1;32m    197\u001b[0m \u001b[39mtry\u001b[39;00m:\n\u001b[1;32m    198\u001b[0m     \u001b[39mself\u001b[39m\u001b[39m.\u001b[39mon_advance_start(\u001b[39m*\u001b[39margs, \u001b[39m*\u001b[39m\u001b[39m*\u001b[39mkwargs)\n\u001b[0;32m--> 199\u001b[0m     \u001b[39mself\u001b[39;49m\u001b[39m.\u001b[39;49madvance(\u001b[39m*\u001b[39;49margs, \u001b[39m*\u001b[39;49m\u001b[39m*\u001b[39;49mkwargs)\n\u001b[1;32m    200\u001b[0m     \u001b[39mself\u001b[39m\u001b[39m.\u001b[39mon_advance_end()\n\u001b[1;32m    201\u001b[0m     \u001b[39mself\u001b[39m\u001b[39m.\u001b[39m_restarting \u001b[39m=\u001b[39m \u001b[39mFalse\u001b[39;00m\n",
      "File \u001b[0;32m~/opt/miniconda3/envs/clcnlu/lib/python3.8/site-packages/pytorch_lightning/loops/epoch/evaluation_epoch_loop.py:137\u001b[0m, in \u001b[0;36mEvaluationEpochLoop.advance\u001b[0;34m(self, data_fetcher, dl_max_batches, kwargs)\u001b[0m\n\u001b[1;32m    134\u001b[0m \u001b[39mself\u001b[39m\u001b[39m.\u001b[39mbatch_progress\u001b[39m.\u001b[39mincrement_started()\n\u001b[1;32m    136\u001b[0m \u001b[39m# lightning module methods\u001b[39;00m\n\u001b[0;32m--> 137\u001b[0m output \u001b[39m=\u001b[39m \u001b[39mself\u001b[39;49m\u001b[39m.\u001b[39;49m_evaluation_step(\u001b[39m*\u001b[39;49m\u001b[39m*\u001b[39;49mkwargs)\n\u001b[1;32m    138\u001b[0m output \u001b[39m=\u001b[39m \u001b[39mself\u001b[39m\u001b[39m.\u001b[39m_evaluation_step_end(output)\n\u001b[1;32m    140\u001b[0m \u001b[39mself\u001b[39m\u001b[39m.\u001b[39mbatch_progress\u001b[39m.\u001b[39mincrement_processed()\n",
      "File \u001b[0;32m~/opt/miniconda3/envs/clcnlu/lib/python3.8/site-packages/pytorch_lightning/loops/epoch/evaluation_epoch_loop.py:234\u001b[0m, in \u001b[0;36mEvaluationEpochLoop._evaluation_step\u001b[0;34m(self, **kwargs)\u001b[0m\n\u001b[1;32m    223\u001b[0m \u001b[39m\u001b[39m\u001b[39m\"\"\"The evaluation step (validation_step or test_step depending on the trainer's state).\u001b[39;00m\n\u001b[1;32m    224\u001b[0m \n\u001b[1;32m    225\u001b[0m \u001b[39mArgs:\u001b[39;00m\n\u001b[0;32m   (...)\u001b[0m\n\u001b[1;32m    231\u001b[0m \u001b[39m    the outputs of the step\u001b[39;00m\n\u001b[1;32m    232\u001b[0m \u001b[39m\"\"\"\u001b[39;00m\n\u001b[1;32m    233\u001b[0m hook_name \u001b[39m=\u001b[39m \u001b[39m\"\u001b[39m\u001b[39mtest_step\u001b[39m\u001b[39m\"\u001b[39m \u001b[39mif\u001b[39;00m \u001b[39mself\u001b[39m\u001b[39m.\u001b[39mtrainer\u001b[39m.\u001b[39mtesting \u001b[39melse\u001b[39;00m \u001b[39m\"\u001b[39m\u001b[39mvalidation_step\u001b[39m\u001b[39m\"\u001b[39m\n\u001b[0;32m--> 234\u001b[0m output \u001b[39m=\u001b[39m \u001b[39mself\u001b[39;49m\u001b[39m.\u001b[39;49mtrainer\u001b[39m.\u001b[39;49m_call_strategy_hook(hook_name, \u001b[39m*\u001b[39;49mkwargs\u001b[39m.\u001b[39;49mvalues())\n\u001b[1;32m    236\u001b[0m \u001b[39mreturn\u001b[39;00m output\n",
      "File \u001b[0;32m~/opt/miniconda3/envs/clcnlu/lib/python3.8/site-packages/pytorch_lightning/trainer/trainer.py:1480\u001b[0m, in \u001b[0;36mTrainer._call_strategy_hook\u001b[0;34m(self, hook_name, *args, **kwargs)\u001b[0m\n\u001b[1;32m   1477\u001b[0m     \u001b[39mreturn\u001b[39;00m\n\u001b[1;32m   1479\u001b[0m \u001b[39mwith\u001b[39;00m \u001b[39mself\u001b[39m\u001b[39m.\u001b[39mprofiler\u001b[39m.\u001b[39mprofile(\u001b[39mf\u001b[39m\u001b[39m\"\u001b[39m\u001b[39m[Strategy]\u001b[39m\u001b[39m{\u001b[39;00m\u001b[39mself\u001b[39m\u001b[39m.\u001b[39mstrategy\u001b[39m.\u001b[39m\u001b[39m__class__\u001b[39m\u001b[39m.\u001b[39m\u001b[39m__name__\u001b[39m\u001b[39m}\u001b[39;00m\u001b[39m.\u001b[39m\u001b[39m{\u001b[39;00mhook_name\u001b[39m}\u001b[39;00m\u001b[39m\"\u001b[39m):\n\u001b[0;32m-> 1480\u001b[0m     output \u001b[39m=\u001b[39m fn(\u001b[39m*\u001b[39;49margs, \u001b[39m*\u001b[39;49m\u001b[39m*\u001b[39;49mkwargs)\n\u001b[1;32m   1482\u001b[0m \u001b[39m# restore current_fx when nested context\u001b[39;00m\n\u001b[1;32m   1483\u001b[0m pl_module\u001b[39m.\u001b[39m_current_fx_name \u001b[39m=\u001b[39m prev_fx_name\n",
      "File \u001b[0;32m~/opt/miniconda3/envs/clcnlu/lib/python3.8/site-packages/pytorch_lightning/strategies/strategy.py:390\u001b[0m, in \u001b[0;36mStrategy.validation_step\u001b[0;34m(self, *args, **kwargs)\u001b[0m\n\u001b[1;32m    388\u001b[0m \u001b[39mwith\u001b[39;00m \u001b[39mself\u001b[39m\u001b[39m.\u001b[39mprecision_plugin\u001b[39m.\u001b[39mval_step_context():\n\u001b[1;32m    389\u001b[0m     \u001b[39massert\u001b[39;00m \u001b[39misinstance\u001b[39m(\u001b[39mself\u001b[39m\u001b[39m.\u001b[39mmodel, ValidationStep)\n\u001b[0;32m--> 390\u001b[0m     \u001b[39mreturn\u001b[39;00m \u001b[39mself\u001b[39;49m\u001b[39m.\u001b[39;49mmodel\u001b[39m.\u001b[39;49mvalidation_step(\u001b[39m*\u001b[39;49margs, \u001b[39m*\u001b[39;49m\u001b[39m*\u001b[39;49mkwargs)\n",
      "Cell \u001b[0;32mIn[51], line 87\u001b[0m, in \u001b[0;36mRegressionEmbeddedModel.validation_step\u001b[0;34m(self, batch, batch_idx)\u001b[0m\n\u001b[1;32m     85\u001b[0m x \u001b[39m=\u001b[39m X_embedded\n\u001b[1;32m     86\u001b[0m x2 \u001b[39m=\u001b[39m X_nummerical\n\u001b[0;32m---> 87\u001b[0m y_hat \u001b[39m=\u001b[39m \u001b[39mself\u001b[39;49m\u001b[39m.\u001b[39;49mforward(x, x2)\u001b[39m.\u001b[39msqueeze(dim\u001b[39m=\u001b[39m\u001b[39m1\u001b[39m)\n\u001b[1;32m     88\u001b[0m \u001b[39m# reverse the log transform\u001b[39;00m\n\u001b[1;32m     89\u001b[0m y_hat_reversed \u001b[39m=\u001b[39m torch\u001b[39m.\u001b[39mexp(y_hat)\n",
      "Cell \u001b[0;32mIn[51], line 59\u001b[0m, in \u001b[0;36mRegressionEmbeddedModel.forward\u001b[0;34m(self, X_nummerical, X_embedded)\u001b[0m\n\u001b[1;32m     58\u001b[0m \u001b[39mdef\u001b[39;00m \u001b[39mforward\u001b[39m(\u001b[39mself\u001b[39m, X_nummerical, X_embedded):\n\u001b[0;32m---> 59\u001b[0m     x \u001b[39m=\u001b[39m [e(X_embedded[:,i]) \u001b[39mfor\u001b[39;00m i,e \u001b[39min\u001b[39;00m \u001b[39menumerate\u001b[39m(\u001b[39mself\u001b[39m\u001b[39m.\u001b[39membeddings)]\n\u001b[1;32m     60\u001b[0m     x \u001b[39m=\u001b[39m torch\u001b[39m.\u001b[39mcat(x, \u001b[39m1\u001b[39m)\n\u001b[1;32m     61\u001b[0m     x \u001b[39m=\u001b[39m \u001b[39mself\u001b[39m\u001b[39m.\u001b[39mdrops_emb(x)\n",
      "Cell \u001b[0;32mIn[51], line 59\u001b[0m, in \u001b[0;36m<listcomp>\u001b[0;34m(.0)\u001b[0m\n\u001b[1;32m     58\u001b[0m \u001b[39mdef\u001b[39;00m \u001b[39mforward\u001b[39m(\u001b[39mself\u001b[39m, X_nummerical, X_embedded):\n\u001b[0;32m---> 59\u001b[0m     x \u001b[39m=\u001b[39m [e(X_embedded[:,i]) \u001b[39mfor\u001b[39;00m i,e \u001b[39min\u001b[39;00m \u001b[39menumerate\u001b[39m(\u001b[39mself\u001b[39m\u001b[39m.\u001b[39membeddings)]\n\u001b[1;32m     60\u001b[0m     x \u001b[39m=\u001b[39m torch\u001b[39m.\u001b[39mcat(x, \u001b[39m1\u001b[39m)\n\u001b[1;32m     61\u001b[0m     x \u001b[39m=\u001b[39m \u001b[39mself\u001b[39m\u001b[39m.\u001b[39mdrops_emb(x)\n",
      "File \u001b[0;32m~/opt/miniconda3/envs/clcnlu/lib/python3.8/site-packages/torch/nn/modules/module.py:1194\u001b[0m, in \u001b[0;36mModule._call_impl\u001b[0;34m(self, *input, **kwargs)\u001b[0m\n\u001b[1;32m   1190\u001b[0m \u001b[39m# If we don't have any hooks, we want to skip the rest of the logic in\u001b[39;00m\n\u001b[1;32m   1191\u001b[0m \u001b[39m# this function, and just call forward.\u001b[39;00m\n\u001b[1;32m   1192\u001b[0m \u001b[39mif\u001b[39;00m \u001b[39mnot\u001b[39;00m (\u001b[39mself\u001b[39m\u001b[39m.\u001b[39m_backward_hooks \u001b[39mor\u001b[39;00m \u001b[39mself\u001b[39m\u001b[39m.\u001b[39m_forward_hooks \u001b[39mor\u001b[39;00m \u001b[39mself\u001b[39m\u001b[39m.\u001b[39m_forward_pre_hooks \u001b[39mor\u001b[39;00m _global_backward_hooks\n\u001b[1;32m   1193\u001b[0m         \u001b[39mor\u001b[39;00m _global_forward_hooks \u001b[39mor\u001b[39;00m _global_forward_pre_hooks):\n\u001b[0;32m-> 1194\u001b[0m     \u001b[39mreturn\u001b[39;00m forward_call(\u001b[39m*\u001b[39;49m\u001b[39minput\u001b[39;49m, \u001b[39m*\u001b[39;49m\u001b[39m*\u001b[39;49mkwargs)\n\u001b[1;32m   1195\u001b[0m \u001b[39m# Do not call functions when jit is used\u001b[39;00m\n\u001b[1;32m   1196\u001b[0m full_backward_hooks, non_full_backward_hooks \u001b[39m=\u001b[39m [], []\n",
      "File \u001b[0;32m~/opt/miniconda3/envs/clcnlu/lib/python3.8/site-packages/torch/nn/modules/sparse.py:160\u001b[0m, in \u001b[0;36mEmbedding.forward\u001b[0;34m(self, input)\u001b[0m\n\u001b[1;32m    159\u001b[0m \u001b[39mdef\u001b[39;00m \u001b[39mforward\u001b[39m(\u001b[39mself\u001b[39m, \u001b[39minput\u001b[39m: Tensor) \u001b[39m-\u001b[39m\u001b[39m>\u001b[39m Tensor:\n\u001b[0;32m--> 160\u001b[0m     \u001b[39mreturn\u001b[39;00m F\u001b[39m.\u001b[39;49membedding(\n\u001b[1;32m    161\u001b[0m         \u001b[39minput\u001b[39;49m, \u001b[39mself\u001b[39;49m\u001b[39m.\u001b[39;49mweight, \u001b[39mself\u001b[39;49m\u001b[39m.\u001b[39;49mpadding_idx, \u001b[39mself\u001b[39;49m\u001b[39m.\u001b[39;49mmax_norm,\n\u001b[1;32m    162\u001b[0m         \u001b[39mself\u001b[39;49m\u001b[39m.\u001b[39;49mnorm_type, \u001b[39mself\u001b[39;49m\u001b[39m.\u001b[39;49mscale_grad_by_freq, \u001b[39mself\u001b[39;49m\u001b[39m.\u001b[39;49msparse)\n",
      "File \u001b[0;32m~/opt/miniconda3/envs/clcnlu/lib/python3.8/site-packages/torch/nn/functional.py:2210\u001b[0m, in \u001b[0;36membedding\u001b[0;34m(input, weight, padding_idx, max_norm, norm_type, scale_grad_by_freq, sparse)\u001b[0m\n\u001b[1;32m   2204\u001b[0m     \u001b[39m# Note [embedding_renorm set_grad_enabled]\u001b[39;00m\n\u001b[1;32m   2205\u001b[0m     \u001b[39m# XXX: equivalent to\u001b[39;00m\n\u001b[1;32m   2206\u001b[0m     \u001b[39m# with torch.no_grad():\u001b[39;00m\n\u001b[1;32m   2207\u001b[0m     \u001b[39m#   torch.embedding_renorm_\u001b[39;00m\n\u001b[1;32m   2208\u001b[0m     \u001b[39m# remove once script supports set_grad_enabled\u001b[39;00m\n\u001b[1;32m   2209\u001b[0m     _no_grad_embedding_renorm_(weight, \u001b[39minput\u001b[39m, max_norm, norm_type)\n\u001b[0;32m-> 2210\u001b[0m \u001b[39mreturn\u001b[39;00m torch\u001b[39m.\u001b[39;49membedding(weight, \u001b[39minput\u001b[39;49m, padding_idx, scale_grad_by_freq, sparse)\n",
      "\u001b[0;31mRuntimeError\u001b[0m: Expected tensor for argument #1 'indices' to have one of the following scalar types: Long, Int; but got torch.FloatTensor instead (while checking arguments for embedding)"
     ]
    }
   ],
   "source": [
    "# test the model with the data\n",
    "\n",
    "logger = TensorBoardLogger('lightning_logs', name='insurance')\n",
    "\n",
    "model = RegressionEmbeddedModel(num_neurons=32, layers=2, learning_rate=0.005, batch_size=32, \n",
    "                                train_dataset=train_dataset, val_dataset=val_dataset, test_dataset=test_dataset,\n",
    "                                dropout_emb=0.1, dropout_num=0.1)\n",
    "                                \n",
    "trainer = pl.Trainer(accelerator=None, devices=1, max_epochs=50, logger=logger, fast_dev_run=False)\n",
    "trainer.fit(model)"
   ]
  },
  {
   "cell_type": "code",
   "execution_count": 1,
   "metadata": {},
   "outputs": [
    {
     "ename": "NameError",
     "evalue": "name 'TensorBoardLogger' is not defined",
     "output_type": "error",
     "traceback": [
      "\u001b[0;31m---------------------------------------------------------------------------\u001b[0m",
      "\u001b[0;31mNameError\u001b[0m                                 Traceback (most recent call last)",
      "Cell \u001b[0;32mIn[1], line 3\u001b[0m\n\u001b[1;32m      1\u001b[0m \u001b[39m# testing for 64 neurons, 3 layers, learning rate of 0.001, batch size of 32\u001b[39;00m\n\u001b[0;32m----> 3\u001b[0m logger \u001b[39m=\u001b[39m TensorBoardLogger(\u001b[39m'\u001b[39m\u001b[39mlightning_logs\u001b[39m\u001b[39m'\u001b[39m, name\u001b[39m=\u001b[39m\u001b[39m'\u001b[39m\u001b[39minsurance\u001b[39m\u001b[39m'\u001b[39m)\n\u001b[1;32m      5\u001b[0m model \u001b[39m=\u001b[39m RegressionModel(num_neurons\u001b[39m=\u001b[39m\u001b[39m32\u001b[39m, layers\u001b[39m=\u001b[39m\u001b[39m2\u001b[39m, learning_rate\u001b[39m=\u001b[39m\u001b[39m0.005\u001b[39m, batch_size\u001b[39m=\u001b[39m\u001b[39m32\u001b[39m, train_dataset\u001b[39m=\u001b[39mtrain_ohe_dataset, val_dataset\u001b[39m=\u001b[39mtrain_ohe_dataset, test_dataset\u001b[39m=\u001b[39mtest_ohe_dataset)\n\u001b[1;32m      6\u001b[0m trainer \u001b[39m=\u001b[39m pl\u001b[39m.\u001b[39mTrainer(accelerator\u001b[39m=\u001b[39m\u001b[39m'\u001b[39m\u001b[39mgpu\u001b[39m\u001b[39m'\u001b[39m, devices\u001b[39m=\u001b[39m\u001b[39m1\u001b[39m, max_epochs\u001b[39m=\u001b[39m\u001b[39m50\u001b[39m, logger\u001b[39m=\u001b[39mlogger, fast_dev_run\u001b[39m=\u001b[39m\u001b[39mTrue\u001b[39;00m)\n",
      "\u001b[0;31mNameError\u001b[0m: name 'TensorBoardLogger' is not defined"
     ]
    }
   ],
   "source": [
    "# testing for 64 neurons, 3 layers, learning rate of 0.001, batch size of 32\n",
    "\n",
    "logger = TensorBoardLogger('lightning_logs', name='insurance')\n",
    "\n",
    "model = RegressionModel(num_neurons=32, layers=2, learning_rate=0.005, batch_size=32, train_dataset=train_ohe_dataset, val_dataset=train_ohe_dataset, test_dataset=test_ohe_dataset)\n",
    "trainer = pl.Trainer(accelerator='gpu', devices=1, max_epochs=50, logger=logger, fast_dev_run=True)\n",
    "trainer.fit(model)"
   ]
  },
  {
   "cell_type": "code",
   "execution_count": 169,
   "metadata": {},
   "outputs": [
    {
     "name": "stdout",
     "output_type": "stream",
     "text": [
      "{'train_loss': tensor(0.0022), 'val_loss': tensor(0.1425), 'val_loss_reversed': tensor(27132324.), 'avg_val_loss': tensor(0.1374)}\n"
     ]
    }
   ],
   "source": [
    "print(trainer.logged_metrics)\n"
   ]
  },
  {
   "cell_type": "code",
   "execution_count": 135,
   "metadata": {},
   "outputs": [
    {
     "name": "stdout",
     "output_type": "stream",
     "text": [
      "{'train_loss': tensor(0.0114), 'val_loss': tensor(0.1448), 'val_loss_reversed': tensor(28833994.), 'avg_val_loss': tensor(0.1398)}\n"
     ]
    }
   ],
   "source": [
    "print(trainer.logged_metrics)\n"
   ]
  },
  {
   "cell_type": "code",
   "execution_count": 138,
   "metadata": {},
   "outputs": [
    {
     "name": "stdout",
     "output_type": "stream",
     "text": [
      "12312.441403195595\n",
      "296924393.1203129\n"
     ]
    }
   ],
   "source": [
    "model.eval()\n",
    "\n",
    "# reverse the log transform\n",
    "y_hat = np.exp(model(torch.tensor(val_le.drop('charges', axis=1).values, dtype=torch.float)).detach().numpy())\n",
    "y = np.exp(val_le['charges'].values)\n",
    "\n",
    "# calculate the mean absolute error\n",
    "mae = np.mean(np.abs(y_hat - y))\n",
    "print(mae)\n",
    "\n",
    "# calculate the mean squared error\n",
    "mse = np.mean((y_hat - y)**2)\n",
    "print(mse)\n",
    "\n"
   ]
  },
  {
   "cell_type": "code",
   "execution_count": 172,
   "metadata": {},
   "outputs": [
    {
     "name": "stderr",
     "output_type": "stream",
     "text": [
      "Restoring states from the checkpoint path at lightning_logs/insurance/version_29/checkpoints/epoch=49-step=1300.ckpt\n",
      "Loaded model weights from checkpoint at lightning_logs/insurance/version_29/checkpoints/epoch=49-step=1300.ckpt\n"
     ]
    },
    {
     "name": "stdout",
     "output_type": "stream",
     "text": [
      "Testing DataLoader 0: 100%|██████████| 9/9 [00:00<00:00, 244.06it/s]\n",
      "────────────────────────────────────────────────────────────────────────────────────────────────────────────────────────\n",
      "       Test metric             DataLoader 0\n",
      "────────────────────────────────────────────────────────────────────────────────────────────────────────────────────────\n",
      "        test_loss           0.1872769296169281\n",
      "   test_loss_reversed           28035470.0\n",
      "────────────────────────────────────────────────────────────────────────────────────────────────────────────────────────\n"
     ]
    },
    {
     "data": {
      "text/plain": [
       "[{'test_loss': 0.1872769296169281, 'test_loss_reversed': 28035470.0}]"
      ]
     },
     "execution_count": 172,
     "metadata": {},
     "output_type": "execute_result"
    }
   ],
   "source": [
    "trainer.test()"
   ]
  },
  {
   "cell_type": "code",
   "execution_count": 139,
   "metadata": {},
   "outputs": [
    {
     "name": "stderr",
     "output_type": "stream",
     "text": [
      "/Users/lsacy/opt/miniconda3/envs/clcnlu/lib/python3.8/site-packages/pytorch_lightning/trainer/connectors/checkpoint_connector.py:134: UserWarning: `.test(ckpt_path=None)` was called without a model. The best model of the previous `fit` call will be used. You can pass `.test(ckpt_path='best')` to use the best model or `.test(ckpt_path='last')` to use the last model. If you pass a value, this warning will be silenced.\n",
      "  rank_zero_warn(\n",
      "Restoring states from the checkpoint path at lightning_logs/insurance/version_28/checkpoints/epoch=49-step=1300.ckpt\n",
      "Loaded model weights from checkpoint at lightning_logs/insurance/version_28/checkpoints/epoch=49-step=1300.ckpt\n",
      "/Users/lsacy/opt/miniconda3/envs/clcnlu/lib/python3.8/site-packages/pytorch_lightning/trainer/connectors/data_connector.py:224: PossibleUserWarning: The dataloader, test_dataloader 0, does not have many workers which may be a bottleneck. Consider increasing the value of the `num_workers` argument` (try 8 which is the number of cpus on this machine) in the `DataLoader` init to improve performance.\n",
      "  rank_zero_warn(\n"
     ]
    },
    {
     "name": "stdout",
     "output_type": "stream",
     "text": [
      "Testing DataLoader 0: 100%|██████████| 9/9 [00:00<00:00, 101.87it/s]\n",
      "────────────────────────────────────────────────────────────────────────────────────────────────────────────────────────\n",
      "       Test metric             DataLoader 0\n",
      "────────────────────────────────────────────────────────────────────────────────────────────────────────────────────────\n",
      "        test_loss           0.18852858245372772\n",
      "   test_loss_reversed           31503972.0\n",
      "────────────────────────────────────────────────────────────────────────────────────────────────────────────────────────\n"
     ]
    },
    {
     "data": {
      "text/plain": [
       "[{'test_loss': 0.18852858245372772, 'test_loss_reversed': 31503972.0}]"
      ]
     },
     "execution_count": 139,
     "metadata": {},
     "output_type": "execute_result"
    }
   ],
   "source": [
    "trainer.test()"
   ]
  },
  {
   "cell_type": "code",
   "execution_count": 63,
   "metadata": {},
   "outputs": [],
   "source": [
    "%load_ext tensorboard"
   ]
  },
  {
   "cell_type": "code",
   "execution_count": 173,
   "metadata": {},
   "outputs": [
    {
     "name": "stderr",
     "output_type": "stream",
     "text": [
      "\u001b[32m[I 2023-01-15 02:44:41,758]\u001b[0m Using an existing study with name 'insurance' instead of creating a new one.\u001b[0m\n",
      "GPU available: True (mps), used: True\n",
      "TPU available: False, using: 0 TPU cores\n",
      "IPU available: False, using: 0 IPUs\n",
      "HPU available: False, using: 0 HPUs\n",
      "\n",
      "  | Name   | Type       | Params\n",
      "--------------------------------------\n",
      "0 | input  | Linear     | 2.7 K \n",
      "1 | hidden | Sequential | 316 K \n",
      "2 | output | Linear     | 230   \n",
      "3 | relu   | ReLU       | 0     \n",
      "--------------------------------------\n",
      "318 K     Trainable params\n",
      "0         Non-trainable params\n",
      "318 K     Total params\n",
      "1.276     Total estimated model params size (MB)\n"
     ]
    },
    {
     "name": "stdout",
     "output_type": "stream",
     "text": [
      "                                                                           "
     ]
    },
    {
     "name": "stderr",
     "output_type": "stream",
     "text": [
      "/Users/lsacy/opt/miniconda3/envs/clcnlu/lib/python3.8/site-packages/pytorch_lightning/trainer/trainer.py:1595: PossibleUserWarning: The number of training batches (3) is smaller than the logging interval Trainer(log_every_n_steps=50). Set a lower value for log_every_n_steps if you want to see logs for the training epoch.\n",
      "  rank_zero_warn(\n"
     ]
    },
    {
     "name": "stdout",
     "output_type": "stream",
     "text": [
      "Epoch 49: 100%|██████████| 4/4 [00:00<00:00, 56.46it/s, loss=0.821, v_num=100]  "
     ]
    },
    {
     "name": "stderr",
     "output_type": "stream",
     "text": [
      "`Trainer.fit` stopped: `max_epochs=50` reached.\n"
     ]
    },
    {
     "name": "stdout",
     "output_type": "stream",
     "text": [
      "Epoch 49: 100%|██████████| 4/4 [00:00<00:00, 43.58it/s, loss=0.821, v_num=100]\n"
     ]
    },
    {
     "name": "stderr",
     "output_type": "stream",
     "text": [
      "\u001b[32m[I 2023-01-15 02:44:47,435]\u001b[0m Trial 201 finished with value: 0.927402675151825 and parameters: {'num_neurons': 229, 'batch_size': 316, 'learning_rate': 0.05147348887681344, 'layers': 6}. Best is trial 201 with value: 0.927402675151825.\u001b[0m\n",
      "GPU available: True (mps), used: True\n",
      "TPU available: False, using: 0 TPU cores\n",
      "IPU available: False, using: 0 IPUs\n",
      "HPU available: False, using: 0 HPUs\n",
      "\n",
      "  | Name   | Type       | Params\n",
      "--------------------------------------\n",
      "0 | input  | Linear     | 2.8 K \n",
      "1 | hidden | Sequential | 321 K \n",
      "2 | output | Linear     | 232   \n",
      "3 | relu   | ReLU       | 0     \n",
      "--------------------------------------\n",
      "324 K     Trainable params\n",
      "0         Non-trainable params\n",
      "324 K     Total params\n",
      "1.298     Total estimated model params size (MB)\n"
     ]
    },
    {
     "name": "stdout",
     "output_type": "stream",
     "text": [
      "Epoch 49: 100%|██████████| 4/4 [00:00<00:00, 64.85it/s, loss=0.871, v_num=101]  "
     ]
    },
    {
     "name": "stderr",
     "output_type": "stream",
     "text": [
      "`Trainer.fit` stopped: `max_epochs=50` reached.\n"
     ]
    },
    {
     "name": "stdout",
     "output_type": "stream",
     "text": [
      "Epoch 49: 100%|██████████| 4/4 [00:00<00:00, 49.52it/s, loss=0.871, v_num=101]\n"
     ]
    },
    {
     "name": "stderr",
     "output_type": "stream",
     "text": [
      "\u001b[32m[I 2023-01-15 02:44:52,327]\u001b[0m Trial 202 finished with value: 1.0074059963226318 and parameters: {'num_neurons': 231, 'batch_size': 316, 'learning_rate': 0.053959074802965475, 'layers': 6}. Best is trial 201 with value: 0.927402675151825.\u001b[0m\n",
      "GPU available: True (mps), used: True\n",
      "TPU available: False, using: 0 TPU cores\n",
      "IPU available: False, using: 0 IPUs\n",
      "HPU available: False, using: 0 HPUs\n",
      "\n",
      "  | Name   | Type       | Params\n",
      "--------------------------------------\n",
      "0 | input  | Linear     | 3.0 K \n",
      "1 | hidden | Sequential | 364 K \n",
      "2 | output | Linear     | 247   \n",
      "3 | relu   | ReLU       | 0     \n",
      "--------------------------------------\n",
      "367 K     Trainable params\n",
      "0         Non-trainable params\n",
      "367 K     Total params\n",
      "1.471     Total estimated model params size (MB)\n"
     ]
    },
    {
     "name": "stdout",
     "output_type": "stream",
     "text": [
      "Epoch 49: 100%|██████████| 4/4 [00:00<00:00, 52.47it/s, loss=0.388, v_num=102]  "
     ]
    },
    {
     "name": "stderr",
     "output_type": "stream",
     "text": [
      "`Trainer.fit` stopped: `max_epochs=50` reached.\n"
     ]
    },
    {
     "name": "stdout",
     "output_type": "stream",
     "text": [
      "Epoch 49: 100%|██████████| 4/4 [00:00<00:00, 39.72it/s, loss=0.388, v_num=102]\n"
     ]
    },
    {
     "name": "stderr",
     "output_type": "stream",
     "text": [
      "\u001b[32m[I 2023-01-15 02:44:57,046]\u001b[0m Trial 203 finished with value: 0.3864937424659729 and parameters: {'num_neurons': 246, 'batch_size': 323, 'learning_rate': 0.051768692755330976, 'layers': 6}. Best is trial 203 with value: 0.3864937424659729.\u001b[0m\n",
      "GPU available: True (mps), used: True\n",
      "TPU available: False, using: 0 TPU cores\n",
      "IPU available: False, using: 0 IPUs\n",
      "HPU available: False, using: 0 HPUs\n",
      "\n",
      "  | Name   | Type       | Params\n",
      "--------------------------------------\n",
      "0 | input  | Linear     | 2.7 K \n",
      "1 | hidden | Sequential | 316 K \n",
      "2 | output | Linear     | 230   \n",
      "3 | relu   | ReLU       | 0     \n",
      "--------------------------------------\n",
      "318 K     Trainable params\n",
      "0         Non-trainable params\n",
      "318 K     Total params\n",
      "1.276     Total estimated model params size (MB)\n"
     ]
    },
    {
     "name": "stdout",
     "output_type": "stream",
     "text": [
      "Epoch 49: 100%|██████████| 4/4 [00:00<00:00, 63.81it/s, loss=0.819, v_num=103]  "
     ]
    },
    {
     "name": "stderr",
     "output_type": "stream",
     "text": [
      "`Trainer.fit` stopped: `max_epochs=50` reached.\n"
     ]
    },
    {
     "name": "stdout",
     "output_type": "stream",
     "text": [
      "Epoch 49: 100%|██████████| 4/4 [00:00<00:00, 48.08it/s, loss=0.819, v_num=103]\n"
     ]
    },
    {
     "name": "stderr",
     "output_type": "stream",
     "text": [
      "\u001b[32m[I 2023-01-15 02:45:01,859]\u001b[0m Trial 204 finished with value: 0.9312162399291992 and parameters: {'num_neurons': 229, 'batch_size': 319, 'learning_rate': 0.04469053569213863, 'layers': 6}. Best is trial 203 with value: 0.3864937424659729.\u001b[0m\n",
      "GPU available: True (mps), used: True\n",
      "TPU available: False, using: 0 TPU cores\n",
      "IPU available: False, using: 0 IPUs\n",
      "HPU available: False, using: 0 HPUs\n",
      "\n",
      "  | Name   | Type       | Params\n",
      "--------------------------------------\n",
      "0 | input  | Linear     | 3.0 K \n",
      "1 | hidden | Sequential | 364 K \n",
      "2 | output | Linear     | 247   \n",
      "3 | relu   | ReLU       | 0     \n",
      "--------------------------------------\n",
      "367 K     Trainable params\n",
      "0         Non-trainable params\n",
      "367 K     Total params\n",
      "1.471     Total estimated model params size (MB)\n"
     ]
    },
    {
     "name": "stdout",
     "output_type": "stream",
     "text": [
      "Epoch 49: 100%|██████████| 4/4 [00:00<00:00, 67.06it/s, loss=0.832, v_num=104]  "
     ]
    },
    {
     "name": "stderr",
     "output_type": "stream",
     "text": [
      "`Trainer.fit` stopped: `max_epochs=50` reached.\n"
     ]
    },
    {
     "name": "stdout",
     "output_type": "stream",
     "text": [
      "Epoch 49: 100%|██████████| 4/4 [00:00<00:00, 50.21it/s, loss=0.832, v_num=104]\n"
     ]
    },
    {
     "name": "stderr",
     "output_type": "stream",
     "text": [
      "\u001b[32m[I 2023-01-15 02:45:06,528]\u001b[0m Trial 205 finished with value: 0.9525783658027649 and parameters: {'num_neurons': 246, 'batch_size': 315, 'learning_rate': 0.05056626503755637, 'layers': 6}. Best is trial 203 with value: 0.3864937424659729.\u001b[0m\n",
      "GPU available: True (mps), used: True\n",
      "TPU available: False, using: 0 TPU cores\n",
      "IPU available: False, using: 0 IPUs\n",
      "HPU available: False, using: 0 HPUs\n",
      "\n",
      "  | Name   | Type       | Params\n",
      "--------------------------------------\n",
      "0 | input  | Linear     | 3.2 K \n",
      "1 | hidden | Sequential | 422 K \n",
      "2 | output | Linear     | 266   \n",
      "3 | relu   | ReLU       | 0     \n",
      "--------------------------------------\n",
      "426 K     Trainable params\n",
      "0         Non-trainable params\n",
      "426 K     Total params\n",
      "1.706     Total estimated model params size (MB)\n"
     ]
    },
    {
     "name": "stdout",
     "output_type": "stream",
     "text": [
      "Epoch 49: 100%|██████████| 4/4 [00:00<00:00, 69.43it/s, loss=0.824, v_num=105]  "
     ]
    },
    {
     "name": "stderr",
     "output_type": "stream",
     "text": [
      "`Trainer.fit` stopped: `max_epochs=50` reached.\n"
     ]
    },
    {
     "name": "stdout",
     "output_type": "stream",
     "text": [
      "Epoch 49: 100%|██████████| 4/4 [00:00<00:00, 52.47it/s, loss=0.824, v_num=105]\n"
     ]
    },
    {
     "name": "stderr",
     "output_type": "stream",
     "text": [
      "\u001b[32m[I 2023-01-15 02:45:10,845]\u001b[0m Trial 206 finished with value: 0.9340558648109436 and parameters: {'num_neurons': 265, 'batch_size': 315, 'learning_rate': 0.045445474127113764, 'layers': 6}. Best is trial 203 with value: 0.3864937424659729.\u001b[0m\n",
      "GPU available: True (mps), used: True\n",
      "TPU available: False, using: 0 TPU cores\n",
      "IPU available: False, using: 0 IPUs\n",
      "HPU available: False, using: 0 HPUs\n",
      "\n",
      "  | Name   | Type       | Params\n",
      "--------------------------------------\n",
      "0 | input  | Linear     | 3.1 K \n",
      "1 | hidden | Sequential | 410 K \n",
      "2 | output | Linear     | 262   \n",
      "3 | relu   | ReLU       | 0     \n",
      "--------------------------------------\n",
      "413 K     Trainable params\n",
      "0         Non-trainable params\n",
      "413 K     Total params\n",
      "1.655     Total estimated model params size (MB)\n"
     ]
    },
    {
     "name": "stdout",
     "output_type": "stream",
     "text": [
      "Epoch 49: 100%|██████████| 4/4 [00:00<00:00, 66.61it/s, loss=0.816, v_num=106]  "
     ]
    },
    {
     "name": "stderr",
     "output_type": "stream",
     "text": [
      "`Trainer.fit` stopped: `max_epochs=50` reached.\n"
     ]
    },
    {
     "name": "stdout",
     "output_type": "stream",
     "text": [
      "Epoch 49: 100%|██████████| 4/4 [00:00<00:00, 49.85it/s, loss=0.816, v_num=106]\n"
     ]
    },
    {
     "name": "stderr",
     "output_type": "stream",
     "text": [
      "\u001b[32m[I 2023-01-15 02:45:15,398]\u001b[0m Trial 207 finished with value: 0.9255176186561584 and parameters: {'num_neurons': 261, 'batch_size': 317, 'learning_rate': 0.04194486877707738, 'layers': 6}. Best is trial 203 with value: 0.3864937424659729.\u001b[0m\n",
      "GPU available: True (mps), used: True\n",
      "TPU available: False, using: 0 TPU cores\n",
      "IPU available: False, using: 0 IPUs\n",
      "HPU available: False, using: 0 HPUs\n",
      "\n",
      "  | Name   | Type       | Params\n",
      "--------------------------------------\n",
      "0 | input  | Linear     | 3.0 K \n",
      "1 | hidden | Sequential | 364 K \n",
      "2 | output | Linear     | 247   \n",
      "3 | relu   | ReLU       | 0     \n",
      "--------------------------------------\n",
      "367 K     Trainable params\n",
      "0         Non-trainable params\n",
      "367 K     Total params\n",
      "1.471     Total estimated model params size (MB)\n"
     ]
    },
    {
     "name": "stdout",
     "output_type": "stream",
     "text": [
      "Epoch 49: 100%|██████████| 4/4 [00:00<00:00, 45.56it/s, loss=0.82, v_num=107]   "
     ]
    },
    {
     "name": "stderr",
     "output_type": "stream",
     "text": [
      "`Trainer.fit` stopped: `max_epochs=50` reached.\n"
     ]
    },
    {
     "name": "stdout",
     "output_type": "stream",
     "text": [
      "Epoch 49: 100%|██████████| 4/4 [00:00<00:00, 37.81it/s, loss=0.82, v_num=107]\n"
     ]
    },
    {
     "name": "stderr",
     "output_type": "stream",
     "text": [
      "\u001b[32m[I 2023-01-15 02:45:19,681]\u001b[0m Trial 208 finished with value: 0.9341521859169006 and parameters: {'num_neurons': 246, 'batch_size': 319, 'learning_rate': 0.047359016414764435, 'layers': 6}. Best is trial 203 with value: 0.3864937424659729.\u001b[0m\n",
      "GPU available: True (mps), used: True\n",
      "TPU available: False, using: 0 TPU cores\n",
      "IPU available: False, using: 0 IPUs\n",
      "HPU available: False, using: 0 HPUs\n",
      "\n",
      "  | Name   | Type       | Params\n",
      "--------------------------------------\n",
      "0 | input  | Linear     | 3.1 K \n",
      "1 | hidden | Sequential | 407 K \n",
      "2 | output | Linear     | 261   \n",
      "3 | relu   | ReLU       | 0     \n",
      "--------------------------------------\n",
      "410 K     Trainable params\n",
      "0         Non-trainable params\n",
      "410 K     Total params\n",
      "1.642     Total estimated model params size (MB)\n"
     ]
    },
    {
     "name": "stdout",
     "output_type": "stream",
     "text": [
      "Epoch 49: 100%|██████████| 4/4 [00:00<00:00, 69.20it/s, loss=0.827, v_num=108]  "
     ]
    },
    {
     "name": "stderr",
     "output_type": "stream",
     "text": [
      "`Trainer.fit` stopped: `max_epochs=50` reached.\n"
     ]
    },
    {
     "name": "stdout",
     "output_type": "stream",
     "text": [
      "Epoch 49: 100%|██████████| 4/4 [00:00<00:00, 50.79it/s, loss=0.827, v_num=108]\n"
     ]
    },
    {
     "name": "stderr",
     "output_type": "stream",
     "text": [
      "\u001b[32m[I 2023-01-15 02:45:24,082]\u001b[0m Trial 209 finished with value: 0.9510838985443115 and parameters: {'num_neurons': 260, 'batch_size': 321, 'learning_rate': 0.04252468569225315, 'layers': 6}. Best is trial 203 with value: 0.3864937424659729.\u001b[0m\n",
      "GPU available: True (mps), used: True\n",
      "TPU available: False, using: 0 TPU cores\n",
      "IPU available: False, using: 0 IPUs\n",
      "HPU available: False, using: 0 HPUs\n",
      "\n",
      "  | Name   | Type       | Params\n",
      "--------------------------------------\n",
      "0 | input  | Linear     | 3.2 K \n",
      "1 | hidden | Sequential | 435 K \n",
      "2 | output | Linear     | 270   \n",
      "3 | relu   | ReLU       | 0     \n",
      "--------------------------------------\n",
      "439 K     Trainable params\n",
      "0         Non-trainable params\n",
      "439 K     Total params\n",
      "1.757     Total estimated model params size (MB)\n"
     ]
    },
    {
     "name": "stdout",
     "output_type": "stream",
     "text": [
      "Epoch 49: 100%|██████████| 4/4 [00:00<00:00, 65.77it/s, loss=0.811, v_num=109]  "
     ]
    },
    {
     "name": "stderr",
     "output_type": "stream",
     "text": [
      "`Trainer.fit` stopped: `max_epochs=50` reached.\n"
     ]
    },
    {
     "name": "stdout",
     "output_type": "stream",
     "text": [
      "Epoch 49: 100%|██████████| 4/4 [00:00<00:00, 49.33it/s, loss=0.811, v_num=109]"
     ]
    },
    {
     "name": "stderr",
     "output_type": "stream",
     "text": [
      "\u001b[32m[I 2023-01-15 02:45:28,752]\u001b[0m Trial 210 finished with value: 0.9347295165061951 and parameters: {'num_neurons': 269, 'batch_size': 318, 'learning_rate': 0.039777357461327344, 'layers': 6}. Best is trial 203 with value: 0.3864937424659729.\u001b[0m\n"
     ]
    },
    {
     "name": "stdout",
     "output_type": "stream",
     "text": [
      "\n"
     ]
    },
    {
     "name": "stderr",
     "output_type": "stream",
     "text": [
      "GPU available: True (mps), used: True\n",
      "TPU available: False, using: 0 TPU cores\n",
      "IPU available: False, using: 0 IPUs\n",
      "HPU available: False, using: 0 HPUs\n",
      "\n",
      "  | Name   | Type       | Params\n",
      "--------------------------------------\n",
      "0 | input  | Linear     | 3.3 K \n",
      "1 | hidden | Sequential | 448 K \n",
      "2 | output | Linear     | 274   \n",
      "3 | relu   | ReLU       | 0     \n",
      "--------------------------------------\n",
      "452 K     Trainable params\n",
      "0         Non-trainable params\n",
      "452 K     Total params\n",
      "1.809     Total estimated model params size (MB)\n"
     ]
    },
    {
     "name": "stdout",
     "output_type": "stream",
     "text": [
      "Epoch 1: 100%|██████████| 4/4 [00:00<00:00, 60.95it/s, loss=5.49e+07, v_num=110]"
     ]
    },
    {
     "name": "stderr",
     "output_type": "stream",
     "text": [
      "NaN or Inf found in input tensor.\n"
     ]
    },
    {
     "name": "stdout",
     "output_type": "stream",
     "text": [
      "Epoch 49: 100%|██████████| 4/4 [00:00<00:00, 68.08it/s, loss=0.852, v_num=110]  "
     ]
    },
    {
     "name": "stderr",
     "output_type": "stream",
     "text": [
      "`Trainer.fit` stopped: `max_epochs=50` reached.\n"
     ]
    },
    {
     "name": "stdout",
     "output_type": "stream",
     "text": [
      "Epoch 49: 100%|██████████| 4/4 [00:00<00:00, 49.60it/s, loss=0.852, v_num=110]\n"
     ]
    },
    {
     "name": "stderr",
     "output_type": "stream",
     "text": [
      "\u001b[32m[I 2023-01-15 02:45:33,257]\u001b[0m Trial 211 finished with value: 0.9937945604324341 and parameters: {'num_neurons': 273, 'batch_size': 317, 'learning_rate': 0.04236051754070692, 'layers': 6}. Best is trial 203 with value: 0.3864937424659729.\u001b[0m\n",
      "GPU available: True (mps), used: True\n",
      "TPU available: False, using: 0 TPU cores\n",
      "IPU available: False, using: 0 IPUs\n",
      "HPU available: False, using: 0 HPUs\n",
      "\n",
      "  | Name   | Type       | Params\n",
      "--------------------------------------\n",
      "0 | input  | Linear     | 3.3 K \n",
      "1 | hidden | Sequential | 452 K \n",
      "2 | output | Linear     | 275   \n",
      "3 | relu   | ReLU       | 0     \n",
      "--------------------------------------\n",
      "455 K     Trainable params\n",
      "0         Non-trainable params\n",
      "455 K     Total params\n",
      "1.823     Total estimated model params size (MB)\n"
     ]
    },
    {
     "name": "stdout",
     "output_type": "stream",
     "text": [
      "Epoch 49: 100%|██████████| 4/4 [00:00<00:00, 68.04it/s, loss=0.694, v_num=111]  "
     ]
    },
    {
     "name": "stderr",
     "output_type": "stream",
     "text": [
      "`Trainer.fit` stopped: `max_epochs=50` reached.\n"
     ]
    },
    {
     "name": "stdout",
     "output_type": "stream",
     "text": [
      "Epoch 49: 100%|██████████| 4/4 [00:00<00:00, 50.99it/s, loss=0.694, v_num=111]\n"
     ]
    },
    {
     "name": "stderr",
     "output_type": "stream",
     "text": [
      "\u001b[32m[I 2023-01-15 02:45:37,668]\u001b[0m Trial 212 finished with value: 0.7182402610778809 and parameters: {'num_neurons': 274, 'batch_size': 314, 'learning_rate': 0.042752198267358786, 'layers': 6}. Best is trial 203 with value: 0.3864937424659729.\u001b[0m\n",
      "GPU available: True (mps), used: True\n",
      "TPU available: False, using: 0 TPU cores\n",
      "IPU available: False, using: 0 IPUs\n",
      "HPU available: False, using: 0 HPUs\n",
      "\n",
      "  | Name   | Type       | Params\n",
      "--------------------------------------\n",
      "0 | input  | Linear     | 3.3 K \n",
      "1 | hidden | Sequential | 458 K \n",
      "2 | output | Linear     | 277   \n",
      "3 | relu   | ReLU       | 0     \n",
      "--------------------------------------\n",
      "462 K     Trainable params\n",
      "0         Non-trainable params\n",
      "462 K     Total params\n",
      "1.849     Total estimated model params size (MB)\n"
     ]
    },
    {
     "name": "stdout",
     "output_type": "stream",
     "text": [
      "Epoch 49: 100%|██████████| 4/4 [00:00<00:00, 67.52it/s, loss=0.804, v_num=112]  "
     ]
    },
    {
     "name": "stderr",
     "output_type": "stream",
     "text": [
      "`Trainer.fit` stopped: `max_epochs=50` reached.\n"
     ]
    },
    {
     "name": "stdout",
     "output_type": "stream",
     "text": [
      "Epoch 49: 100%|██████████| 4/4 [00:00<00:00, 51.09it/s, loss=0.804, v_num=112]\n"
     ]
    },
    {
     "name": "stderr",
     "output_type": "stream",
     "text": [
      "\u001b[32m[I 2023-01-15 02:45:42,069]\u001b[0m Trial 213 finished with value: 0.921604335308075 and parameters: {'num_neurons': 276, 'batch_size': 318, 'learning_rate': 0.04248002230749588, 'layers': 6}. Best is trial 203 with value: 0.3864937424659729.\u001b[0m\n",
      "GPU available: True (mps), used: True\n",
      "TPU available: False, using: 0 TPU cores\n",
      "IPU available: False, using: 0 IPUs\n",
      "HPU available: False, using: 0 HPUs\n",
      "\n",
      "  | Name   | Type       | Params\n",
      "--------------------------------------\n",
      "0 | input  | Linear     | 3.2 K \n",
      "1 | hidden | Sequential | 439 K \n",
      "2 | output | Linear     | 271   \n",
      "3 | relu   | ReLU       | 0     \n",
      "--------------------------------------\n",
      "442 K     Trainable params\n",
      "0         Non-trainable params\n",
      "442 K     Total params\n",
      "1.770     Total estimated model params size (MB)\n"
     ]
    },
    {
     "name": "stdout",
     "output_type": "stream",
     "text": [
      "Epoch 49: 100%|██████████| 4/4 [00:00<00:00, 67.65it/s, loss=0.952, v_num=113]  "
     ]
    },
    {
     "name": "stderr",
     "output_type": "stream",
     "text": [
      "`Trainer.fit` stopped: `max_epochs=50` reached.\n"
     ]
    },
    {
     "name": "stdout",
     "output_type": "stream",
     "text": [
      "Epoch 49: 100%|██████████| 4/4 [00:00<00:00, 50.63it/s, loss=0.952, v_num=113]\n"
     ]
    },
    {
     "name": "stderr",
     "output_type": "stream",
     "text": [
      "\u001b[32m[I 2023-01-15 02:45:46,527]\u001b[0m Trial 214 finished with value: 1.0986546277999878 and parameters: {'num_neurons': 270, 'batch_size': 319, 'learning_rate': 0.04191198088725029, 'layers': 6}. Best is trial 203 with value: 0.3864937424659729.\u001b[0m\n",
      "GPU available: True (mps), used: True\n",
      "TPU available: False, using: 0 TPU cores\n",
      "IPU available: False, using: 0 IPUs\n",
      "HPU available: False, using: 0 HPUs\n",
      "\n",
      "  | Name   | Type       | Params\n",
      "--------------------------------------\n",
      "0 | input  | Linear     | 3.3 K \n",
      "1 | hidden | Sequential | 445 K \n",
      "2 | output | Linear     | 273   \n",
      "3 | relu   | ReLU       | 0     \n",
      "--------------------------------------\n",
      "449 K     Trainable params\n",
      "0         Non-trainable params\n",
      "449 K     Total params\n",
      "1.796     Total estimated model params size (MB)\n"
     ]
    },
    {
     "name": "stdout",
     "output_type": "stream",
     "text": [
      "Epoch 49: 100%|██████████| 4/4 [00:00<00:00, 69.29it/s, loss=0.505, v_num=114]  "
     ]
    },
    {
     "name": "stderr",
     "output_type": "stream",
     "text": [
      "`Trainer.fit` stopped: `max_epochs=50` reached.\n"
     ]
    },
    {
     "name": "stdout",
     "output_type": "stream",
     "text": [
      "Epoch 49: 100%|██████████| 4/4 [00:00<00:00, 52.41it/s, loss=0.505, v_num=114]\n"
     ]
    },
    {
     "name": "stderr",
     "output_type": "stream",
     "text": [
      "\u001b[32m[I 2023-01-15 02:45:50,990]\u001b[0m Trial 215 finished with value: 0.4536667764186859 and parameters: {'num_neurons': 272, 'batch_size': 318, 'learning_rate': 0.04221472836627201, 'layers': 6}. Best is trial 203 with value: 0.3864937424659729.\u001b[0m\n",
      "GPU available: True (mps), used: True\n",
      "TPU available: False, using: 0 TPU cores\n",
      "IPU available: False, using: 0 IPUs\n",
      "HPU available: False, using: 0 HPUs\n",
      "\n",
      "  | Name   | Type       | Params\n",
      "--------------------------------------\n",
      "0 | input  | Linear     | 3.5 K \n",
      "1 | hidden | Sequential | 509 K \n",
      "2 | output | Linear     | 292   \n",
      "3 | relu   | ReLU       | 0     \n",
      "--------------------------------------\n",
      "513 K     Trainable params\n",
      "0         Non-trainable params\n",
      "513 K     Total params\n",
      "2.054     Total estimated model params size (MB)\n"
     ]
    },
    {
     "name": "stdout",
     "output_type": "stream",
     "text": [
      "Epoch 49: 100%|██████████| 4/4 [00:00<00:00, 68.24it/s, loss=0.808, v_num=115]  "
     ]
    },
    {
     "name": "stderr",
     "output_type": "stream",
     "text": [
      "`Trainer.fit` stopped: `max_epochs=50` reached.\n"
     ]
    },
    {
     "name": "stdout",
     "output_type": "stream",
     "text": [
      "Epoch 49: 100%|██████████| 4/4 [00:00<00:00, 49.63it/s, loss=0.808, v_num=115]\n"
     ]
    },
    {
     "name": "stderr",
     "output_type": "stream",
     "text": [
      "\u001b[32m[I 2023-01-15 02:45:55,568]\u001b[0m Trial 216 finished with value: 0.9145134091377258 and parameters: {'num_neurons': 291, 'batch_size': 316, 'learning_rate': 0.04106476312473022, 'layers': 6}. Best is trial 203 with value: 0.3864937424659729.\u001b[0m\n",
      "GPU available: True (mps), used: True\n",
      "TPU available: False, using: 0 TPU cores\n",
      "IPU available: False, using: 0 IPUs\n",
      "HPU available: False, using: 0 HPUs\n",
      "\n",
      "  | Name   | Type       | Params\n",
      "--------------------------------------\n",
      "0 | input  | Linear     | 3.5 K \n",
      "1 | hidden | Sequential | 506 K \n",
      "2 | output | Linear     | 291   \n",
      "3 | relu   | ReLU       | 0     \n",
      "--------------------------------------\n",
      "510 K     Trainable params\n",
      "0         Non-trainable params\n",
      "510 K     Total params\n",
      "2.040     Total estimated model params size (MB)\n"
     ]
    },
    {
     "name": "stdout",
     "output_type": "stream",
     "text": [
      "Epoch 49: 100%|██████████| 4/4 [00:00<00:00, 64.48it/s, loss=0.243, v_num=116]  "
     ]
    },
    {
     "name": "stderr",
     "output_type": "stream",
     "text": [
      "`Trainer.fit` stopped: `max_epochs=50` reached.\n"
     ]
    },
    {
     "name": "stdout",
     "output_type": "stream",
     "text": [
      "Epoch 49: 100%|██████████| 4/4 [00:00<00:00, 48.91it/s, loss=0.243, v_num=116]\n"
     ]
    },
    {
     "name": "stderr",
     "output_type": "stream",
     "text": [
      "\u001b[32m[I 2023-01-15 02:46:00,108]\u001b[0m Trial 217 finished with value: 0.23741209506988525 and parameters: {'num_neurons': 290, 'batch_size': 317, 'learning_rate': 0.04189302872848991, 'layers': 6}. Best is trial 217 with value: 0.23741209506988525.\u001b[0m\n",
      "GPU available: True (mps), used: True\n",
      "TPU available: False, using: 0 TPU cores\n",
      "IPU available: False, using: 0 IPUs\n",
      "HPU available: False, using: 0 HPUs\n",
      "\n",
      "  | Name   | Type       | Params\n",
      "--------------------------------------\n",
      "0 | input  | Linear     | 3.5 K \n",
      "1 | hidden | Sequential | 509 K \n",
      "2 | output | Linear     | 292   \n",
      "3 | relu   | ReLU       | 0     \n",
      "--------------------------------------\n",
      "513 K     Trainable params\n",
      "0         Non-trainable params\n",
      "513 K     Total params\n",
      "2.054     Total estimated model params size (MB)\n"
     ]
    },
    {
     "name": "stdout",
     "output_type": "stream",
     "text": [
      "Epoch 49: 100%|██████████| 4/4 [00:00<00:00, 68.47it/s, loss=0.799, v_num=117]  "
     ]
    },
    {
     "name": "stderr",
     "output_type": "stream",
     "text": [
      "`Trainer.fit` stopped: `max_epochs=50` reached.\n"
     ]
    },
    {
     "name": "stdout",
     "output_type": "stream",
     "text": [
      "Epoch 49: 100%|██████████| 4/4 [00:00<00:00, 50.32it/s, loss=0.799, v_num=117]\n"
     ]
    },
    {
     "name": "stderr",
     "output_type": "stream",
     "text": [
      "\u001b[32m[I 2023-01-15 02:46:04,498]\u001b[0m Trial 218 finished with value: 0.922995388507843 and parameters: {'num_neurons': 291, 'batch_size': 317, 'learning_rate': 0.0421126261269736, 'layers': 6}. Best is trial 217 with value: 0.23741209506988525.\u001b[0m\n",
      "GPU available: True (mps), used: True\n",
      "TPU available: False, using: 0 TPU cores\n",
      "IPU available: False, using: 0 IPUs\n",
      "HPU available: False, using: 0 HPUs\n",
      "\n",
      "  | Name   | Type       | Params\n",
      "--------------------------------------\n",
      "0 | input  | Linear     | 3.5 K \n",
      "1 | hidden | Sequential | 523 K \n",
      "2 | output | Linear     | 296   \n",
      "3 | relu   | ReLU       | 0     \n",
      "--------------------------------------\n",
      "527 K     Trainable params\n",
      "0         Non-trainable params\n",
      "527 K     Total params\n",
      "2.111     Total estimated model params size (MB)\n"
     ]
    },
    {
     "name": "stdout",
     "output_type": "stream",
     "text": [
      "Epoch 49: 100%|██████████| 4/4 [00:00<00:00, 67.22it/s, loss=0.279, v_num=118]  "
     ]
    },
    {
     "name": "stderr",
     "output_type": "stream",
     "text": [
      "`Trainer.fit` stopped: `max_epochs=50` reached.\n"
     ]
    },
    {
     "name": "stdout",
     "output_type": "stream",
     "text": [
      "Epoch 49: 100%|██████████| 4/4 [00:00<00:00, 51.23it/s, loss=0.279, v_num=118]\n"
     ]
    },
    {
     "name": "stderr",
     "output_type": "stream",
     "text": [
      "\u001b[32m[I 2023-01-15 02:46:09,038]\u001b[0m Trial 219 finished with value: 0.17799986898899078 and parameters: {'num_neurons': 295, 'batch_size': 317, 'learning_rate': 0.04155376405223283, 'layers': 6}. Best is trial 219 with value: 0.17799986898899078.\u001b[0m\n",
      "GPU available: True (mps), used: True\n",
      "TPU available: False, using: 0 TPU cores\n",
      "IPU available: False, using: 0 IPUs\n",
      "HPU available: False, using: 0 HPUs\n",
      "\n",
      "  | Name   | Type       | Params\n",
      "--------------------------------------\n",
      "0 | input  | Linear     | 3.5 K \n",
      "1 | hidden | Sequential | 502 K \n",
      "2 | output | Linear     | 290   \n",
      "3 | relu   | ReLU       | 0     \n",
      "--------------------------------------\n",
      "506 K     Trainable params\n",
      "0         Non-trainable params\n",
      "506 K     Total params\n",
      "2.026     Total estimated model params size (MB)\n"
     ]
    },
    {
     "name": "stdout",
     "output_type": "stream",
     "text": [
      "Epoch 49: 100%|██████████| 4/4 [00:00<00:00, 66.86it/s, loss=0.813, v_num=119]  "
     ]
    },
    {
     "name": "stderr",
     "output_type": "stream",
     "text": [
      "`Trainer.fit` stopped: `max_epochs=50` reached.\n"
     ]
    },
    {
     "name": "stdout",
     "output_type": "stream",
     "text": [
      "Epoch 49: 100%|██████████| 4/4 [00:00<00:00, 50.79it/s, loss=0.813, v_num=119]\n"
     ]
    },
    {
     "name": "stderr",
     "output_type": "stream",
     "text": [
      "\u001b[32m[I 2023-01-15 02:46:13,612]\u001b[0m Trial 220 finished with value: 0.9205381274223328 and parameters: {'num_neurons': 289, 'batch_size': 318, 'learning_rate': 0.04251844644548543, 'layers': 6}. Best is trial 219 with value: 0.17799986898899078.\u001b[0m\n",
      "GPU available: True (mps), used: True\n",
      "TPU available: False, using: 0 TPU cores\n",
      "IPU available: False, using: 0 IPUs\n",
      "HPU available: False, using: 0 HPUs\n",
      "\n",
      "  | Name   | Type       | Params\n",
      "--------------------------------------\n",
      "0 | input  | Linear     | 3.5 K \n",
      "1 | hidden | Sequential | 516 K \n",
      "2 | output | Linear     | 294   \n",
      "3 | relu   | ReLU       | 0     \n",
      "--------------------------------------\n",
      "520 K     Trainable params\n",
      "0         Non-trainable params\n",
      "520 K     Total params\n",
      "2.083     Total estimated model params size (MB)\n"
     ]
    },
    {
     "name": "stdout",
     "output_type": "stream",
     "text": [
      "Epoch 49: 100%|██████████| 4/4 [00:00<00:00, 67.94it/s, loss=0.465, v_num=120]  "
     ]
    },
    {
     "name": "stderr",
     "output_type": "stream",
     "text": [
      "`Trainer.fit` stopped: `max_epochs=50` reached.\n"
     ]
    },
    {
     "name": "stdout",
     "output_type": "stream",
     "text": [
      "Epoch 49: 100%|██████████| 4/4 [00:00<00:00, 50.60it/s, loss=0.465, v_num=120]\n"
     ]
    },
    {
     "name": "stderr",
     "output_type": "stream",
     "text": [
      "\u001b[32m[I 2023-01-15 02:46:18,124]\u001b[0m Trial 221 finished with value: 0.5151259303092957 and parameters: {'num_neurons': 293, 'batch_size': 317, 'learning_rate': 0.041504140919766036, 'layers': 6}. Best is trial 219 with value: 0.17799986898899078.\u001b[0m\n",
      "GPU available: True (mps), used: True\n",
      "TPU available: False, using: 0 TPU cores\n",
      "IPU available: False, using: 0 IPUs\n",
      "HPU available: False, using: 0 HPUs\n",
      "\n",
      "  | Name   | Type       | Params\n",
      "--------------------------------------\n",
      "0 | input  | Linear     | 3.5 K \n",
      "1 | hidden | Sequential | 523 K \n",
      "2 | output | Linear     | 296   \n",
      "3 | relu   | ReLU       | 0     \n",
      "--------------------------------------\n",
      "527 K     Trainable params\n",
      "0         Non-trainable params\n",
      "527 K     Total params\n",
      "2.111     Total estimated model params size (MB)\n"
     ]
    },
    {
     "name": "stdout",
     "output_type": "stream",
     "text": [
      "Epoch 49: 100%|██████████| 4/4 [00:00<00:00, 65.59it/s, loss=0.644, v_num=121]  "
     ]
    },
    {
     "name": "stderr",
     "output_type": "stream",
     "text": [
      "`Trainer.fit` stopped: `max_epochs=50` reached.\n"
     ]
    },
    {
     "name": "stdout",
     "output_type": "stream",
     "text": [
      "Epoch 49: 100%|██████████| 4/4 [00:00<00:00, 48.98it/s, loss=0.644, v_num=121]\n"
     ]
    },
    {
     "name": "stderr",
     "output_type": "stream",
     "text": [
      "\u001b[32m[I 2023-01-15 02:46:22,580]\u001b[0m Trial 222 finished with value: 0.763683557510376 and parameters: {'num_neurons': 295, 'batch_size': 317, 'learning_rate': 0.04213413620161781, 'layers': 6}. Best is trial 219 with value: 0.17799986898899078.\u001b[0m\n",
      "GPU available: True (mps), used: True\n",
      "TPU available: False, using: 0 TPU cores\n",
      "IPU available: False, using: 0 IPUs\n",
      "HPU available: False, using: 0 HPUs\n",
      "\n",
      "  | Name   | Type       | Params\n",
      "--------------------------------------\n",
      "0 | input  | Linear     | 3.5 K \n",
      "1 | hidden | Sequential | 509 K \n",
      "2 | output | Linear     | 292   \n",
      "3 | relu   | ReLU       | 0     \n",
      "--------------------------------------\n",
      "513 K     Trainable params\n",
      "0         Non-trainable params\n",
      "513 K     Total params\n",
      "2.054     Total estimated model params size (MB)\n"
     ]
    },
    {
     "name": "stdout",
     "output_type": "stream",
     "text": [
      "Epoch 49: 100%|██████████| 4/4 [00:00<00:00, 69.17it/s, loss=0.813, v_num=122]  "
     ]
    },
    {
     "name": "stderr",
     "output_type": "stream",
     "text": [
      "`Trainer.fit` stopped: `max_epochs=50` reached.\n"
     ]
    },
    {
     "name": "stdout",
     "output_type": "stream",
     "text": [
      "Epoch 49: 100%|██████████| 4/4 [00:00<00:00, 51.22it/s, loss=0.813, v_num=122]\n"
     ]
    },
    {
     "name": "stderr",
     "output_type": "stream",
     "text": [
      "\u001b[32m[I 2023-01-15 02:46:26,958]\u001b[0m Trial 223 finished with value: 0.9196584224700928 and parameters: {'num_neurons': 291, 'batch_size': 315, 'learning_rate': 0.04235064110807753, 'layers': 6}. Best is trial 219 with value: 0.17799986898899078.\u001b[0m\n",
      "GPU available: True (mps), used: True\n",
      "TPU available: False, using: 0 TPU cores\n",
      "IPU available: False, using: 0 IPUs\n",
      "HPU available: False, using: 0 HPUs\n",
      "\n",
      "  | Name   | Type       | Params\n",
      "--------------------------------------\n",
      "0 | input  | Linear     | 3.5 K \n",
      "1 | hidden | Sequential | 520 K \n",
      "2 | output | Linear     | 295   \n",
      "3 | relu   | ReLU       | 0     \n",
      "--------------------------------------\n",
      "524 K     Trainable params\n",
      "0         Non-trainable params\n",
      "524 K     Total params\n",
      "2.097     Total estimated model params size (MB)\n"
     ]
    },
    {
     "name": "stdout",
     "output_type": "stream",
     "text": [
      "Epoch 49: 100%|██████████| 4/4 [00:00<00:00, 68.57it/s, loss=0.344, v_num=123]  "
     ]
    },
    {
     "name": "stderr",
     "output_type": "stream",
     "text": [
      "`Trainer.fit` stopped: `max_epochs=50` reached.\n"
     ]
    },
    {
     "name": "stdout",
     "output_type": "stream",
     "text": [
      "Epoch 49: 100%|██████████| 4/4 [00:00<00:00, 50.71it/s, loss=0.344, v_num=123]\n"
     ]
    },
    {
     "name": "stderr",
     "output_type": "stream",
     "text": [
      "\u001b[32m[I 2023-01-15 02:46:31,455]\u001b[0m Trial 224 finished with value: 0.33191317319869995 and parameters: {'num_neurons': 294, 'batch_size': 318, 'learning_rate': 0.041895661282194296, 'layers': 6}. Best is trial 219 with value: 0.17799986898899078.\u001b[0m\n",
      "GPU available: True (mps), used: True\n",
      "TPU available: False, using: 0 TPU cores\n",
      "IPU available: False, using: 0 IPUs\n",
      "HPU available: False, using: 0 HPUs\n",
      "\n",
      "  | Name   | Type       | Params\n",
      "--------------------------------------\n",
      "0 | input  | Linear     | 3.6 K \n",
      "1 | hidden | Sequential | 527 K \n",
      "2 | output | Linear     | 297   \n",
      "3 | relu   | ReLU       | 0     \n",
      "--------------------------------------\n",
      "531 K     Trainable params\n",
      "0         Non-trainable params\n",
      "531 K     Total params\n",
      "2.125     Total estimated model params size (MB)\n"
     ]
    },
    {
     "name": "stdout",
     "output_type": "stream",
     "text": [
      "Epoch 49: 100%|██████████| 4/4 [00:00<00:00, 68.30it/s, loss=0.265, v_num=124]  "
     ]
    },
    {
     "name": "stderr",
     "output_type": "stream",
     "text": [
      "`Trainer.fit` stopped: `max_epochs=50` reached.\n"
     ]
    },
    {
     "name": "stdout",
     "output_type": "stream",
     "text": [
      "Epoch 49: 100%|██████████| 4/4 [00:00<00:00, 50.78it/s, loss=0.265, v_num=124]\n"
     ]
    },
    {
     "name": "stderr",
     "output_type": "stream",
     "text": [
      "\u001b[32m[I 2023-01-15 02:46:35,938]\u001b[0m Trial 225 finished with value: 0.2335207313299179 and parameters: {'num_neurons': 296, 'batch_size': 315, 'learning_rate': 0.03756023498883769, 'layers': 6}. Best is trial 219 with value: 0.17799986898899078.\u001b[0m\n",
      "GPU available: True (mps), used: True\n",
      "TPU available: False, using: 0 TPU cores\n",
      "IPU available: False, using: 0 IPUs\n",
      "HPU available: False, using: 0 HPUs\n",
      "\n",
      "  | Name   | Type       | Params\n",
      "--------------------------------------\n",
      "0 | input  | Linear     | 3.5 K \n",
      "1 | hidden | Sequential | 598 K \n",
      "2 | output | Linear     | 293   \n",
      "3 | relu   | ReLU       | 0     \n",
      "--------------------------------------\n",
      "602 K     Trainable params\n",
      "0         Non-trainable params\n",
      "602 K     Total params\n",
      "2.411     Total estimated model params size (MB)\n"
     ]
    },
    {
     "name": "stdout",
     "output_type": "stream",
     "text": [
      "Epoch 49: 100%|██████████| 4/4 [00:00<00:00, 62.79it/s, loss=0.464, v_num=125]  "
     ]
    },
    {
     "name": "stderr",
     "output_type": "stream",
     "text": [
      "`Trainer.fit` stopped: `max_epochs=50` reached.\n"
     ]
    },
    {
     "name": "stdout",
     "output_type": "stream",
     "text": [
      "Epoch 49: 100%|██████████| 4/4 [00:00<00:00, 46.09it/s, loss=0.464, v_num=125]\n"
     ]
    },
    {
     "name": "stderr",
     "output_type": "stream",
     "text": [
      "\u001b[32m[I 2023-01-15 02:46:40,875]\u001b[0m Trial 226 finished with value: 0.5029416680335999 and parameters: {'num_neurons': 292, 'batch_size': 322, 'learning_rate': 0.03828334047294329, 'layers': 7}. Best is trial 219 with value: 0.17799986898899078.\u001b[0m\n",
      "GPU available: True (mps), used: True\n",
      "TPU available: False, using: 0 TPU cores\n",
      "IPU available: False, using: 0 IPUs\n",
      "HPU available: False, using: 0 HPUs\n",
      "\n",
      "  | Name   | Type       | Params\n",
      "--------------------------------------\n",
      "0 | input  | Linear     | 3.6 K \n",
      "1 | hidden | Sequential | 619 K \n",
      "2 | output | Linear     | 298   \n",
      "3 | relu   | ReLU       | 0     \n",
      "--------------------------------------\n",
      "623 K     Trainable params\n",
      "0         Non-trainable params\n",
      "623 K     Total params\n",
      "2.494     Total estimated model params size (MB)\n"
     ]
    },
    {
     "name": "stdout",
     "output_type": "stream",
     "text": [
      "Epoch 49: 100%|██████████| 4/4 [00:00<00:00, 63.99it/s, loss=0.823, v_num=126]   "
     ]
    },
    {
     "name": "stderr",
     "output_type": "stream",
     "text": [
      "`Trainer.fit` stopped: `max_epochs=50` reached.\n"
     ]
    },
    {
     "name": "stdout",
     "output_type": "stream",
     "text": [
      "Epoch 49: 100%|██████████| 4/4 [00:00<00:00, 46.19it/s, loss=0.823, v_num=126]\n"
     ]
    },
    {
     "name": "stderr",
     "output_type": "stream",
     "text": [
      "\u001b[32m[I 2023-01-15 02:46:46,040]\u001b[0m Trial 227 finished with value: 0.924517035484314 and parameters: {'num_neurons': 297, 'batch_size': 325, 'learning_rate': 0.038480825154348614, 'layers': 7}. Best is trial 219 with value: 0.17799986898899078.\u001b[0m\n",
      "GPU available: True (mps), used: True\n",
      "TPU available: False, using: 0 TPU cores\n",
      "IPU available: False, using: 0 IPUs\n",
      "HPU available: False, using: 0 HPUs\n",
      "\n",
      "  | Name   | Type       | Params\n",
      "--------------------------------------\n",
      "0 | input  | Linear     | 3.5 K \n",
      "1 | hidden | Sequential | 598 K \n",
      "2 | output | Linear     | 293   \n",
      "3 | relu   | ReLU       | 0     \n",
      "--------------------------------------\n",
      "602 K     Trainable params\n",
      "0         Non-trainable params\n",
      "602 K     Total params\n",
      "2.411     Total estimated model params size (MB)\n"
     ]
    },
    {
     "name": "stdout",
     "output_type": "stream",
     "text": [
      "Epoch 49: 100%|██████████| 4/4 [00:00<00:00, 64.91it/s, loss=0.84, v_num=127]   "
     ]
    },
    {
     "name": "stderr",
     "output_type": "stream",
     "text": [
      "`Trainer.fit` stopped: `max_epochs=50` reached.\n"
     ]
    },
    {
     "name": "stdout",
     "output_type": "stream",
     "text": [
      "Epoch 49: 100%|██████████| 4/4 [00:00<00:00, 48.51it/s, loss=0.84, v_num=127]\n"
     ]
    },
    {
     "name": "stderr",
     "output_type": "stream",
     "text": [
      "\u001b[32m[I 2023-01-15 02:46:50,803]\u001b[0m Trial 228 finished with value: 0.9691710472106934 and parameters: {'num_neurons': 292, 'batch_size': 328, 'learning_rate': 0.03701596376534511, 'layers': 7}. Best is trial 219 with value: 0.17799986898899078.\u001b[0m\n",
      "GPU available: True (mps), used: True\n",
      "TPU available: False, using: 0 TPU cores\n",
      "IPU available: False, using: 0 IPUs\n",
      "HPU available: False, using: 0 HPUs\n",
      "\n",
      "  | Name   | Type       | Params\n",
      "--------------------------------------\n",
      "0 | input  | Linear     | 3.8 K \n",
      "1 | hidden | Sequential | 608 K \n",
      "2 | output | Linear     | 319   \n",
      "3 | relu   | ReLU       | 0     \n",
      "--------------------------------------\n",
      "612 K     Trainable params\n",
      "0         Non-trainable params\n",
      "612 K     Total params\n",
      "2.451     Total estimated model params size (MB)\n"
     ]
    },
    {
     "name": "stdout",
     "output_type": "stream",
     "text": [
      "Epoch 49: 100%|██████████| 4/4 [00:00<00:00, 67.68it/s, loss=0.822, v_num=128]  "
     ]
    },
    {
     "name": "stderr",
     "output_type": "stream",
     "text": [
      "`Trainer.fit` stopped: `max_epochs=50` reached.\n"
     ]
    },
    {
     "name": "stdout",
     "output_type": "stream",
     "text": [
      "Epoch 49: 100%|██████████| 4/4 [00:00<00:00, 48.75it/s, loss=0.822, v_num=128]\n"
     ]
    },
    {
     "name": "stderr",
     "output_type": "stream",
     "text": [
      "\u001b[32m[I 2023-01-15 02:46:55,501]\u001b[0m Trial 229 finished with value: 0.9370521306991577 and parameters: {'num_neurons': 318, 'batch_size': 324, 'learning_rate': 0.04490412080789168, 'layers': 6}. Best is trial 219 with value: 0.17799986898899078.\u001b[0m\n",
      "GPU available: True (mps), used: True\n",
      "TPU available: False, using: 0 TPU cores\n",
      "IPU available: False, using: 0 IPUs\n",
      "HPU available: False, using: 0 HPUs\n",
      "\n",
      "  | Name   | Type       | Params\n",
      "--------------------------------------\n",
      "0 | input  | Linear     | 3.8 K \n",
      "1 | hidden | Sequential | 692 K \n",
      "2 | output | Linear     | 315   \n",
      "3 | relu   | ReLU       | 0     \n",
      "--------------------------------------\n",
      "696 K     Trainable params\n",
      "0         Non-trainable params\n",
      "696 K     Total params\n",
      "2.786     Total estimated model params size (MB)\n"
     ]
    },
    {
     "name": "stdout",
     "output_type": "stream",
     "text": [
      "Epoch 49: 100%|██████████| 4/4 [00:00<00:00, 64.60it/s, loss=0.701, v_num=129]  "
     ]
    },
    {
     "name": "stderr",
     "output_type": "stream",
     "text": [
      "`Trainer.fit` stopped: `max_epochs=50` reached.\n"
     ]
    },
    {
     "name": "stdout",
     "output_type": "stream",
     "text": [
      "Epoch 49: 100%|██████████| 4/4 [00:00<00:00, 47.06it/s, loss=0.701, v_num=129]\n"
     ]
    },
    {
     "name": "stderr",
     "output_type": "stream",
     "text": [
      "\u001b[32m[I 2023-01-15 02:47:00,535]\u001b[0m Trial 230 finished with value: 0.8355918526649475 and parameters: {'num_neurons': 314, 'batch_size': 305, 'learning_rate': 0.03896588413352874, 'layers': 7}. Best is trial 219 with value: 0.17799986898899078.\u001b[0m\n",
      "GPU available: True (mps), used: True\n",
      "TPU available: False, using: 0 TPU cores\n",
      "IPU available: False, using: 0 IPUs\n",
      "HPU available: False, using: 0 HPUs\n",
      "\n",
      "  | Name   | Type       | Params\n",
      "--------------------------------------\n",
      "0 | input  | Linear     | 3.5 K \n",
      "1 | hidden | Sequential | 602 K \n",
      "2 | output | Linear     | 294   \n",
      "3 | relu   | ReLU       | 0     \n",
      "--------------------------------------\n",
      "606 K     Trainable params\n",
      "0         Non-trainable params\n",
      "606 K     Total params\n",
      "2.427     Total estimated model params size (MB)\n"
     ]
    },
    {
     "name": "stdout",
     "output_type": "stream",
     "text": [
      "Epoch 49: 100%|██████████| 4/4 [00:00<00:00, 63.31it/s, loss=0.349, v_num=130]  "
     ]
    },
    {
     "name": "stderr",
     "output_type": "stream",
     "text": [
      "`Trainer.fit` stopped: `max_epochs=50` reached.\n"
     ]
    },
    {
     "name": "stdout",
     "output_type": "stream",
     "text": [
      "Epoch 49: 100%|██████████| 4/4 [00:00<00:00, 46.83it/s, loss=0.349, v_num=130]\n"
     ]
    },
    {
     "name": "stderr",
     "output_type": "stream",
     "text": [
      "\u001b[32m[I 2023-01-15 02:47:05,406]\u001b[0m Trial 231 finished with value: 0.3003505766391754 and parameters: {'num_neurons': 293, 'batch_size': 307, 'learning_rate': 0.038642826279189885, 'layers': 7}. Best is trial 219 with value: 0.17799986898899078.\u001b[0m\n",
      "GPU available: True (mps), used: True\n",
      "TPU available: False, using: 0 TPU cores\n",
      "IPU available: False, using: 0 IPUs\n",
      "HPU available: False, using: 0 HPUs\n",
      "\n",
      "  | Name   | Type       | Params\n",
      "--------------------------------------\n",
      "0 | input  | Linear     | 3.5 K \n",
      "1 | hidden | Sequential | 598 K \n",
      "2 | output | Linear     | 293   \n",
      "3 | relu   | ReLU       | 0     \n",
      "--------------------------------------\n",
      "602 K     Trainable params\n",
      "0         Non-trainable params\n",
      "602 K     Total params\n",
      "2.411     Total estimated model params size (MB)\n"
     ]
    },
    {
     "name": "stdout",
     "output_type": "stream",
     "text": [
      "Epoch 49: 100%|██████████| 4/4 [00:00<00:00, 47.86it/s, loss=0.825, v_num=131]  "
     ]
    },
    {
     "name": "stderr",
     "output_type": "stream",
     "text": [
      "`Trainer.fit` stopped: `max_epochs=50` reached.\n"
     ]
    },
    {
     "name": "stdout",
     "output_type": "stream",
     "text": [
      "Epoch 49: 100%|██████████| 4/4 [00:00<00:00, 38.73it/s, loss=0.825, v_num=131]\n"
     ]
    },
    {
     "name": "stderr",
     "output_type": "stream",
     "text": [
      "\u001b[32m[I 2023-01-15 02:47:10,090]\u001b[0m Trial 232 finished with value: 0.9315481185913086 and parameters: {'num_neurons': 292, 'batch_size': 307, 'learning_rate': 0.038064180068805416, 'layers': 7}. Best is trial 219 with value: 0.17799986898899078.\u001b[0m\n",
      "GPU available: True (mps), used: True\n",
      "TPU available: False, using: 0 TPU cores\n",
      "IPU available: False, using: 0 IPUs\n",
      "HPU available: False, using: 0 HPUs\n",
      "\n",
      "  | Name   | Type       | Params\n",
      "--------------------------------------\n",
      "0 | input  | Linear     | 3.5 K \n",
      "1 | hidden | Sequential | 607 K \n",
      "2 | output | Linear     | 295   \n",
      "3 | relu   | ReLU       | 0     \n",
      "--------------------------------------\n",
      "610 K     Trainable params\n",
      "0         Non-trainable params\n",
      "610 K     Total params\n",
      "2.444     Total estimated model params size (MB)\n"
     ]
    },
    {
     "name": "stdout",
     "output_type": "stream",
     "text": [
      "Epoch 49: 100%|██████████| 4/4 [00:00<00:00, 64.10it/s, loss=0.764, v_num=132]  "
     ]
    },
    {
     "name": "stderr",
     "output_type": "stream",
     "text": [
      "`Trainer.fit` stopped: `max_epochs=50` reached.\n"
     ]
    },
    {
     "name": "stdout",
     "output_type": "stream",
     "text": [
      "Epoch 49: 100%|██████████| 4/4 [00:00<00:00, 46.62it/s, loss=0.764, v_num=132]\n"
     ]
    },
    {
     "name": "stderr",
     "output_type": "stream",
     "text": [
      "\u001b[32m[I 2023-01-15 02:47:15,059]\u001b[0m Trial 233 finished with value: 0.846512496471405 and parameters: {'num_neurons': 294, 'batch_size': 305, 'learning_rate': 0.03750842532804347, 'layers': 7}. Best is trial 219 with value: 0.17799986898899078.\u001b[0m\n",
      "GPU available: True (mps), used: True\n",
      "TPU available: False, using: 0 TPU cores\n",
      "IPU available: False, using: 0 IPUs\n",
      "HPU available: False, using: 0 HPUs\n",
      "\n",
      "  | Name   | Type       | Params\n",
      "--------------------------------------\n",
      "0 | input  | Linear     | 3.5 K \n",
      "1 | hidden | Sequential | 611 K \n",
      "2 | output | Linear     | 296   \n",
      "3 | relu   | ReLU       | 0     \n",
      "--------------------------------------\n",
      "615 K     Trainable params\n",
      "0         Non-trainable params\n",
      "615 K     Total params\n",
      "2.460     Total estimated model params size (MB)\n"
     ]
    },
    {
     "name": "stdout",
     "output_type": "stream",
     "text": [
      "Epoch 49: 100%|██████████| 4/4 [00:00<00:00, 63.74it/s, loss=0.856, v_num=133]  "
     ]
    },
    {
     "name": "stderr",
     "output_type": "stream",
     "text": [
      "`Trainer.fit` stopped: `max_epochs=50` reached.\n"
     ]
    },
    {
     "name": "stdout",
     "output_type": "stream",
     "text": [
      "Epoch 49: 100%|██████████| 4/4 [00:00<00:00, 46.31it/s, loss=0.856, v_num=133]\n"
     ]
    },
    {
     "name": "stderr",
     "output_type": "stream",
     "text": [
      "\u001b[32m[I 2023-01-15 02:47:19,819]\u001b[0m Trial 234 finished with value: 1.013415813446045 and parameters: {'num_neurons': 295, 'batch_size': 305, 'learning_rate': 0.03692664177633914, 'layers': 7}. Best is trial 219 with value: 0.17799986898899078.\u001b[0m\n",
      "GPU available: True (mps), used: True\n",
      "TPU available: False, using: 0 TPU cores\n",
      "IPU available: False, using: 0 IPUs\n",
      "HPU available: False, using: 0 HPUs\n",
      "\n",
      "  | Name   | Type       | Params\n",
      "--------------------------------------\n",
      "0 | input  | Linear     | 3.7 K \n",
      "1 | hidden | Sequential | 666 K \n",
      "2 | output | Linear     | 309   \n",
      "3 | relu   | ReLU       | 0     \n",
      "--------------------------------------\n",
      "670 K     Trainable params\n",
      "0         Non-trainable params\n",
      "670 K     Total params\n",
      "2.681     Total estimated model params size (MB)\n"
     ]
    },
    {
     "name": "stdout",
     "output_type": "stream",
     "text": [
      "Epoch 49: 100%|██████████| 4/4 [00:00<00:00, 63.73it/s, loss=0.307, v_num=134]  "
     ]
    },
    {
     "name": "stderr",
     "output_type": "stream",
     "text": [
      "`Trainer.fit` stopped: `max_epochs=50` reached.\n"
     ]
    },
    {
     "name": "stdout",
     "output_type": "stream",
     "text": [
      "Epoch 49: 100%|██████████| 4/4 [00:00<00:00, 46.28it/s, loss=0.307, v_num=134]\n"
     ]
    },
    {
     "name": "stderr",
     "output_type": "stream",
     "text": [
      "\u001b[32m[I 2023-01-15 02:47:24,887]\u001b[0m Trial 235 finished with value: 0.25852179527282715 and parameters: {'num_neurons': 308, 'batch_size': 309, 'learning_rate': 0.03311331032132451, 'layers': 7}. Best is trial 219 with value: 0.17799986898899078.\u001b[0m\n",
      "GPU available: True (mps), used: True\n",
      "TPU available: False, using: 0 TPU cores\n",
      "IPU available: False, using: 0 IPUs\n",
      "HPU available: False, using: 0 HPUs\n",
      "\n",
      "  | Name   | Type       | Params\n",
      "--------------------------------------\n",
      "0 | input  | Linear     | 3.7 K \n",
      "1 | hidden | Sequential | 661 K \n",
      "2 | output | Linear     | 308   \n",
      "3 | relu   | ReLU       | 0     \n",
      "--------------------------------------\n",
      "665 K     Trainable params\n",
      "0         Non-trainable params\n",
      "665 K     Total params\n",
      "2.664     Total estimated model params size (MB)\n"
     ]
    },
    {
     "name": "stdout",
     "output_type": "stream",
     "text": [
      "Epoch 49: 100%|██████████| 4/4 [00:00<00:00, 44.80it/s, loss=0.827, v_num=135]  "
     ]
    },
    {
     "name": "stderr",
     "output_type": "stream",
     "text": [
      "`Trainer.fit` stopped: `max_epochs=50` reached.\n"
     ]
    },
    {
     "name": "stdout",
     "output_type": "stream",
     "text": [
      "Epoch 49: 100%|██████████| 4/4 [00:00<00:00, 35.05it/s, loss=0.827, v_num=135]\n"
     ]
    },
    {
     "name": "stderr",
     "output_type": "stream",
     "text": [
      "\u001b[32m[I 2023-01-15 02:47:30,029]\u001b[0m Trial 236 finished with value: 0.9355927109718323 and parameters: {'num_neurons': 307, 'batch_size': 306, 'learning_rate': 0.032245164426319806, 'layers': 7}. Best is trial 219 with value: 0.17799986898899078.\u001b[0m\n",
      "GPU available: True (mps), used: True\n",
      "TPU available: False, using: 0 TPU cores\n",
      "IPU available: False, using: 0 IPUs\n",
      "HPU available: False, using: 0 HPUs\n",
      "\n",
      "  | Name   | Type       | Params\n",
      "--------------------------------------\n",
      "0 | input  | Linear     | 3.5 K \n",
      "1 | hidden | Sequential | 582 K \n",
      "2 | output | Linear     | 289   \n",
      "3 | relu   | ReLU       | 0     \n",
      "--------------------------------------\n",
      "586 K     Trainable params\n",
      "0         Non-trainable params\n",
      "586 K     Total params\n",
      "2.345     Total estimated model params size (MB)\n"
     ]
    },
    {
     "name": "stdout",
     "output_type": "stream",
     "text": [
      "Epoch 49: 100%|██████████| 4/4 [00:00<00:00, 64.40it/s, loss=0.655, v_num=136]  "
     ]
    },
    {
     "name": "stderr",
     "output_type": "stream",
     "text": [
      "`Trainer.fit` stopped: `max_epochs=50` reached.\n"
     ]
    },
    {
     "name": "stdout",
     "output_type": "stream",
     "text": [
      "Epoch 49: 100%|██████████| 4/4 [00:00<00:00, 39.47it/s, loss=0.655, v_num=136]\n"
     ]
    },
    {
     "name": "stderr",
     "output_type": "stream",
     "text": [
      "\u001b[32m[I 2023-01-15 02:47:35,388]\u001b[0m Trial 237 finished with value: 0.24958176910877228 and parameters: {'num_neurons': 288, 'batch_size': 303, 'learning_rate': 0.03855856962970667, 'layers': 7}. Best is trial 219 with value: 0.17799986898899078.\u001b[0m\n",
      "GPU available: True (mps), used: True\n",
      "TPU available: False, using: 0 TPU cores\n",
      "IPU available: False, using: 0 IPUs\n",
      "HPU available: False, using: 0 HPUs\n",
      "\n",
      "  | Name   | Type       | Params\n",
      "--------------------------------------\n",
      "0 | input  | Linear     | 3.9 K \n",
      "1 | hidden | Sequential | 832 K \n",
      "2 | output | Linear     | 323   \n",
      "3 | relu   | ReLU       | 0     \n",
      "--------------------------------------\n",
      "836 K     Trainable params\n",
      "0         Non-trainable params\n",
      "836 K     Total params\n",
      "3.345     Total estimated model params size (MB)\n"
     ]
    },
    {
     "name": "stdout",
     "output_type": "stream",
     "text": [
      "Epoch 3: 100%|██████████| 4/4 [00:00<00:00, 52.38it/s, loss=2.49e+08, v_num=137]"
     ]
    },
    {
     "name": "stderr",
     "output_type": "stream",
     "text": [
      "NaN or Inf found in input tensor.\n"
     ]
    },
    {
     "name": "stdout",
     "output_type": "stream",
     "text": [
      "Epoch 49: 100%|██████████| 4/4 [00:00<00:00, 58.88it/s, loss=0.973, v_num=137]  "
     ]
    },
    {
     "name": "stderr",
     "output_type": "stream",
     "text": [
      "`Trainer.fit` stopped: `max_epochs=50` reached.\n"
     ]
    },
    {
     "name": "stdout",
     "output_type": "stream",
     "text": [
      "Epoch 49: 100%|██████████| 4/4 [00:00<00:00, 41.53it/s, loss=0.973, v_num=137]\n"
     ]
    },
    {
     "name": "stderr",
     "output_type": "stream",
     "text": [
      "\u001b[32m[I 2023-01-15 02:47:41,255]\u001b[0m Trial 238 finished with value: 1.0665793418884277 and parameters: {'num_neurons': 322, 'batch_size': 301, 'learning_rate': 0.034264015246437254, 'layers': 8}. Best is trial 219 with value: 0.17799986898899078.\u001b[0m\n",
      "GPU available: True (mps), used: True\n",
      "TPU available: False, using: 0 TPU cores\n",
      "IPU available: False, using: 0 IPUs\n",
      "HPU available: False, using: 0 HPUs\n",
      "\n",
      "  | Name   | Type       | Params\n",
      "--------------------------------------\n",
      "0 | input  | Linear     | 3.4 K \n",
      "1 | hidden | Sequential | 578 K \n",
      "2 | output | Linear     | 288   \n",
      "3 | relu   | ReLU       | 0     \n",
      "--------------------------------------\n",
      "582 K     Trainable params\n",
      "0         Non-trainable params\n",
      "582 K     Total params\n",
      "2.329     Total estimated model params size (MB)\n"
     ]
    },
    {
     "name": "stdout",
     "output_type": "stream",
     "text": [
      "Epoch 49: 100%|██████████| 4/4 [00:00<00:00, 49.89it/s, loss=0.511, v_num=138]  "
     ]
    },
    {
     "name": "stderr",
     "output_type": "stream",
     "text": [
      "`Trainer.fit` stopped: `max_epochs=50` reached.\n"
     ]
    },
    {
     "name": "stdout",
     "output_type": "stream",
     "text": [
      "Epoch 49: 100%|██████████| 4/4 [00:00<00:00, 35.60it/s, loss=0.511, v_num=138]\n"
     ]
    },
    {
     "name": "stderr",
     "output_type": "stream",
     "text": [
      "\u001b[32m[I 2023-01-15 02:47:46,484]\u001b[0m Trial 239 finished with value: 0.5420708060264587 and parameters: {'num_neurons': 287, 'batch_size': 308, 'learning_rate': 0.040464070835882875, 'layers': 7}. Best is trial 219 with value: 0.17799986898899078.\u001b[0m\n",
      "GPU available: True (mps), used: True\n",
      "TPU available: False, using: 0 TPU cores\n",
      "IPU available: False, using: 0 IPUs\n",
      "HPU available: False, using: 0 HPUs\n",
      "\n",
      "  | Name   | Type       | Params\n",
      "--------------------------------------\n",
      "0 | input  | Linear     | 3.4 K \n",
      "1 | hidden | Sequential | 562 K \n",
      "2 | output | Linear     | 284   \n",
      "3 | relu   | ReLU       | 0     \n",
      "--------------------------------------\n",
      "566 K     Trainable params\n",
      "0         Non-trainable params\n",
      "566 K     Total params\n",
      "2.265     Total estimated model params size (MB)\n"
     ]
    },
    {
     "name": "stdout",
     "output_type": "stream",
     "text": [
      "Epoch 49: 100%|██████████| 4/4 [00:00<00:00, 60.98it/s, loss=0.84, v_num=139]   "
     ]
    },
    {
     "name": "stderr",
     "output_type": "stream",
     "text": [
      "`Trainer.fit` stopped: `max_epochs=50` reached.\n"
     ]
    },
    {
     "name": "stdout",
     "output_type": "stream",
     "text": [
      "Epoch 49: 100%|██████████| 4/4 [00:00<00:00, 45.11it/s, loss=0.84, v_num=139]\n"
     ]
    },
    {
     "name": "stderr",
     "output_type": "stream",
     "text": [
      "\u001b[32m[I 2023-01-15 02:47:51,605]\u001b[0m Trial 240 finished with value: 0.9685438871383667 and parameters: {'num_neurons': 283, 'batch_size': 309, 'learning_rate': 0.04037271668791893, 'layers': 7}. Best is trial 219 with value: 0.17799986898899078.\u001b[0m\n",
      "GPU available: True (mps), used: True\n",
      "TPU available: False, using: 0 TPU cores\n",
      "IPU available: False, using: 0 IPUs\n",
      "HPU available: False, using: 0 HPUs\n",
      "\n",
      "  | Name   | Type       | Params\n",
      "--------------------------------------\n",
      "0 | input  | Linear     | 3.6 K \n",
      "1 | hidden | Sequential | 644 K \n",
      "2 | output | Linear     | 304   \n",
      "3 | relu   | ReLU       | 0     \n",
      "--------------------------------------\n",
      "648 K     Trainable params\n",
      "0         Non-trainable params\n",
      "648 K     Total params\n",
      "2.595     Total estimated model params size (MB)\n"
     ]
    },
    {
     "name": "stdout",
     "output_type": "stream",
     "text": [
      "Epoch 1: 100%|██████████| 4/4 [00:00<00:00, 53.29it/s, loss=3.18e+08, v_num=140]"
     ]
    },
    {
     "name": "stderr",
     "output_type": "stream",
     "text": [
      "NaN or Inf found in input tensor.\n"
     ]
    },
    {
     "name": "stdout",
     "output_type": "stream",
     "text": [
      "Epoch 49: 100%|██████████| 4/4 [00:00<00:00, 62.23it/s, loss=0.835, v_num=140]  "
     ]
    },
    {
     "name": "stderr",
     "output_type": "stream",
     "text": [
      "`Trainer.fit` stopped: `max_epochs=50` reached.\n"
     ]
    },
    {
     "name": "stdout",
     "output_type": "stream",
     "text": [
      "Epoch 49: 100%|██████████| 4/4 [00:00<00:00, 45.35it/s, loss=0.835, v_num=140]\n"
     ]
    },
    {
     "name": "stderr",
     "output_type": "stream",
     "text": [
      "\u001b[32m[I 2023-01-15 02:47:56,961]\u001b[0m Trial 241 finished with value: 0.9508273005485535 and parameters: {'num_neurons': 303, 'batch_size': 328, 'learning_rate': 0.038806461332678906, 'layers': 7}. Best is trial 219 with value: 0.17799986898899078.\u001b[0m\n",
      "GPU available: True (mps), used: True\n",
      "TPU available: False, using: 0 TPU cores\n",
      "IPU available: False, using: 0 IPUs\n",
      "HPU available: False, using: 0 HPUs\n",
      "\n",
      "  | Name   | Type       | Params\n",
      "--------------------------------------\n",
      "0 | input  | Linear     | 3.9 K \n",
      "1 | hidden | Sequential | 647 K \n",
      "2 | output | Linear     | 329   \n",
      "3 | relu   | ReLU       | 0     \n",
      "--------------------------------------\n",
      "651 K     Trainable params\n",
      "0         Non-trainable params\n",
      "651 K     Total params\n",
      "2.607     Total estimated model params size (MB)\n"
     ]
    },
    {
     "name": "stdout",
     "output_type": "stream",
     "text": [
      "Epoch 49: 100%|██████████| 4/4 [00:00<00:00, 63.96it/s, loss=0.399, v_num=141]  "
     ]
    },
    {
     "name": "stderr",
     "output_type": "stream",
     "text": [
      "`Trainer.fit` stopped: `max_epochs=50` reached.\n"
     ]
    },
    {
     "name": "stdout",
     "output_type": "stream",
     "text": [
      "Epoch 49: 100%|██████████| 4/4 [00:00<00:00, 42.34it/s, loss=0.399, v_num=141]\n"
     ]
    },
    {
     "name": "stderr",
     "output_type": "stream",
     "text": [
      "\u001b[32m[I 2023-01-15 02:48:02,183]\u001b[0m Trial 242 finished with value: 0.39412838220596313 and parameters: {'num_neurons': 328, 'batch_size': 298, 'learning_rate': 0.04383693593123384, 'layers': 6}. Best is trial 219 with value: 0.17799986898899078.\u001b[0m\n",
      "GPU available: True (mps), used: True\n",
      "TPU available: False, using: 0 TPU cores\n",
      "IPU available: False, using: 0 IPUs\n",
      "HPU available: False, using: 0 HPUs\n",
      "\n",
      "  | Name   | Type       | Params\n",
      "--------------------------------------\n",
      "0 | input  | Linear     | 3.9 K \n",
      "1 | hidden | Sequential | 651 K \n",
      "2 | output | Linear     | 330   \n",
      "3 | relu   | ReLU       | 0     \n",
      "--------------------------------------\n",
      "655 K     Trainable params\n",
      "0         Non-trainable params\n",
      "655 K     Total params\n",
      "2.623     Total estimated model params size (MB)\n"
     ]
    },
    {
     "name": "stdout",
     "output_type": "stream",
     "text": [
      "Epoch 49: 100%|██████████| 4/4 [00:00<00:00, 67.44it/s, loss=0.816, v_num=142]  "
     ]
    },
    {
     "name": "stderr",
     "output_type": "stream",
     "text": [
      "`Trainer.fit` stopped: `max_epochs=50` reached.\n"
     ]
    },
    {
     "name": "stdout",
     "output_type": "stream",
     "text": [
      "Epoch 49: 100%|██████████| 4/4 [00:00<00:00, 49.23it/s, loss=0.816, v_num=142]\n"
     ]
    },
    {
     "name": "stderr",
     "output_type": "stream",
     "text": [
      "\u001b[32m[I 2023-01-15 02:48:07,552]\u001b[0m Trial 243 finished with value: 0.9271547198295593 and parameters: {'num_neurons': 329, 'batch_size': 298, 'learning_rate': 0.04177589732994283, 'layers': 6}. Best is trial 219 with value: 0.17799986898899078.\u001b[0m\n",
      "GPU available: True (mps), used: True\n",
      "TPU available: False, using: 0 TPU cores\n",
      "IPU available: False, using: 0 IPUs\n",
      "HPU available: False, using: 0 HPUs\n",
      "\n",
      "  | Name   | Type       | Params\n",
      "--------------------------------------\n",
      "0 | input  | Linear     | 3.9 K \n",
      "1 | hidden | Sequential | 759 K \n",
      "2 | output | Linear     | 330   \n",
      "3 | relu   | ReLU       | 0     \n",
      "--------------------------------------\n",
      "764 K     Trainable params\n",
      "0         Non-trainable params\n",
      "764 K     Total params\n",
      "3.057     Total estimated model params size (MB)\n"
     ]
    },
    {
     "name": "stdout",
     "output_type": "stream",
     "text": [
      "Epoch 49: 100%|██████████| 4/4 [00:00<00:00, 63.42it/s, loss=0.818, v_num=143]  "
     ]
    },
    {
     "name": "stderr",
     "output_type": "stream",
     "text": [
      "`Trainer.fit` stopped: `max_epochs=50` reached.\n"
     ]
    },
    {
     "name": "stdout",
     "output_type": "stream",
     "text": [
      "Epoch 49: 100%|██████████| 4/4 [00:00<00:00, 43.29it/s, loss=0.818, v_num=143]\n"
     ]
    },
    {
     "name": "stderr",
     "output_type": "stream",
     "text": [
      "\u001b[32m[I 2023-01-15 02:48:13,232]\u001b[0m Trial 244 finished with value: 0.9296032786369324 and parameters: {'num_neurons': 329, 'batch_size': 299, 'learning_rate': 0.04183882104490938, 'layers': 7}. Best is trial 219 with value: 0.17799986898899078.\u001b[0m\n",
      "GPU available: True (mps), used: True\n",
      "TPU available: False, using: 0 TPU cores\n",
      "IPU available: False, using: 0 IPUs\n",
      "HPU available: False, using: 0 HPUs\n",
      "\n",
      "  | Name   | Type       | Params\n",
      "--------------------------------------\n",
      "0 | input  | Linear     | 4.2 K \n",
      "1 | hidden | Sequential | 728 K \n",
      "2 | output | Linear     | 349   \n",
      "3 | relu   | ReLU       | 0     \n",
      "--------------------------------------\n",
      "733 K     Trainable params\n",
      "0         Non-trainable params\n",
      "733 K     Total params\n",
      "2.933     Total estimated model params size (MB)\n"
     ]
    },
    {
     "name": "stdout",
     "output_type": "stream",
     "text": [
      "Epoch 49: 100%|██████████| 4/4 [00:00<00:00, 66.21it/s, loss=0.202, v_num=144]  "
     ]
    },
    {
     "name": "stderr",
     "output_type": "stream",
     "text": [
      "`Trainer.fit` stopped: `max_epochs=50` reached.\n"
     ]
    },
    {
     "name": "stdout",
     "output_type": "stream",
     "text": [
      "Epoch 49: 100%|██████████| 4/4 [00:00<00:00, 46.19it/s, loss=0.202, v_num=144]\n"
     ]
    },
    {
     "name": "stderr",
     "output_type": "stream",
     "text": [
      "\u001b[32m[I 2023-01-15 02:48:18,519]\u001b[0m Trial 245 finished with value: 0.1724710613489151 and parameters: {'num_neurons': 348, 'batch_size': 299, 'learning_rate': 0.03478268256158262, 'layers': 6}. Best is trial 245 with value: 0.1724710613489151.\u001b[0m\n",
      "GPU available: True (mps), used: True\n",
      "TPU available: False, using: 0 TPU cores\n",
      "IPU available: False, using: 0 IPUs\n",
      "HPU available: False, using: 0 HPUs\n",
      "\n",
      "  | Name   | Type       | Params\n",
      "--------------------------------------\n",
      "0 | input  | Linear     | 3.4 K \n",
      "1 | hidden | Sequential | 574 K \n",
      "2 | output | Linear     | 287   \n",
      "3 | relu   | ReLU       | 0     \n",
      "--------------------------------------\n",
      "578 K     Trainable params\n",
      "0         Non-trainable params\n",
      "578 K     Total params\n",
      "2.313     Total estimated model params size (MB)\n"
     ]
    },
    {
     "name": "stdout",
     "output_type": "stream",
     "text": [
      "Epoch 49: 100%|██████████| 4/4 [00:00<00:00, 57.71it/s, loss=0.621, v_num=145]  "
     ]
    },
    {
     "name": "stderr",
     "output_type": "stream",
     "text": [
      "`Trainer.fit` stopped: `max_epochs=50` reached.\n"
     ]
    },
    {
     "name": "stdout",
     "output_type": "stream",
     "text": [
      "Epoch 49: 100%|██████████| 4/4 [00:00<00:00, 43.48it/s, loss=0.621, v_num=145]\n"
     ]
    },
    {
     "name": "stderr",
     "output_type": "stream",
     "text": [
      "\u001b[32m[I 2023-01-15 02:48:23,742]\u001b[0m Trial 246 finished with value: 0.46664121747016907 and parameters: {'num_neurons': 286, 'batch_size': 309, 'learning_rate': 0.035243800287981075, 'layers': 7}. Best is trial 245 with value: 0.1724710613489151.\u001b[0m\n",
      "GPU available: True (mps), used: True\n",
      "TPU available: False, using: 0 TPU cores\n",
      "IPU available: False, using: 0 IPUs\n",
      "HPU available: False, using: 0 HPUs\n",
      "\n",
      "  | Name   | Type       | Params\n",
      "--------------------------------------\n",
      "0 | input  | Linear     | 4.2 K \n",
      "1 | hidden | Sequential | 874 K \n",
      "2 | output | Linear     | 354   \n",
      "3 | relu   | ReLU       | 0     \n",
      "--------------------------------------\n",
      "879 K     Trainable params\n",
      "0         Non-trainable params\n",
      "879 K     Total params\n",
      "3.517     Total estimated model params size (MB)\n"
     ]
    },
    {
     "name": "stdout",
     "output_type": "stream",
     "text": [
      "Epoch 49: 100%|██████████| 4/4 [00:00<00:00, 58.55it/s, loss=0.926, v_num=146]  "
     ]
    },
    {
     "name": "stderr",
     "output_type": "stream",
     "text": [
      "`Trainer.fit` stopped: `max_epochs=50` reached.\n"
     ]
    },
    {
     "name": "stdout",
     "output_type": "stream",
     "text": [
      "Epoch 49: 100%|██████████| 4/4 [00:00<00:00, 40.44it/s, loss=0.926, v_num=146]\n"
     ]
    },
    {
     "name": "stderr",
     "output_type": "stream",
     "text": [
      "\u001b[32m[I 2023-01-15 02:48:29,078]\u001b[0m Trial 247 finished with value: 1.0545413494110107 and parameters: {'num_neurons': 353, 'batch_size': 307, 'learning_rate': 0.03435834245516505, 'layers': 7}. Best is trial 245 with value: 0.1724710613489151.\u001b[0m\n",
      "GPU available: True (mps), used: True\n",
      "TPU available: False, using: 0 TPU cores\n",
      "IPU available: False, using: 0 IPUs\n",
      "HPU available: False, using: 0 HPUs\n",
      "\n",
      "  | Name   | Type       | Params\n",
      "--------------------------------------\n",
      "0 | input  | Linear     | 3.4 K \n",
      "1 | hidden | Sequential | 574 K \n",
      "2 | output | Linear     | 287   \n",
      "3 | relu   | ReLU       | 0     \n",
      "--------------------------------------\n",
      "578 K     Trainable params\n",
      "0         Non-trainable params\n",
      "578 K     Total params\n",
      "2.313     Total estimated model params size (MB)\n"
     ]
    },
    {
     "name": "stdout",
     "output_type": "stream",
     "text": [
      "Epoch 49: 100%|██████████| 4/4 [00:00<00:00, 64.41it/s, loss=0.809, v_num=147]  "
     ]
    },
    {
     "name": "stderr",
     "output_type": "stream",
     "text": [
      "`Trainer.fit` stopped: `max_epochs=50` reached.\n"
     ]
    },
    {
     "name": "stdout",
     "output_type": "stream",
     "text": [
      "Epoch 49: 100%|██████████| 4/4 [00:00<00:00, 48.26it/s, loss=0.809, v_num=147]\n"
     ]
    },
    {
     "name": "stderr",
     "output_type": "stream",
     "text": [
      "\u001b[32m[I 2023-01-15 02:48:34,017]\u001b[0m Trial 248 finished with value: 0.9206780791282654 and parameters: {'num_neurons': 286, 'batch_size': 328, 'learning_rate': 0.0312625275133423, 'layers': 7}. Best is trial 245 with value: 0.1724710613489151.\u001b[0m\n",
      "GPU available: True (mps), used: True\n",
      "TPU available: False, using: 0 TPU cores\n",
      "IPU available: False, using: 0 IPUs\n",
      "HPU available: False, using: 0 HPUs\n",
      "\n",
      "  | Name   | Type       | Params\n",
      "--------------------------------------\n",
      "0 | input  | Linear     | 3.4 K \n",
      "1 | hidden | Sequential | 489 K \n",
      "2 | output | Linear     | 286   \n",
      "3 | relu   | ReLU       | 0     \n",
      "--------------------------------------\n",
      "492 K     Trainable params\n",
      "0         Non-trainable params\n",
      "492 K     Total params\n",
      "1.971     Total estimated model params size (MB)\n"
     ]
    },
    {
     "name": "stdout",
     "output_type": "stream",
     "text": [
      "Epoch 49: 100%|██████████| 4/4 [00:00<00:00, 67.40it/s, loss=0.512, v_num=148]  "
     ]
    },
    {
     "name": "stderr",
     "output_type": "stream",
     "text": [
      "`Trainer.fit` stopped: `max_epochs=50` reached.\n"
     ]
    },
    {
     "name": "stdout",
     "output_type": "stream",
     "text": [
      "Epoch 49: 100%|██████████| 4/4 [00:00<00:00, 50.13it/s, loss=0.512, v_num=148]"
     ]
    },
    {
     "name": "stderr",
     "output_type": "stream",
     "text": [
      "\u001b[32m[I 2023-01-15 02:48:38,982]\u001b[0m Trial 249 finished with value: 0.602726936340332 and parameters: {'num_neurons': 285, 'batch_size': 300, 'learning_rate': 0.03542022482701819, 'layers': 6}. Best is trial 245 with value: 0.1724710613489151.\u001b[0m\n",
      "GPU available: True (mps), used: True\n",
      "TPU available: False, using: 0 TPU cores\n",
      "IPU available: False, using: 0 IPUs\n",
      "HPU available: False, using: 0 HPUs\n",
      "\n",
      "  | Name   | Type       | Params\n",
      "--------------------------------------\n",
      "0 | input  | Linear     | 3.4 K \n",
      "1 | hidden | Sequential | 647 K \n",
      "2 | output | Linear     | 285   \n",
      "3 | relu   | ReLU       | 0     \n",
      "--------------------------------------\n",
      "651 K     Trainable params\n",
      "0         Non-trainable params\n",
      "651 K     Total params\n",
      "2.605     Total estimated model params size (MB)\n"
     ]
    },
    {
     "name": "stdout",
     "output_type": "stream",
     "text": [
      "\n",
      "Epoch 49: 100%|██████████| 4/4 [00:00<00:00, 62.07it/s, loss=0.436, v_num=149]  "
     ]
    },
    {
     "name": "stderr",
     "output_type": "stream",
     "text": [
      "`Trainer.fit` stopped: `max_epochs=50` reached.\n"
     ]
    },
    {
     "name": "stdout",
     "output_type": "stream",
     "text": [
      "Epoch 49: 100%|██████████| 4/4 [00:00<00:00, 44.25it/s, loss=0.436, v_num=149]\n"
     ]
    },
    {
     "name": "stderr",
     "output_type": "stream",
     "text": [
      "\u001b[32m[I 2023-01-15 02:48:44,247]\u001b[0m Trial 250 finished with value: 0.39714768528938293 and parameters: {'num_neurons': 284, 'batch_size': 296, 'learning_rate': 0.031061364260669317, 'layers': 8}. Best is trial 245 with value: 0.1724710613489151.\u001b[0m\n",
      "GPU available: True (mps), used: True\n",
      "TPU available: False, using: 0 TPU cores\n",
      "IPU available: False, using: 0 IPUs\n",
      "HPU available: False, using: 0 HPUs\n",
      "\n",
      "  | Name   | Type       | Params\n",
      "--------------------------------------\n",
      "0 | input  | Linear     | 3.7 K \n",
      "1 | hidden | Sequential | 771 K \n",
      "2 | output | Linear     | 311   \n",
      "3 | relu   | ReLU       | 0     \n",
      "--------------------------------------\n",
      "775 K     Trainable params\n",
      "0         Non-trainable params\n",
      "775 K     Total params\n",
      "3.101     Total estimated model params size (MB)\n"
     ]
    },
    {
     "name": "stdout",
     "output_type": "stream",
     "text": [
      "Epoch 49: 100%|██████████| 4/4 [00:00<00:00, 61.59it/s, loss=0.255, v_num=150]  "
     ]
    },
    {
     "name": "stderr",
     "output_type": "stream",
     "text": [
      "`Trainer.fit` stopped: `max_epochs=50` reached.\n"
     ]
    },
    {
     "name": "stdout",
     "output_type": "stream",
     "text": [
      "Epoch 49: 100%|██████████| 4/4 [00:00<00:00, 42.95it/s, loss=0.255, v_num=150]\n"
     ]
    },
    {
     "name": "stderr",
     "output_type": "stream",
     "text": [
      "\u001b[32m[I 2023-01-15 02:48:49,822]\u001b[0m Trial 251 finished with value: 0.23820562660694122 and parameters: {'num_neurons': 310, 'batch_size': 295, 'learning_rate': 0.029793610531754652, 'layers': 8}. Best is trial 245 with value: 0.1724710613489151.\u001b[0m\n",
      "GPU available: True (mps), used: True\n",
      "TPU available: False, using: 0 TPU cores\n",
      "IPU available: False, using: 0 IPUs\n",
      "HPU available: False, using: 0 HPUs\n",
      "\n",
      "  | Name   | Type       | Params\n",
      "--------------------------------------\n",
      "0 | input  | Linear     | 3.6 K \n",
      "1 | hidden | Sequential | 727 K \n",
      "2 | output | Linear     | 302   \n",
      "3 | relu   | ReLU       | 0     \n",
      "--------------------------------------\n",
      "731 K     Trainable params\n",
      "0         Non-trainable params\n",
      "731 K     Total params\n",
      "2.925     Total estimated model params size (MB)\n"
     ]
    },
    {
     "name": "stdout",
     "output_type": "stream",
     "text": [
      "Epoch 49: 100%|██████████| 4/4 [00:00<00:00, 62.38it/s, loss=0.824, v_num=151]  "
     ]
    },
    {
     "name": "stderr",
     "output_type": "stream",
     "text": [
      "`Trainer.fit` stopped: `max_epochs=50` reached.\n"
     ]
    },
    {
     "name": "stdout",
     "output_type": "stream",
     "text": [
      "Epoch 49: 100%|██████████| 4/4 [00:00<00:00, 44.61it/s, loss=0.824, v_num=151]\n"
     ]
    },
    {
     "name": "stderr",
     "output_type": "stream",
     "text": [
      "\u001b[32m[I 2023-01-15 02:48:55,105]\u001b[0m Trial 252 finished with value: 0.9472557902336121 and parameters: {'num_neurons': 301, 'batch_size': 294, 'learning_rate': 0.035121257693757506, 'layers': 8}. Best is trial 245 with value: 0.1724710613489151.\u001b[0m\n",
      "GPU available: True (mps), used: True\n",
      "TPU available: False, using: 0 TPU cores\n",
      "IPU available: False, using: 0 IPUs\n",
      "HPU available: False, using: 0 HPUs\n",
      "\n",
      "  | Name   | Type       | Params\n",
      "--------------------------------------\n",
      "0 | input  | Linear     | 3.7 K \n",
      "1 | hidden | Sequential | 761 K \n",
      "2 | output | Linear     | 309   \n",
      "3 | relu   | ReLU       | 0     \n",
      "--------------------------------------\n",
      "765 K     Trainable params\n",
      "0         Non-trainable params\n",
      "765 K     Total params\n",
      "3.062     Total estimated model params size (MB)\n"
     ]
    },
    {
     "name": "stdout",
     "output_type": "stream",
     "text": [
      "Epoch 49: 100%|██████████| 4/4 [00:00<00:00, 57.16it/s, loss=0.274, v_num=152]  "
     ]
    },
    {
     "name": "stderr",
     "output_type": "stream",
     "text": [
      "`Trainer.fit` stopped: `max_epochs=50` reached.\n"
     ]
    },
    {
     "name": "stdout",
     "output_type": "stream",
     "text": [
      "Epoch 49: 100%|██████████| 4/4 [00:00<00:00, 42.02it/s, loss=0.274, v_num=152]\n"
     ]
    },
    {
     "name": "stderr",
     "output_type": "stream",
     "text": [
      "\u001b[32m[I 2023-01-15 02:49:00,159]\u001b[0m Trial 253 finished with value: 0.2022261768579483 and parameters: {'num_neurons': 308, 'batch_size': 301, 'learning_rate': 0.02488715313380313, 'layers': 8}. Best is trial 245 with value: 0.1724710613489151.\u001b[0m\n",
      "GPU available: True (mps), used: True\n",
      "TPU available: False, using: 0 TPU cores\n",
      "IPU available: False, using: 0 IPUs\n",
      "HPU available: False, using: 0 HPUs\n",
      "\n",
      "  | Name   | Type       | Params\n",
      "--------------------------------------\n",
      "0 | input  | Linear     | 3.7 K \n",
      "1 | hidden | Sequential | 761 K \n",
      "2 | output | Linear     | 309   \n",
      "3 | relu   | ReLU       | 0     \n",
      "--------------------------------------\n",
      "765 K     Trainable params\n",
      "0         Non-trainable params\n",
      "765 K     Total params\n",
      "3.062     Total estimated model params size (MB)\n"
     ]
    },
    {
     "name": "stdout",
     "output_type": "stream",
     "text": [
      "Epoch 49: 100%|██████████| 4/4 [00:00<00:00, 58.00it/s, loss=0.356, v_num=153]  "
     ]
    },
    {
     "name": "stderr",
     "output_type": "stream",
     "text": [
      "`Trainer.fit` stopped: `max_epochs=50` reached.\n"
     ]
    },
    {
     "name": "stdout",
     "output_type": "stream",
     "text": [
      "Epoch 49: 100%|██████████| 4/4 [00:00<00:00, 42.19it/s, loss=0.356, v_num=153]\n"
     ]
    },
    {
     "name": "stderr",
     "output_type": "stream",
     "text": [
      "\u001b[32m[I 2023-01-15 02:49:05,224]\u001b[0m Trial 254 finished with value: 0.32513028383255005 and parameters: {'num_neurons': 308, 'batch_size': 298, 'learning_rate': 0.025852734275594366, 'layers': 8}. Best is trial 245 with value: 0.1724710613489151.\u001b[0m\n",
      "GPU available: True (mps), used: True\n",
      "TPU available: False, using: 0 TPU cores\n",
      "IPU available: False, using: 0 IPUs\n",
      "HPU available: False, using: 0 HPUs\n",
      "\n",
      "  | Name   | Type       | Params\n",
      "--------------------------------------\n",
      "0 | input  | Linear     | 3.7 K \n",
      "1 | hidden | Sequential | 771 K \n",
      "2 | output | Linear     | 311   \n",
      "3 | relu   | ReLU       | 0     \n",
      "--------------------------------------\n",
      "775 K     Trainable params\n",
      "0         Non-trainable params\n",
      "775 K     Total params\n",
      "3.101     Total estimated model params size (MB)\n"
     ]
    },
    {
     "name": "stdout",
     "output_type": "stream",
     "text": [
      "Epoch 49: 100%|██████████| 4/4 [00:00<00:00, 59.63it/s, loss=0.182, v_num=154]  "
     ]
    },
    {
     "name": "stderr",
     "output_type": "stream",
     "text": [
      "`Trainer.fit` stopped: `max_epochs=50` reached.\n"
     ]
    },
    {
     "name": "stdout",
     "output_type": "stream",
     "text": [
      "Epoch 49: 100%|██████████| 4/4 [00:00<00:00, 42.45it/s, loss=0.182, v_num=154]\n"
     ]
    },
    {
     "name": "stderr",
     "output_type": "stream",
     "text": [
      "\u001b[32m[I 2023-01-15 02:49:10,592]\u001b[0m Trial 255 finished with value: 0.18753069639205933 and parameters: {'num_neurons': 310, 'batch_size': 288, 'learning_rate': 0.02485398721112238, 'layers': 8}. Best is trial 245 with value: 0.1724710613489151.\u001b[0m\n",
      "GPU available: True (mps), used: True\n",
      "TPU available: False, using: 0 TPU cores\n",
      "IPU available: False, using: 0 IPUs\n",
      "HPU available: False, using: 0 HPUs\n",
      "\n",
      "  | Name   | Type       | Params\n",
      "--------------------------------------\n",
      "0 | input  | Linear     | 3.7 K \n",
      "1 | hidden | Sequential | 771 K \n",
      "2 | output | Linear     | 311   \n",
      "3 | relu   | ReLU       | 0     \n",
      "--------------------------------------\n",
      "775 K     Trainable params\n",
      "0         Non-trainable params\n",
      "775 K     Total params\n",
      "3.101     Total estimated model params size (MB)\n"
     ]
    },
    {
     "name": "stdout",
     "output_type": "stream",
     "text": [
      "Epoch 49: 100%|██████████| 4/4 [00:00<00:00, 58.93it/s, loss=0.394, v_num=155]  "
     ]
    },
    {
     "name": "stderr",
     "output_type": "stream",
     "text": [
      "`Trainer.fit` stopped: `max_epochs=50` reached.\n"
     ]
    },
    {
     "name": "stdout",
     "output_type": "stream",
     "text": [
      "Epoch 49: 100%|██████████| 4/4 [00:00<00:00, 42.52it/s, loss=0.394, v_num=155]\n"
     ]
    },
    {
     "name": "stderr",
     "output_type": "stream",
     "text": [
      "\u001b[32m[I 2023-01-15 02:49:15,749]\u001b[0m Trial 256 finished with value: 0.3598998486995697 and parameters: {'num_neurons': 310, 'batch_size': 290, 'learning_rate': 0.02440177503340122, 'layers': 8}. Best is trial 245 with value: 0.1724710613489151.\u001b[0m\n",
      "GPU available: True (mps), used: True\n",
      "TPU available: False, using: 0 TPU cores\n",
      "IPU available: False, using: 0 IPUs\n",
      "HPU available: False, using: 0 HPUs\n",
      "\n",
      "  | Name   | Type       | Params\n",
      "--------------------------------------\n",
      "0 | input  | Linear     | 3.7 K \n",
      "1 | hidden | Sequential | 776 K \n",
      "2 | output | Linear     | 312   \n",
      "3 | relu   | ReLU       | 0     \n",
      "--------------------------------------\n",
      "780 K     Trainable params\n",
      "0         Non-trainable params\n",
      "780 K     Total params\n",
      "3.121     Total estimated model params size (MB)\n"
     ]
    },
    {
     "name": "stdout",
     "output_type": "stream",
     "text": [
      "Epoch 49: 100%|██████████| 4/4 [00:00<00:00, 59.08it/s, loss=0.197, v_num=156]  "
     ]
    },
    {
     "name": "stderr",
     "output_type": "stream",
     "text": [
      "`Trainer.fit` stopped: `max_epochs=50` reached.\n"
     ]
    },
    {
     "name": "stdout",
     "output_type": "stream",
     "text": [
      "Epoch 49: 100%|██████████| 4/4 [00:00<00:00, 42.94it/s, loss=0.197, v_num=156]\n"
     ]
    },
    {
     "name": "stderr",
     "output_type": "stream",
     "text": [
      "\u001b[32m[I 2023-01-15 02:49:21,041]\u001b[0m Trial 257 finished with value: 0.18027836084365845 and parameters: {'num_neurons': 311, 'batch_size': 287, 'learning_rate': 0.022298604946163304, 'layers': 8}. Best is trial 245 with value: 0.1724710613489151.\u001b[0m\n",
      "GPU available: True (mps), used: True\n",
      "TPU available: False, using: 0 TPU cores\n",
      "IPU available: False, using: 0 IPUs\n",
      "HPU available: False, using: 0 HPUs\n",
      "\n",
      "  | Name   | Type       | Params\n",
      "--------------------------------------\n",
      "0 | input  | Linear     | 3.7 K \n",
      "1 | hidden | Sequential | 766 K \n",
      "2 | output | Linear     | 310   \n",
      "3 | relu   | ReLU       | 0     \n",
      "--------------------------------------\n",
      "770 K     Trainable params\n",
      "0         Non-trainable params\n",
      "770 K     Total params\n",
      "3.081     Total estimated model params size (MB)\n"
     ]
    },
    {
     "name": "stdout",
     "output_type": "stream",
     "text": [
      "Epoch 49: 100%|██████████| 4/4 [00:00<00:00, 58.13it/s, loss=0.389, v_num=157]  "
     ]
    },
    {
     "name": "stderr",
     "output_type": "stream",
     "text": [
      "`Trainer.fit` stopped: `max_epochs=50` reached.\n"
     ]
    },
    {
     "name": "stdout",
     "output_type": "stream",
     "text": [
      "Epoch 49: 100%|██████████| 4/4 [00:00<00:00, 39.20it/s, loss=0.389, v_num=157]\n"
     ]
    },
    {
     "name": "stderr",
     "output_type": "stream",
     "text": [
      "\u001b[32m[I 2023-01-15 02:49:26,507]\u001b[0m Trial 258 finished with value: 0.19270549714565277 and parameters: {'num_neurons': 309, 'batch_size': 286, 'learning_rate': 0.02731077672131546, 'layers': 8}. Best is trial 245 with value: 0.1724710613489151.\u001b[0m\n",
      "GPU available: True (mps), used: True\n",
      "TPU available: False, using: 0 TPU cores\n",
      "IPU available: False, using: 0 IPUs\n",
      "HPU available: False, using: 0 HPUs\n",
      "\n",
      "  | Name   | Type       | Params\n",
      "--------------------------------------\n",
      "0 | input  | Linear     | 4.1 K \n",
      "1 | hidden | Sequential | 943 K \n",
      "2 | output | Linear     | 344   \n",
      "3 | relu   | ReLU       | 0     \n",
      "--------------------------------------\n",
      "948 K     Trainable params\n",
      "0         Non-trainable params\n",
      "948 K     Total params\n",
      "3.794     Total estimated model params size (MB)\n"
     ]
    },
    {
     "name": "stdout",
     "output_type": "stream",
     "text": [
      "Epoch 49: 100%|██████████| 4/4 [00:00<00:00, 59.84it/s, loss=0.787, v_num=158]  "
     ]
    },
    {
     "name": "stderr",
     "output_type": "stream",
     "text": [
      "`Trainer.fit` stopped: `max_epochs=50` reached.\n"
     ]
    },
    {
     "name": "stdout",
     "output_type": "stream",
     "text": [
      "Epoch 49: 100%|██████████| 4/4 [00:00<00:00, 42.15it/s, loss=0.787, v_num=158]\n"
     ]
    },
    {
     "name": "stderr",
     "output_type": "stream",
     "text": [
      "\u001b[32m[I 2023-01-15 02:49:32,072]\u001b[0m Trial 259 finished with value: 0.892549991607666 and parameters: {'num_neurons': 343, 'batch_size': 292, 'learning_rate': 0.02415404808399398, 'layers': 8}. Best is trial 245 with value: 0.1724710613489151.\u001b[0m\n",
      "GPU available: True (mps), used: True\n",
      "TPU available: False, using: 0 TPU cores\n",
      "IPU available: False, using: 0 IPUs\n",
      "HPU available: False, using: 0 HPUs\n",
      "\n",
      "  | Name   | Type       | Params\n",
      "--------------------------------------\n",
      "0 | input  | Linear     | 3.7 K \n",
      "1 | hidden | Sequential | 746 K \n",
      "2 | output | Linear     | 306   \n",
      "3 | relu   | ReLU       | 0     \n",
      "--------------------------------------\n",
      "750 K     Trainable params\n",
      "0         Non-trainable params\n",
      "750 K     Total params\n",
      "3.002     Total estimated model params size (MB)\n"
     ]
    },
    {
     "name": "stdout",
     "output_type": "stream",
     "text": [
      "Epoch 49: 100%|██████████| 4/4 [00:00<00:00, 58.65it/s, loss=0.634, v_num=159]  "
     ]
    },
    {
     "name": "stderr",
     "output_type": "stream",
     "text": [
      "`Trainer.fit` stopped: `max_epochs=50` reached.\n"
     ]
    },
    {
     "name": "stdout",
     "output_type": "stream",
     "text": [
      "Epoch 49: 100%|██████████| 4/4 [00:00<00:00, 41.68it/s, loss=0.634, v_num=159]\n"
     ]
    },
    {
     "name": "stderr",
     "output_type": "stream",
     "text": [
      "\u001b[32m[I 2023-01-15 02:49:37,848]\u001b[0m Trial 260 finished with value: 0.7332213521003723 and parameters: {'num_neurons': 305, 'batch_size': 287, 'learning_rate': 0.02722578374307494, 'layers': 8}. Best is trial 245 with value: 0.1724710613489151.\u001b[0m\n",
      "GPU available: True (mps), used: True\n",
      "TPU available: False, using: 0 TPU cores\n",
      "IPU available: False, using: 0 IPUs\n",
      "HPU available: False, using: 0 HPUs\n",
      "\n",
      "  | Name   | Type       | Params\n",
      "--------------------------------------\n",
      "0 | input  | Linear     | 3.8 K \n",
      "1 | hidden | Sequential | 884 K \n",
      "2 | output | Linear     | 314   \n",
      "3 | relu   | ReLU       | 0     \n",
      "--------------------------------------\n",
      "888 K     Trainable params\n",
      "0         Non-trainable params\n",
      "888 K     Total params\n",
      "3.554     Total estimated model params size (MB)\n"
     ]
    },
    {
     "name": "stdout",
     "output_type": "stream",
     "text": [
      "Epoch 49: 100%|██████████| 4/4 [00:00<00:00, 56.14it/s, loss=0.529, v_num=160]  "
     ]
    },
    {
     "name": "stderr",
     "output_type": "stream",
     "text": [
      "`Trainer.fit` stopped: `max_epochs=50` reached.\n"
     ]
    },
    {
     "name": "stdout",
     "output_type": "stream",
     "text": [
      "Epoch 49: 100%|██████████| 4/4 [00:00<00:00, 39.50it/s, loss=0.529, v_num=160]\n"
     ]
    },
    {
     "name": "stderr",
     "output_type": "stream",
     "text": [
      "\u001b[32m[I 2023-01-15 02:49:44,144]\u001b[0m Trial 261 finished with value: 0.49923187494277954 and parameters: {'num_neurons': 313, 'batch_size': 281, 'learning_rate': 0.022708207075324026, 'layers': 9}. Best is trial 245 with value: 0.1724710613489151.\u001b[0m\n",
      "GPU available: True (mps), used: True\n",
      "TPU available: False, using: 0 TPU cores\n",
      "IPU available: False, using: 0 IPUs\n",
      "HPU available: False, using: 0 HPUs\n",
      "\n",
      "  | Name   | Type       | Params\n",
      "--------------------------------------\n",
      "0 | input  | Linear     | 3.7 K \n",
      "1 | hidden | Sequential | 873 K \n",
      "2 | output | Linear     | 312   \n",
      "3 | relu   | ReLU       | 0     \n",
      "--------------------------------------\n",
      "877 K     Trainable params\n",
      "0         Non-trainable params\n",
      "877 K     Total params\n",
      "3.509     Total estimated model params size (MB)\n"
     ]
    },
    {
     "name": "stdout",
     "output_type": "stream",
     "text": [
      "Epoch 49: 100%|██████████| 4/4 [00:00<00:00, 49.95it/s, loss=0.299, v_num=161]  "
     ]
    },
    {
     "name": "stderr",
     "output_type": "stream",
     "text": [
      "`Trainer.fit` stopped: `max_epochs=50` reached.\n"
     ]
    },
    {
     "name": "stdout",
     "output_type": "stream",
     "text": [
      "Epoch 49: 100%|██████████| 4/4 [00:00<00:00, 32.91it/s, loss=0.299, v_num=161]\n"
     ]
    },
    {
     "name": "stderr",
     "output_type": "stream",
     "text": [
      "\u001b[32m[I 2023-01-15 02:49:50,345]\u001b[0m Trial 262 finished with value: 0.2523479163646698 and parameters: {'num_neurons': 311, 'batch_size': 281, 'learning_rate': 0.022953622023974017, 'layers': 9}. Best is trial 245 with value: 0.1724710613489151.\u001b[0m\n",
      "GPU available: True (mps), used: True\n",
      "TPU available: False, using: 0 TPU cores\n",
      "IPU available: False, using: 0 IPUs\n",
      "HPU available: False, using: 0 HPUs\n",
      "\n",
      "  | Name   | Type       | Params\n",
      "--------------------------------------\n",
      "0 | input  | Linear     | 3.7 K \n",
      "1 | hidden | Sequential | 878 K \n",
      "2 | output | Linear     | 313   \n",
      "3 | relu   | ReLU       | 0     \n",
      "--------------------------------------\n",
      "882 K     Trainable params\n",
      "0         Non-trainable params\n",
      "882 K     Total params\n",
      "3.532     Total estimated model params size (MB)\n"
     ]
    },
    {
     "name": "stdout",
     "output_type": "stream",
     "text": [
      "Epoch 49: 100%|██████████| 4/4 [00:00<00:00, 55.82it/s, loss=0.177, v_num=162]  "
     ]
    },
    {
     "name": "stderr",
     "output_type": "stream",
     "text": [
      "`Trainer.fit` stopped: `max_epochs=50` reached.\n"
     ]
    },
    {
     "name": "stdout",
     "output_type": "stream",
     "text": [
      "Epoch 49: 100%|██████████| 4/4 [00:00<00:00, 39.22it/s, loss=0.177, v_num=162]\n"
     ]
    },
    {
     "name": "stderr",
     "output_type": "stream",
     "text": [
      "\u001b[32m[I 2023-01-15 02:49:57,321]\u001b[0m Trial 263 finished with value: 0.16772373020648956 and parameters: {'num_neurons': 312, 'batch_size': 280, 'learning_rate': 0.02131181857686972, 'layers': 9}. Best is trial 263 with value: 0.16772373020648956.\u001b[0m\n",
      "GPU available: True (mps), used: True\n",
      "TPU available: False, using: 0 TPU cores\n",
      "IPU available: False, using: 0 IPUs\n",
      "HPU available: False, using: 0 HPUs\n",
      "\n",
      "  | Name   | Type       | Params\n",
      "--------------------------------------\n",
      "0 | input  | Linear     | 3.7 K \n",
      "1 | hidden | Sequential | 873 K \n",
      "2 | output | Linear     | 312   \n",
      "3 | relu   | ReLU       | 0     \n",
      "--------------------------------------\n",
      "877 K     Trainable params\n",
      "0         Non-trainable params\n",
      "877 K     Total params\n",
      "3.509     Total estimated model params size (MB)\n"
     ]
    },
    {
     "name": "stdout",
     "output_type": "stream",
     "text": [
      "Epoch 49: 100%|██████████| 4/4 [00:00<00:00, 48.58it/s, loss=0.252, v_num=163]  "
     ]
    },
    {
     "name": "stderr",
     "output_type": "stream",
     "text": [
      "`Trainer.fit` stopped: `max_epochs=50` reached.\n"
     ]
    },
    {
     "name": "stdout",
     "output_type": "stream",
     "text": [
      "Epoch 49: 100%|██████████| 4/4 [00:00<00:00, 34.21it/s, loss=0.252, v_num=163]\n"
     ]
    },
    {
     "name": "stderr",
     "output_type": "stream",
     "text": [
      "\u001b[32m[I 2023-01-15 02:50:03,575]\u001b[0m Trial 264 finished with value: 0.1698146015405655 and parameters: {'num_neurons': 311, 'batch_size': 277, 'learning_rate': 0.02082933390075925, 'layers': 9}. Best is trial 263 with value: 0.16772373020648956.\u001b[0m\n",
      "GPU available: True (mps), used: True\n",
      "TPU available: False, using: 0 TPU cores\n",
      "IPU available: False, using: 0 IPUs\n",
      "HPU available: False, using: 0 HPUs\n",
      "\n",
      "  | Name   | Type       | Params\n",
      "--------------------------------------\n",
      "0 | input  | Linear     | 3.8 K \n",
      "1 | hidden | Sequential | 884 K \n",
      "2 | output | Linear     | 314   \n",
      "3 | relu   | ReLU       | 0     \n",
      "--------------------------------------\n",
      "888 K     Trainable params\n",
      "0         Non-trainable params\n",
      "888 K     Total params\n",
      "3.554     Total estimated model params size (MB)\n"
     ]
    },
    {
     "name": "stdout",
     "output_type": "stream",
     "text": [
      "Epoch 49: 100%|██████████| 4/4 [00:00<00:00, 56.01it/s, loss=0.284, v_num=164]  "
     ]
    },
    {
     "name": "stderr",
     "output_type": "stream",
     "text": [
      "`Trainer.fit` stopped: `max_epochs=50` reached.\n"
     ]
    },
    {
     "name": "stdout",
     "output_type": "stream",
     "text": [
      "Epoch 49: 100%|██████████| 4/4 [00:00<00:00, 39.22it/s, loss=0.284, v_num=164]\n"
     ]
    },
    {
     "name": "stderr",
     "output_type": "stream",
     "text": [
      "\u001b[32m[I 2023-01-15 02:50:09,733]\u001b[0m Trial 265 finished with value: 0.17572619020938873 and parameters: {'num_neurons': 313, 'batch_size': 276, 'learning_rate': 0.021141648449293834, 'layers': 9}. Best is trial 263 with value: 0.16772373020648956.\u001b[0m\n",
      "GPU available: True (mps), used: True\n",
      "TPU available: False, using: 0 TPU cores\n",
      "IPU available: False, using: 0 IPUs\n",
      "HPU available: False, using: 0 HPUs\n",
      "\n",
      "  | Name   | Type       | Params\n",
      "--------------------------------------\n",
      "0 | input  | Linear     | 3.8 K \n",
      "1 | hidden | Sequential | 786 K \n",
      "2 | output | Linear     | 314   \n",
      "3 | relu   | ReLU       | 0     \n",
      "--------------------------------------\n",
      "790 K     Trainable params\n",
      "0         Non-trainable params\n",
      "790 K     Total params\n",
      "3.161     Total estimated model params size (MB)\n"
     ]
    },
    {
     "name": "stdout",
     "output_type": "stream",
     "text": [
      "Epoch 49: 100%|██████████| 4/4 [00:00<00:00, 56.96it/s, loss=0.45, v_num=165]   "
     ]
    },
    {
     "name": "stderr",
     "output_type": "stream",
     "text": [
      "`Trainer.fit` stopped: `max_epochs=50` reached.\n"
     ]
    },
    {
     "name": "stdout",
     "output_type": "stream",
     "text": [
      "Epoch 49: 100%|██████████| 4/4 [00:00<00:00, 32.10it/s, loss=0.45, v_num=165]\n"
     ]
    },
    {
     "name": "stderr",
     "output_type": "stream",
     "text": [
      "\u001b[32m[I 2023-01-15 02:50:16,449]\u001b[0m Trial 266 finished with value: 0.4770626127719879 and parameters: {'num_neurons': 313, 'batch_size': 278, 'learning_rate': 0.02000731020265801, 'layers': 8}. Best is trial 263 with value: 0.16772373020648956.\u001b[0m\n",
      "GPU available: True (mps), used: True\n",
      "TPU available: False, using: 0 TPU cores\n",
      "IPU available: False, using: 0 IPUs\n",
      "HPU available: False, using: 0 HPUs\n",
      "\n",
      "  | Name   | Type       | Params\n",
      "--------------------------------------\n",
      "0 | input  | Linear     | 3.9 K \n",
      "1 | hidden | Sequential | 947 K \n",
      "2 | output | Linear     | 325   \n",
      "3 | relu   | ReLU       | 0     \n",
      "--------------------------------------\n",
      "951 K     Trainable params\n",
      "0         Non-trainable params\n",
      "951 K     Total params\n",
      "3.808     Total estimated model params size (MB)\n"
     ]
    },
    {
     "name": "stdout",
     "output_type": "stream",
     "text": [
      "Epoch 49: 100%|██████████| 4/4 [00:00<00:00, 47.49it/s, loss=0.144, v_num=166]  "
     ]
    },
    {
     "name": "stderr",
     "output_type": "stream",
     "text": [
      "`Trainer.fit` stopped: `max_epochs=50` reached.\n"
     ]
    },
    {
     "name": "stdout",
     "output_type": "stream",
     "text": [
      "Epoch 49: 100%|██████████| 4/4 [00:00<00:00, 34.41it/s, loss=0.144, v_num=166]\n"
     ]
    },
    {
     "name": "stderr",
     "output_type": "stream",
     "text": [
      "\u001b[32m[I 2023-01-15 02:50:24,686]\u001b[0m Trial 267 finished with value: 0.1713670790195465 and parameters: {'num_neurons': 324, 'batch_size': 272, 'learning_rate': 0.022319070352165567, 'layers': 9}. Best is trial 263 with value: 0.16772373020648956.\u001b[0m\n",
      "GPU available: True (mps), used: True\n",
      "TPU available: False, using: 0 TPU cores\n",
      "IPU available: False, using: 0 IPUs\n",
      "HPU available: False, using: 0 HPUs\n",
      "\n",
      "  | Name   | Type       | Params\n",
      "--------------------------------------\n",
      "0 | input  | Linear     | 3.9 K \n",
      "1 | hidden | Sequential | 953 K \n",
      "2 | output | Linear     | 326   \n",
      "3 | relu   | ReLU       | 0     \n",
      "--------------------------------------\n",
      "957 K     Trainable params\n",
      "0         Non-trainable params\n",
      "957 K     Total params\n",
      "3.831     Total estimated model params size (MB)\n"
     ]
    },
    {
     "name": "stdout",
     "output_type": "stream",
     "text": [
      "Epoch 49: 100%|██████████| 4/4 [00:00<00:00, 39.27it/s, loss=0.816, v_num=167]  "
     ]
    },
    {
     "name": "stderr",
     "output_type": "stream",
     "text": [
      "`Trainer.fit` stopped: `max_epochs=50` reached.\n"
     ]
    },
    {
     "name": "stdout",
     "output_type": "stream",
     "text": [
      "Epoch 49: 100%|██████████| 4/4 [00:00<00:00, 27.69it/s, loss=0.816, v_num=167]\n"
     ]
    },
    {
     "name": "stderr",
     "output_type": "stream",
     "text": [
      "\u001b[32m[I 2023-01-15 02:50:33,243]\u001b[0m Trial 268 finished with value: 0.9254646897315979 and parameters: {'num_neurons': 325, 'batch_size': 272, 'learning_rate': 0.019081777488378495, 'layers': 9}. Best is trial 263 with value: 0.16772373020648956.\u001b[0m\n",
      "GPU available: True (mps), used: True\n",
      "TPU available: False, using: 0 TPU cores\n",
      "IPU available: False, using: 0 IPUs\n",
      "HPU available: False, using: 0 HPUs\n",
      "\n",
      "  | Name   | Type       | Params\n",
      "--------------------------------------\n",
      "0 | input  | Linear     | 4.1 K \n",
      "1 | hidden | Sequential | 1.0 M \n",
      "2 | output | Linear     | 341   \n",
      "3 | relu   | ReLU       | 0     \n",
      "--------------------------------------\n",
      "1.0 M     Trainable params\n",
      "0         Non-trainable params\n",
      "1.0 M     Total params\n",
      "4.192     Total estimated model params size (MB)\n"
     ]
    },
    {
     "name": "stdout",
     "output_type": "stream",
     "text": [
      "                                                                           "
     ]
    },
    {
     "name": "stderr",
     "output_type": "stream",
     "text": [
      "/Users/lsacy/opt/miniconda3/envs/clcnlu/lib/python3.8/site-packages/pytorch_lightning/trainer/trainer.py:1595: PossibleUserWarning: The number of training batches (4) is smaller than the logging interval Trainer(log_every_n_steps=50). Set a lower value for log_every_n_steps if you want to see logs for the training epoch.\n",
      "  rank_zero_warn(\n"
     ]
    },
    {
     "name": "stdout",
     "output_type": "stream",
     "text": [
      "Epoch 0: 100%|██████████| 6/6 [00:00<00:00,  6.60it/s, loss=1.21e+08, v_num=168]"
     ]
    },
    {
     "name": "stderr",
     "output_type": "stream",
     "text": [
      "NaN or Inf found in input tensor.\n"
     ]
    },
    {
     "name": "stdout",
     "output_type": "stream",
     "text": [
      "Epoch 49: 100%|██████████| 6/6 [00:00<00:00, 55.15it/s, loss=0.133, v_num=168]  "
     ]
    },
    {
     "name": "stderr",
     "output_type": "stream",
     "text": [
      "`Trainer.fit` stopped: `max_epochs=50` reached.\n"
     ]
    },
    {
     "name": "stdout",
     "output_type": "stream",
     "text": [
      "Epoch 49: 100%|██████████| 6/6 [00:00<00:00, 40.64it/s, loss=0.133, v_num=168]\n"
     ]
    },
    {
     "name": "stderr",
     "output_type": "stream",
     "text": [
      "\u001b[32m[I 2023-01-15 02:50:43,951]\u001b[0m Trial 269 finished with value: 0.1879248470067978 and parameters: {'num_neurons': 340, 'batch_size': 263, 'learning_rate': 0.025249553933579822, 'layers': 9}. Best is trial 263 with value: 0.16772373020648956.\u001b[0m\n",
      "GPU available: True (mps), used: True\n",
      "TPU available: False, using: 0 TPU cores\n",
      "IPU available: False, using: 0 IPUs\n",
      "HPU available: False, using: 0 HPUs\n",
      "\n",
      "  | Name   | Type       | Params\n",
      "--------------------------------------\n",
      "0 | input  | Linear     | 4.2 K \n",
      "1 | hidden | Sequential | 1.1 M \n",
      "2 | output | Linear     | 350   \n",
      "3 | relu   | ReLU       | 0     \n",
      "--------------------------------------\n",
      "1.1 M     Trainable params\n",
      "0         Non-trainable params\n",
      "1.1 M     Total params\n",
      "4.416     Total estimated model params size (MB)\n"
     ]
    },
    {
     "name": "stdout",
     "output_type": "stream",
     "text": [
      "Epoch 49: 100%|██████████| 6/6 [00:00<00:00, 52.59it/s, loss=1.02, v_num=169]   "
     ]
    },
    {
     "name": "stderr",
     "output_type": "stream",
     "text": [
      "`Trainer.fit` stopped: `max_epochs=50` reached.\n"
     ]
    },
    {
     "name": "stdout",
     "output_type": "stream",
     "text": [
      "Epoch 49: 100%|██████████| 6/6 [00:00<00:00, 38.74it/s, loss=1.02, v_num=169]\n"
     ]
    },
    {
     "name": "stderr",
     "output_type": "stream",
     "text": [
      "\u001b[32m[I 2023-01-15 02:50:53,934]\u001b[0m Trial 270 finished with value: 0.696425199508667 and parameters: {'num_neurons': 349, 'batch_size': 258, 'learning_rate': 0.024927669183000697, 'layers': 9}. Best is trial 263 with value: 0.16772373020648956.\u001b[0m\n",
      "GPU available: True (mps), used: True\n",
      "TPU available: False, using: 0 TPU cores\n",
      "IPU available: False, using: 0 IPUs\n",
      "HPU available: False, using: 0 HPUs\n",
      "\n",
      "  | Name   | Type       | Params\n",
      "--------------------------------------\n",
      "0 | input  | Linear     | 4.0 K \n",
      "1 | hidden | Sequential | 1.1 M \n",
      "2 | output | Linear     | 333   \n",
      "3 | relu   | ReLU       | 0     \n",
      "--------------------------------------\n",
      "1.1 M     Trainable params\n",
      "0         Non-trainable params\n",
      "1.1 M     Total params\n",
      "4.440     Total estimated model params size (MB)\n"
     ]
    },
    {
     "name": "stdout",
     "output_type": "stream",
     "text": [
      "Epoch 49: 100%|██████████| 6/6 [00:00<00:00, 60.28it/s, loss=0.645, v_num=170]  "
     ]
    },
    {
     "name": "stderr",
     "output_type": "stream",
     "text": [
      "`Trainer.fit` stopped: `max_epochs=50` reached.\n"
     ]
    },
    {
     "name": "stdout",
     "output_type": "stream",
     "text": [
      "Epoch 49: 100%|██████████| 6/6 [00:00<00:00, 45.30it/s, loss=0.645, v_num=170]\n"
     ]
    },
    {
     "name": "stderr",
     "output_type": "stream",
     "text": [
      "\u001b[32m[I 2023-01-15 02:51:04,545]\u001b[0m Trial 271 finished with value: 0.9581591486930847 and parameters: {'num_neurons': 332, 'batch_size': 267, 'learning_rate': 0.017761972713082077, 'layers': 10}. Best is trial 263 with value: 0.16772373020648956.\u001b[0m\n",
      "GPU available: True (mps), used: True\n",
      "TPU available: False, using: 0 TPU cores\n",
      "IPU available: False, using: 0 IPUs\n",
      "HPU available: False, using: 0 HPUs\n",
      "\n",
      "  | Name   | Type       | Params\n",
      "--------------------------------------\n",
      "0 | input  | Linear     | 3.7 K \n",
      "1 | hidden | Sequential | 851 K \n",
      "2 | output | Linear     | 308   \n",
      "3 | relu   | ReLU       | 0     \n",
      "--------------------------------------\n",
      "854 K     Trainable params\n",
      "0         Non-trainable params\n",
      "854 K     Total params\n",
      "3.420     Total estimated model params size (MB)\n"
     ]
    },
    {
     "name": "stdout",
     "output_type": "stream",
     "text": [
      "Epoch 49: 100%|██████████| 4/4 [00:00<00:00, 45.30it/s, loss=0.768, v_num=171]  "
     ]
    },
    {
     "name": "stderr",
     "output_type": "stream",
     "text": [
      "`Trainer.fit` stopped: `max_epochs=50` reached.\n"
     ]
    },
    {
     "name": "stdout",
     "output_type": "stream",
     "text": [
      "Epoch 49: 100%|██████████| 4/4 [00:00<00:00, 32.70it/s, loss=0.768, v_num=171]\n"
     ]
    },
    {
     "name": "stderr",
     "output_type": "stream",
     "text": [
      "\u001b[32m[I 2023-01-15 02:51:11,403]\u001b[0m Trial 272 finished with value: 0.8680078983306885 and parameters: {'num_neurons': 307, 'batch_size': 285, 'learning_rate': 0.028410946368145264, 'layers': 9}. Best is trial 263 with value: 0.16772373020648956.\u001b[0m\n",
      "GPU available: True (mps), used: True\n",
      "TPU available: False, using: 0 TPU cores\n",
      "IPU available: False, using: 0 IPUs\n",
      "HPU available: False, using: 0 HPUs\n",
      "\n",
      "  | Name   | Type       | Params\n",
      "--------------------------------------\n",
      "0 | input  | Linear     | 4.5 K \n",
      "1 | hidden | Sequential | 1.2 M \n",
      "2 | output | Linear     | 372   \n",
      "3 | relu   | ReLU       | 0     \n",
      "--------------------------------------\n",
      "1.2 M     Trainable params\n",
      "0         Non-trainable params\n",
      "1.2 M     Total params\n",
      "4.988     Total estimated model params size (MB)\n"
     ]
    },
    {
     "name": "stdout",
     "output_type": "stream",
     "text": [
      "Epoch 49: 100%|██████████| 4/4 [00:00<00:00, 54.67it/s, loss=0.813, v_num=172]  "
     ]
    },
    {
     "name": "stderr",
     "output_type": "stream",
     "text": [
      "`Trainer.fit` stopped: `max_epochs=50` reached.\n"
     ]
    },
    {
     "name": "stdout",
     "output_type": "stream",
     "text": [
      "Epoch 49: 100%|██████████| 4/4 [00:00<00:00, 36.68it/s, loss=0.813, v_num=172]\n"
     ]
    },
    {
     "name": "stderr",
     "output_type": "stream",
     "text": [
      "\u001b[32m[I 2023-01-15 02:51:18,667]\u001b[0m Trial 273 finished with value: 0.9113019108772278 and parameters: {'num_neurons': 371, 'batch_size': 278, 'learning_rate': 0.02287857823597134, 'layers': 9}. Best is trial 263 with value: 0.16772373020648956.\u001b[0m\n",
      "GPU available: True (mps), used: True\n",
      "TPU available: False, using: 0 TPU cores\n",
      "IPU available: False, using: 0 IPUs\n",
      "HPU available: False, using: 0 HPUs\n",
      "\n",
      "  | Name   | Type       | Params\n",
      "--------------------------------------\n",
      "0 | input  | Linear     | 4.0 K \n",
      "1 | hidden | Sequential | 911 K \n",
      "2 | output | Linear     | 338   \n",
      "3 | relu   | ReLU       | 0     \n",
      "--------------------------------------\n",
      "915 K     Trainable params\n",
      "0         Non-trainable params\n",
      "915 K     Total params\n",
      "3.663     Total estimated model params size (MB)\n"
     ]
    },
    {
     "name": "stdout",
     "output_type": "stream",
     "text": [
      "Epoch 1: 100%|██████████| 4/4 [00:00<00:00, 29.15it/s, loss=3.89e+07, v_num=173]"
     ]
    },
    {
     "name": "stderr",
     "output_type": "stream",
     "text": [
      "NaN or Inf found in input tensor.\n"
     ]
    },
    {
     "name": "stdout",
     "output_type": "stream",
     "text": [
      "Epoch 49: 100%|██████████| 4/4 [00:00<00:00, 57.31it/s, loss=0.627, v_num=173]  "
     ]
    },
    {
     "name": "stderr",
     "output_type": "stream",
     "text": [
      "`Trainer.fit` stopped: `max_epochs=50` reached.\n"
     ]
    },
    {
     "name": "stdout",
     "output_type": "stream",
     "text": [
      "Epoch 49: 100%|██████████| 4/4 [00:00<00:00, 39.20it/s, loss=0.627, v_num=173]\n"
     ]
    },
    {
     "name": "stderr",
     "output_type": "stream",
     "text": [
      "\u001b[32m[I 2023-01-15 02:51:25,515]\u001b[0m Trial 274 finished with value: 0.7529149055480957 and parameters: {'num_neurons': 337, 'batch_size': 288, 'learning_rate': 0.025848735436453073, 'layers': 8}. Best is trial 263 with value: 0.16772373020648956.\u001b[0m\n",
      "GPU available: True (mps), used: True\n",
      "TPU available: False, using: 0 TPU cores\n",
      "IPU available: False, using: 0 IPUs\n",
      "HPU available: False, using: 0 HPUs\n",
      "\n",
      "  | Name   | Type       | Params\n",
      "--------------------------------------\n",
      "0 | input  | Linear     | 3.8 K \n",
      "1 | hidden | Sequential | 816 K \n",
      "2 | output | Linear     | 320   \n",
      "3 | relu   | ReLU       | 0     \n",
      "--------------------------------------\n",
      "820 K     Trainable params\n",
      "0         Non-trainable params\n",
      "820 K     Total params\n",
      "3.283     Total estimated model params size (MB)\n"
     ]
    },
    {
     "name": "stdout",
     "output_type": "stream",
     "text": [
      "Epoch 0: 100%|██████████| 6/6 [00:00<00:00,  8.36it/s, loss=1.66e+08, v_num=174]"
     ]
    },
    {
     "name": "stderr",
     "output_type": "stream",
     "text": [
      "NaN or Inf found in input tensor.\n"
     ]
    },
    {
     "name": "stdout",
     "output_type": "stream",
     "text": [
      "Epoch 2: 100%|██████████| 6/6 [00:00<00:00, 39.38it/s, loss=5.52e+07, v_num=174]"
     ]
    },
    {
     "name": "stderr",
     "output_type": "stream",
     "text": [
      "NaN or Inf found in input tensor.\n"
     ]
    },
    {
     "name": "stdout",
     "output_type": "stream",
     "text": [
      "Epoch 49: 100%|██████████| 6/6 [00:00<00:00, 57.75it/s, loss=0.719, v_num=174]  "
     ]
    },
    {
     "name": "stderr",
     "output_type": "stream",
     "text": [
      "`Trainer.fit` stopped: `max_epochs=50` reached.\n"
     ]
    },
    {
     "name": "stdout",
     "output_type": "stream",
     "text": [
      "Epoch 49: 100%|██████████| 6/6 [00:00<00:00, 44.59it/s, loss=0.719, v_num=174]\n"
     ]
    },
    {
     "name": "stderr",
     "output_type": "stream",
     "text": [
      "\u001b[32m[I 2023-01-15 02:51:33,715]\u001b[0m Trial 275 finished with value: 0.8706282377243042 and parameters: {'num_neurons': 319, 'batch_size': 264, 'learning_rate': 0.029661919268978064, 'layers': 8}. Best is trial 263 with value: 0.16772373020648956.\u001b[0m\n",
      "GPU available: True (mps), used: True\n",
      "TPU available: False, using: 0 TPU cores\n",
      "IPU available: False, using: 0 IPUs\n",
      "HPU available: False, using: 0 HPUs\n",
      "\n",
      "  | Name   | Type       | Params\n",
      "--------------------------------------\n",
      "0 | input  | Linear     | 3.7 K \n",
      "1 | hidden | Sequential | 867 K \n",
      "2 | output | Linear     | 311   \n",
      "3 | relu   | ReLU       | 0     \n",
      "--------------------------------------\n",
      "871 K     Trainable params\n",
      "0         Non-trainable params\n",
      "871 K     Total params\n",
      "3.487     Total estimated model params size (MB)\n"
     ]
    },
    {
     "name": "stdout",
     "output_type": "stream",
     "text": [
      "Epoch 49: 100%|██████████| 4/4 [00:00<00:00, 54.98it/s, loss=0.181, v_num=175]  "
     ]
    },
    {
     "name": "stderr",
     "output_type": "stream",
     "text": [
      "`Trainer.fit` stopped: `max_epochs=50` reached.\n"
     ]
    },
    {
     "name": "stdout",
     "output_type": "stream",
     "text": [
      "Epoch 49: 100%|██████████| 4/4 [00:00<00:00, 38.39it/s, loss=0.181, v_num=175]\n"
     ]
    },
    {
     "name": "stderr",
     "output_type": "stream",
     "text": [
      "\u001b[32m[I 2023-01-15 02:51:40,363]\u001b[0m Trial 276 finished with value: 0.17907863855361938 and parameters: {'num_neurons': 310, 'batch_size': 273, 'learning_rate': 0.02231693669953837, 'layers': 9}. Best is trial 263 with value: 0.16772373020648956.\u001b[0m\n",
      "GPU available: True (mps), used: True\n",
      "TPU available: False, using: 0 TPU cores\n",
      "IPU available: False, using: 0 IPUs\n",
      "HPU available: False, using: 0 HPUs\n",
      "\n",
      "  | Name   | Type       | Params\n",
      "--------------------------------------\n",
      "0 | input  | Linear     | 3.7 K \n",
      "1 | hidden | Sequential | 878 K \n",
      "2 | output | Linear     | 313   \n",
      "3 | relu   | ReLU       | 0     \n",
      "--------------------------------------\n",
      "882 K     Trainable params\n",
      "0         Non-trainable params\n",
      "882 K     Total params\n",
      "3.532     Total estimated model params size (MB)\n"
     ]
    },
    {
     "name": "stdout",
     "output_type": "stream",
     "text": [
      "Epoch 49: 100%|██████████| 4/4 [00:00<00:00, 52.70it/s, loss=0.15, v_num=176]   "
     ]
    },
    {
     "name": "stderr",
     "output_type": "stream",
     "text": [
      "`Trainer.fit` stopped: `max_epochs=50` reached.\n"
     ]
    },
    {
     "name": "stdout",
     "output_type": "stream",
     "text": [
      "Epoch 49: 100%|██████████| 4/4 [00:00<00:00, 38.19it/s, loss=0.15, v_num=176]\n"
     ]
    },
    {
     "name": "stderr",
     "output_type": "stream",
     "text": [
      "\u001b[32m[I 2023-01-15 02:51:46,715]\u001b[0m Trial 277 finished with value: 0.151951402425766 and parameters: {'num_neurons': 312, 'batch_size': 270, 'learning_rate': 0.02180432969814558, 'layers': 9}. Best is trial 277 with value: 0.151951402425766.\u001b[0m\n",
      "GPU available: True (mps), used: True\n",
      "TPU available: False, using: 0 TPU cores\n",
      "IPU available: False, using: 0 IPUs\n",
      "HPU available: False, using: 0 HPUs\n",
      "\n",
      "  | Name   | Type       | Params\n",
      "--------------------------------------\n",
      "0 | input  | Linear     | 3.7 K \n",
      "1 | hidden | Sequential | 873 K \n",
      "2 | output | Linear     | 312   \n",
      "3 | relu   | ReLU       | 0     \n",
      "--------------------------------------\n",
      "877 K     Trainable params\n",
      "0         Non-trainable params\n",
      "877 K     Total params\n",
      "3.509     Total estimated model params size (MB)\n"
     ]
    },
    {
     "name": "stdout",
     "output_type": "stream",
     "text": [
      "Epoch 49: 100%|██████████| 6/6 [00:00<00:00, 63.02it/s, loss=0.808, v_num=177]  "
     ]
    },
    {
     "name": "stderr",
     "output_type": "stream",
     "text": [
      "`Trainer.fit` stopped: `max_epochs=50` reached.\n"
     ]
    },
    {
     "name": "stdout",
     "output_type": "stream",
     "text": [
      "Epoch 49: 100%|██████████| 6/6 [00:00<00:00, 45.89it/s, loss=0.808, v_num=177]\n"
     ]
    },
    {
     "name": "stderr",
     "output_type": "stream",
     "text": [
      "\u001b[32m[I 2023-01-15 02:51:54,659]\u001b[0m Trial 278 finished with value: 0.9217634797096252 and parameters: {'num_neurons': 311, 'batch_size': 251, 'learning_rate': 0.022841842517377624, 'layers': 9}. Best is trial 277 with value: 0.151951402425766.\u001b[0m\n",
      "GPU available: True (mps), used: True\n",
      "TPU available: False, using: 0 TPU cores\n",
      "IPU available: False, using: 0 IPUs\n",
      "HPU available: False, using: 0 HPUs\n",
      "\n",
      "  | Name   | Type       | Params\n",
      "--------------------------------------\n",
      "0 | input  | Linear     | 3.9 K \n",
      "1 | hidden | Sequential | 930 K \n",
      "2 | output | Linear     | 322   \n",
      "3 | relu   | ReLU       | 0     \n",
      "--------------------------------------\n",
      "934 K     Trainable params\n",
      "0         Non-trainable params\n",
      "934 K     Total params\n",
      "3.738     Total estimated model params size (MB)\n"
     ]
    },
    {
     "name": "stdout",
     "output_type": "stream",
     "text": [
      "Epoch 49: 100%|██████████| 4/4 [00:00<00:00, 48.08it/s, loss=0.378, v_num=178]  "
     ]
    },
    {
     "name": "stderr",
     "output_type": "stream",
     "text": [
      "`Trainer.fit` stopped: `max_epochs=50` reached.\n"
     ]
    },
    {
     "name": "stdout",
     "output_type": "stream",
     "text": [
      "Epoch 49: 100%|██████████| 4/4 [00:00<00:00, 31.82it/s, loss=0.378, v_num=178]\n"
     ]
    },
    {
     "name": "stderr",
     "output_type": "stream",
     "text": [
      "\u001b[32m[I 2023-01-15 02:52:01,563]\u001b[0m Trial 279 finished with value: 0.4147373139858246 and parameters: {'num_neurons': 321, 'batch_size': 270, 'learning_rate': 0.026748091532919502, 'layers': 9}. Best is trial 277 with value: 0.151951402425766.\u001b[0m\n",
      "GPU available: True (mps), used: True\n",
      "TPU available: False, using: 0 TPU cores\n",
      "IPU available: False, using: 0 IPUs\n",
      "HPU available: False, using: 0 HPUs\n",
      "\n",
      "  | Name   | Type       | Params\n",
      "--------------------------------------\n",
      "0 | input  | Linear     | 3.7 K \n",
      "1 | hidden | Sequential | 851 K \n",
      "2 | output | Linear     | 308   \n",
      "3 | relu   | ReLU       | 0     \n",
      "--------------------------------------\n",
      "854 K     Trainable params\n",
      "0         Non-trainable params\n",
      "854 K     Total params\n",
      "3.420     Total estimated model params size (MB)\n"
     ]
    },
    {
     "name": "stdout",
     "output_type": "stream",
     "text": [
      "Epoch 49: 100%|██████████| 4/4 [00:00<00:00, 52.75it/s, loss=0.28, v_num=179]   "
     ]
    },
    {
     "name": "stderr",
     "output_type": "stream",
     "text": [
      "`Trainer.fit` stopped: `max_epochs=50` reached.\n"
     ]
    },
    {
     "name": "stdout",
     "output_type": "stream",
     "text": [
      "Epoch 49: 100%|██████████| 4/4 [00:00<00:00, 37.50it/s, loss=0.28, v_num=179]\n"
     ]
    },
    {
     "name": "stderr",
     "output_type": "stream",
     "text": [
      "\u001b[32m[I 2023-01-15 02:52:08,058]\u001b[0m Trial 280 finished with value: 0.24126985669136047 and parameters: {'num_neurons': 307, 'batch_size': 275, 'learning_rate': 0.020844555966889434, 'layers': 9}. Best is trial 277 with value: 0.151951402425766.\u001b[0m\n",
      "GPU available: True (mps), used: True\n",
      "TPU available: False, using: 0 TPU cores\n",
      "IPU available: False, using: 0 IPUs\n",
      "HPU available: False, using: 0 HPUs\n",
      "\n",
      "  | Name   | Type       | Params\n",
      "--------------------------------------\n",
      "0 | input  | Linear     | 3.7 K \n",
      "1 | hidden | Sequential | 839 K \n",
      "2 | output | Linear     | 306   \n",
      "3 | relu   | ReLU       | 0     \n",
      "--------------------------------------\n",
      "843 K     Trainable params\n",
      "0         Non-trainable params\n",
      "843 K     Total params\n",
      "3.376     Total estimated model params size (MB)\n"
     ]
    },
    {
     "name": "stdout",
     "output_type": "stream",
     "text": [
      "Epoch 2: 100%|██████████| 4/4 [00:00<00:00, 39.43it/s, loss=4.15e+03, v_num=180]"
     ]
    },
    {
     "name": "stderr",
     "output_type": "stream",
     "text": [
      "NaN or Inf found in input tensor.\n"
     ]
    },
    {
     "name": "stdout",
     "output_type": "stream",
     "text": [
      "Epoch 49: 100%|██████████| 4/4 [00:00<00:00, 54.08it/s, loss=0.817, v_num=180]  "
     ]
    },
    {
     "name": "stderr",
     "output_type": "stream",
     "text": [
      "`Trainer.fit` stopped: `max_epochs=50` reached.\n"
     ]
    },
    {
     "name": "stdout",
     "output_type": "stream",
     "text": [
      "Epoch 49: 100%|██████████| 4/4 [00:00<00:00, 38.95it/s, loss=0.817, v_num=180]\n"
     ]
    },
    {
     "name": "stderr",
     "output_type": "stream",
     "text": [
      "\u001b[32m[I 2023-01-15 02:52:14,559]\u001b[0m Trial 281 finished with value: 0.9285943508148193 and parameters: {'num_neurons': 305, 'batch_size': 272, 'learning_rate': 0.016378850353751192, 'layers': 9}. Best is trial 277 with value: 0.151951402425766.\u001b[0m\n",
      "GPU available: True (mps), used: True\n",
      "TPU available: False, using: 0 TPU cores\n",
      "IPU available: False, using: 0 IPUs\n",
      "HPU available: False, using: 0 HPUs\n",
      "\n",
      "  | Name   | Type       | Params\n",
      "--------------------------------------\n",
      "0 | input  | Linear     | 4.4 K \n",
      "1 | hidden | Sequential | 1.2 M \n",
      "2 | output | Linear     | 365   \n",
      "3 | relu   | ReLU       | 0     \n",
      "--------------------------------------\n",
      "1.2 M     Trainable params\n",
      "0         Non-trainable params\n",
      "1.2 M     Total params\n",
      "4.802     Total estimated model params size (MB)\n"
     ]
    },
    {
     "name": "stdout",
     "output_type": "stream",
     "text": [
      "Epoch 49: 100%|██████████| 6/6 [00:00<00:00, 59.49it/s, loss=0.242, v_num=181]  "
     ]
    },
    {
     "name": "stderr",
     "output_type": "stream",
     "text": [
      "`Trainer.fit` stopped: `max_epochs=50` reached.\n"
     ]
    },
    {
     "name": "stdout",
     "output_type": "stream",
     "text": [
      "Epoch 49: 100%|██████████| 6/6 [00:00<00:00, 44.56it/s, loss=0.242, v_num=181]\n"
     ]
    },
    {
     "name": "stderr",
     "output_type": "stream",
     "text": [
      "\u001b[32m[I 2023-01-15 02:52:23,289]\u001b[0m Trial 282 finished with value: 0.17576880753040314 and parameters: {'num_neurons': 364, 'batch_size': 258, 'learning_rate': 0.021084330073563085, 'layers': 9}. Best is trial 277 with value: 0.151951402425766.\u001b[0m\n",
      "GPU available: True (mps), used: True\n",
      "TPU available: False, using: 0 TPU cores\n",
      "IPU available: False, using: 0 IPUs\n",
      "HPU available: False, using: 0 HPUs\n",
      "\n",
      "  | Name   | Type       | Params\n",
      "--------------------------------------\n",
      "0 | input  | Linear     | 3.8 K \n",
      "1 | hidden | Sequential | 895 K \n",
      "2 | output | Linear     | 316   \n",
      "3 | relu   | ReLU       | 0     \n",
      "--------------------------------------\n",
      "899 K     Trainable params\n",
      "0         Non-trainable params\n",
      "899 K     Total params\n",
      "3.600     Total estimated model params size (MB)\n"
     ]
    },
    {
     "name": "stdout",
     "output_type": "stream",
     "text": [
      "Epoch 49: 100%|██████████| 6/6 [00:00<00:00, 56.04it/s, loss=0.127, v_num=182]  "
     ]
    },
    {
     "name": "stderr",
     "output_type": "stream",
     "text": [
      "`Trainer.fit` stopped: `max_epochs=50` reached.\n"
     ]
    },
    {
     "name": "stdout",
     "output_type": "stream",
     "text": [
      "Epoch 49: 100%|██████████| 6/6 [00:00<00:00, 43.57it/s, loss=0.127, v_num=182]\n"
     ]
    },
    {
     "name": "stderr",
     "output_type": "stream",
     "text": [
      "\u001b[32m[I 2023-01-15 02:52:31,987]\u001b[0m Trial 283 finished with value: 0.15667405724525452 and parameters: {'num_neurons': 315, 'batch_size': 257, 'learning_rate': 0.021165164410286, 'layers': 9}. Best is trial 277 with value: 0.151951402425766.\u001b[0m\n",
      "GPU available: True (mps), used: True\n",
      "TPU available: False, using: 0 TPU cores\n",
      "IPU available: False, using: 0 IPUs\n",
      "HPU available: False, using: 0 HPUs\n",
      "\n",
      "  | Name   | Type       | Params\n",
      "--------------------------------------\n",
      "0 | input  | Linear     | 4.3 K \n",
      "1 | hidden | Sequential | 1.1 M \n",
      "2 | output | Linear     | 356   \n",
      "3 | relu   | ReLU       | 0     \n",
      "--------------------------------------\n",
      "1.1 M     Trainable params\n",
      "0         Non-trainable params\n",
      "1.1 M     Total params\n",
      "4.568     Total estimated model params size (MB)\n"
     ]
    },
    {
     "name": "stdout",
     "output_type": "stream",
     "text": [
      "Epoch 49: 100%|██████████| 6/6 [00:00<00:00, 63.37it/s, loss=0.163, v_num=183]  "
     ]
    },
    {
     "name": "stderr",
     "output_type": "stream",
     "text": [
      "`Trainer.fit` stopped: `max_epochs=50` reached.\n"
     ]
    },
    {
     "name": "stdout",
     "output_type": "stream",
     "text": [
      "Epoch 49: 100%|██████████| 6/6 [00:00<00:00, 46.98it/s, loss=0.163, v_num=183]\n"
     ]
    },
    {
     "name": "stderr",
     "output_type": "stream",
     "text": [
      "\u001b[32m[I 2023-01-15 02:52:40,033]\u001b[0m Trial 284 finished with value: 0.19670972228050232 and parameters: {'num_neurons': 355, 'batch_size': 257, 'learning_rate': 0.021892272206587994, 'layers': 9}. Best is trial 277 with value: 0.151951402425766.\u001b[0m\n",
      "GPU available: True (mps), used: True\n",
      "TPU available: False, using: 0 TPU cores\n",
      "IPU available: False, using: 0 IPUs\n",
      "HPU available: False, using: 0 HPUs\n",
      "\n",
      "  | Name   | Type       | Params\n",
      "--------------------------------------\n",
      "0 | input  | Linear     | 4.2 K \n",
      "1 | hidden | Sequential | 1.1 M \n",
      "2 | output | Linear     | 352   \n",
      "3 | relu   | ReLU       | 0     \n",
      "--------------------------------------\n",
      "1.1 M     Trainable params\n",
      "0         Non-trainable params\n",
      "1.1 M     Total params\n",
      "4.466     Total estimated model params size (MB)\n"
     ]
    },
    {
     "name": "stdout",
     "output_type": "stream",
     "text": [
      "Epoch 49: 100%|██████████| 6/6 [00:00<00:00, 63.71it/s, loss=0.777, v_num=184]  "
     ]
    },
    {
     "name": "stderr",
     "output_type": "stream",
     "text": [
      "`Trainer.fit` stopped: `max_epochs=50` reached.\n"
     ]
    },
    {
     "name": "stdout",
     "output_type": "stream",
     "text": [
      "Epoch 49: 100%|██████████| 6/6 [00:00<00:00, 47.95it/s, loss=0.777, v_num=184]\n"
     ]
    },
    {
     "name": "stderr",
     "output_type": "stream",
     "text": [
      "\u001b[32m[I 2023-01-15 02:52:48,535]\u001b[0m Trial 285 finished with value: 0.923172652721405 and parameters: {'num_neurons': 351, 'batch_size': 255, 'learning_rate': 0.021088106574059858, 'layers': 9}. Best is trial 277 with value: 0.151951402425766.\u001b[0m\n",
      "GPU available: True (mps), used: True\n",
      "TPU available: False, using: 0 TPU cores\n",
      "IPU available: False, using: 0 IPUs\n",
      "HPU available: False, using: 0 HPUs\n",
      "\n",
      "  | Name   | Type       | Params\n",
      "--------------------------------------\n",
      "0 | input  | Linear     | 4.3 K \n",
      "1 | hidden | Sequential | 1.2 M \n",
      "2 | output | Linear     | 361   \n",
      "3 | relu   | ReLU       | 0     \n",
      "--------------------------------------\n",
      "1.2 M     Trainable params\n",
      "0         Non-trainable params\n",
      "1.2 M     Total params\n",
      "4.697     Total estimated model params size (MB)\n"
     ]
    },
    {
     "name": "stdout",
     "output_type": "stream",
     "text": [
      "Epoch 49: 100%|██████████| 6/6 [00:00<00:00, 56.63it/s, loss=0.602, v_num=185]  "
     ]
    },
    {
     "name": "stderr",
     "output_type": "stream",
     "text": [
      "`Trainer.fit` stopped: `max_epochs=50` reached.\n"
     ]
    },
    {
     "name": "stdout",
     "output_type": "stream",
     "text": [
      "Epoch 49: 100%|██████████| 6/6 [00:00<00:00, 39.21it/s, loss=0.602, v_num=185]\n"
     ]
    },
    {
     "name": "stderr",
     "output_type": "stream",
     "text": [
      "\u001b[32m[I 2023-01-15 02:52:56,724]\u001b[0m Trial 286 finished with value: 0.29207906126976013 and parameters: {'num_neurons': 360, 'batch_size': 262, 'learning_rate': 0.021366689751047364, 'layers': 9}. Best is trial 277 with value: 0.151951402425766.\u001b[0m\n",
      "GPU available: True (mps), used: True\n",
      "TPU available: False, using: 0 TPU cores\n",
      "IPU available: False, using: 0 IPUs\n",
      "HPU available: False, using: 0 HPUs\n",
      "\n",
      "  | Name   | Type       | Params\n",
      "--------------------------------------\n",
      "0 | input  | Linear     | 4.3 K \n",
      "1 | hidden | Sequential | 1.2 M \n",
      "2 | output | Linear     | 363   \n",
      "3 | relu   | ReLU       | 0     \n",
      "--------------------------------------\n",
      "1.2 M     Trainable params\n",
      "0         Non-trainable params\n",
      "1.2 M     Total params\n",
      "4.749     Total estimated model params size (MB)\n"
     ]
    },
    {
     "name": "stdout",
     "output_type": "stream",
     "text": [
      "Epoch 49: 100%|██████████| 6/6 [00:00<00:00, 46.95it/s, loss=0.172, v_num=186]  "
     ]
    },
    {
     "name": "stderr",
     "output_type": "stream",
     "text": [
      "`Trainer.fit` stopped: `max_epochs=50` reached.\n"
     ]
    },
    {
     "name": "stdout",
     "output_type": "stream",
     "text": [
      "Epoch 49: 100%|██████████| 6/6 [00:00<00:00, 36.23it/s, loss=0.172, v_num=186]\n"
     ]
    },
    {
     "name": "stderr",
     "output_type": "stream",
     "text": [
      "\u001b[32m[I 2023-01-15 02:53:06,082]\u001b[0m Trial 287 finished with value: 0.2444986253976822 and parameters: {'num_neurons': 362, 'batch_size': 248, 'learning_rate': 0.021385592490005777, 'layers': 9}. Best is trial 277 with value: 0.151951402425766.\u001b[0m\n",
      "GPU available: True (mps), used: True\n",
      "TPU available: False, using: 0 TPU cores\n",
      "IPU available: False, using: 0 IPUs\n",
      "HPU available: False, using: 0 HPUs\n",
      "\n",
      "  | Name   | Type       | Params\n",
      "--------------------------------------\n",
      "0 | input  | Linear     | 4.4 K \n",
      "1 | hidden | Sequential | 1.2 M \n",
      "2 | output | Linear     | 365   \n",
      "3 | relu   | ReLU       | 0     \n",
      "--------------------------------------\n",
      "1.2 M     Trainable params\n",
      "0         Non-trainable params\n",
      "1.2 M     Total params\n",
      "4.802     Total estimated model params size (MB)\n"
     ]
    },
    {
     "name": "stdout",
     "output_type": "stream",
     "text": [
      "Epoch 49: 100%|██████████| 6/6 [00:00<00:00, 62.48it/s, loss=0.134, v_num=187]  "
     ]
    },
    {
     "name": "stderr",
     "output_type": "stream",
     "text": [
      "`Trainer.fit` stopped: `max_epochs=50` reached.\n"
     ]
    },
    {
     "name": "stdout",
     "output_type": "stream",
     "text": [
      "Epoch 49: 100%|██████████| 6/6 [00:00<00:00, 46.48it/s, loss=0.134, v_num=187]\n"
     ]
    },
    {
     "name": "stderr",
     "output_type": "stream",
     "text": [
      "\u001b[32m[I 2023-01-15 02:53:14,849]\u001b[0m Trial 288 finished with value: 0.13798460364341736 and parameters: {'num_neurons': 364, 'batch_size': 233, 'learning_rate': 0.021386763230346547, 'layers': 9}. Best is trial 288 with value: 0.13798460364341736.\u001b[0m\n",
      "GPU available: True (mps), used: True\n",
      "TPU available: False, using: 0 TPU cores\n",
      "IPU available: False, using: 0 IPUs\n",
      "HPU available: False, using: 0 HPUs\n",
      "\n",
      "  | Name   | Type       | Params\n",
      "--------------------------------------\n",
      "0 | input  | Linear     | 4.1 K \n",
      "1 | hidden | Sequential | 1.2 M \n",
      "2 | output | Linear     | 342   \n",
      "3 | relu   | ReLU       | 0     \n",
      "--------------------------------------\n",
      "1.2 M     Trainable params\n",
      "0         Non-trainable params\n",
      "1.2 M     Total params\n",
      "4.683     Total estimated model params size (MB)\n"
     ]
    },
    {
     "name": "stdout",
     "output_type": "stream",
     "text": [
      "Epoch 1: 100%|██████████| 6/6 [00:00<00:00, 42.17it/s, loss=2.8e+06, v_num=188] "
     ]
    },
    {
     "name": "stderr",
     "output_type": "stream",
     "text": [
      "NaN or Inf found in input tensor.\n"
     ]
    },
    {
     "name": "stdout",
     "output_type": "stream",
     "text": [
      "Epoch 49: 100%|██████████| 6/6 [00:00<00:00, 60.83it/s, loss=0.181, v_num=188]  "
     ]
    },
    {
     "name": "stderr",
     "output_type": "stream",
     "text": [
      "`Trainer.fit` stopped: `max_epochs=50` reached.\n"
     ]
    },
    {
     "name": "stdout",
     "output_type": "stream",
     "text": [
      "Epoch 49: 100%|██████████| 6/6 [00:00<00:00, 44.67it/s, loss=0.181, v_num=188]\n"
     ]
    },
    {
     "name": "stderr",
     "output_type": "stream",
     "text": [
      "\u001b[32m[I 2023-01-15 02:53:23,484]\u001b[0m Trial 289 finished with value: 0.14959484338760376 and parameters: {'num_neurons': 341, 'batch_size': 240, 'learning_rate': 0.018960182704906525, 'layers': 10}. Best is trial 288 with value: 0.13798460364341736.\u001b[0m\n",
      "GPU available: True (mps), used: True\n",
      "TPU available: False, using: 0 TPU cores\n",
      "IPU available: False, using: 0 IPUs\n",
      "HPU available: False, using: 0 HPUs\n",
      "\n",
      "  | Name   | Type       | Params\n",
      "--------------------------------------\n",
      "0 | input  | Linear     | 4.6 K \n",
      "1 | hidden | Sequential | 1.5 M \n",
      "2 | output | Linear     | 383   \n",
      "3 | relu   | ReLU       | 0     \n",
      "--------------------------------------\n",
      "1.5 M     Trainable params\n",
      "0         Non-trainable params\n",
      "1.5 M     Total params\n",
      "5.872     Total estimated model params size (MB)\n"
     ]
    },
    {
     "name": "stdout",
     "output_type": "stream",
     "text": [
      "Epoch 49: 100%|██████████| 6/6 [00:00<00:00, 60.87it/s, loss=0.134, v_num=189]  "
     ]
    },
    {
     "name": "stderr",
     "output_type": "stream",
     "text": [
      "`Trainer.fit` stopped: `max_epochs=50` reached.\n"
     ]
    },
    {
     "name": "stdout",
     "output_type": "stream",
     "text": [
      "Epoch 49: 100%|██████████| 6/6 [00:00<00:00, 43.54it/s, loss=0.134, v_num=189]\n"
     ]
    },
    {
     "name": "stderr",
     "output_type": "stream",
     "text": [
      "\u001b[32m[I 2023-01-15 02:53:32,050]\u001b[0m Trial 290 finished with value: 0.1473383754491806 and parameters: {'num_neurons': 382, 'batch_size': 249, 'learning_rate': 0.018612445305154275, 'layers': 10}. Best is trial 288 with value: 0.13798460364341736.\u001b[0m\n",
      "GPU available: True (mps), used: True\n",
      "TPU available: False, using: 0 TPU cores\n",
      "IPU available: False, using: 0 IPUs\n",
      "HPU available: False, using: 0 HPUs\n",
      "\n",
      "  | Name   | Type       | Params\n",
      "--------------------------------------\n",
      "0 | input  | Linear     | 4.3 K \n",
      "1 | hidden | Sequential | 1.3 M \n",
      "2 | output | Linear     | 356   \n",
      "3 | relu   | ReLU       | 0     \n",
      "--------------------------------------\n",
      "1.3 M     Trainable params\n",
      "0         Non-trainable params\n",
      "1.3 M     Total params\n",
      "5.074     Total estimated model params size (MB)\n"
     ]
    },
    {
     "name": "stdout",
     "output_type": "stream",
     "text": [
      "Epoch 49: 100%|██████████| 6/6 [00:00<00:00, 60.90it/s, loss=0.812, v_num=190]  "
     ]
    },
    {
     "name": "stderr",
     "output_type": "stream",
     "text": [
      "`Trainer.fit` stopped: `max_epochs=50` reached.\n"
     ]
    },
    {
     "name": "stdout",
     "output_type": "stream",
     "text": [
      "Epoch 49: 100%|██████████| 6/6 [00:00<00:00, 44.92it/s, loss=0.812, v_num=190]\n"
     ]
    },
    {
     "name": "stderr",
     "output_type": "stream",
     "text": [
      "\u001b[32m[I 2023-01-15 02:53:40,473]\u001b[0m Trial 291 finished with value: 0.9294250011444092 and parameters: {'num_neurons': 355, 'batch_size': 230, 'learning_rate': 0.013470151743741245, 'layers': 10}. Best is trial 288 with value: 0.13798460364341736.\u001b[0m\n",
      "GPU available: True (mps), used: True\n",
      "TPU available: False, using: 0 TPU cores\n",
      "IPU available: False, using: 0 IPUs\n",
      "HPU available: False, using: 0 HPUs\n",
      "\n",
      "  | Name   | Type       | Params\n",
      "--------------------------------------\n",
      "0 | input  | Linear     | 4.8 K \n",
      "1 | hidden | Sequential | 1.4 M \n",
      "2 | output | Linear     | 397   \n",
      "3 | relu   | ReLU       | 0     \n",
      "--------------------------------------\n",
      "1.4 M     Trainable params\n",
      "0         Non-trainable params\n",
      "1.4 M     Total params\n",
      "5.680     Total estimated model params size (MB)\n"
     ]
    },
    {
     "name": "stdout",
     "output_type": "stream",
     "text": [
      "Epoch 49: 100%|██████████| 6/6 [00:00<00:00, 59.68it/s, loss=0.147, v_num=191]  "
     ]
    },
    {
     "name": "stderr",
     "output_type": "stream",
     "text": [
      "`Trainer.fit` stopped: `max_epochs=50` reached.\n"
     ]
    },
    {
     "name": "stdout",
     "output_type": "stream",
     "text": [
      "Epoch 49: 100%|██████████| 6/6 [00:00<00:00, 43.77it/s, loss=0.147, v_num=191]\n"
     ]
    },
    {
     "name": "stderr",
     "output_type": "stream",
     "text": [
      "\u001b[32m[I 2023-01-15 02:53:49,962]\u001b[0m Trial 292 finished with value: 0.17857873439788818 and parameters: {'num_neurons': 396, 'batch_size': 235, 'learning_rate': 0.018979224706848777, 'layers': 9}. Best is trial 288 with value: 0.13798460364341736.\u001b[0m\n",
      "GPU available: True (mps), used: True\n",
      "TPU available: False, using: 0 TPU cores\n",
      "IPU available: False, using: 0 IPUs\n",
      "HPU available: False, using: 0 HPUs\n",
      "\n",
      "  | Name   | Type       | Params\n",
      "--------------------------------------\n",
      "0 | input  | Linear     | 4.9 K \n",
      "1 | hidden | Sequential | 1.5 M \n",
      "2 | output | Linear     | 409   \n",
      "3 | relu   | ReLU       | 0     \n",
      "--------------------------------------\n",
      "1.5 M     Trainable params\n",
      "0         Non-trainable params\n",
      "1.5 M     Total params\n",
      "6.029     Total estimated model params size (MB)\n"
     ]
    },
    {
     "name": "stdout",
     "output_type": "stream",
     "text": [
      "Epoch 49: 100%|██████████| 6/6 [00:00<00:00, 58.08it/s, loss=0.405, v_num=192]  "
     ]
    },
    {
     "name": "stderr",
     "output_type": "stream",
     "text": [
      "`Trainer.fit` stopped: `max_epochs=50` reached.\n"
     ]
    },
    {
     "name": "stdout",
     "output_type": "stream",
     "text": [
      "Epoch 49: 100%|██████████| 6/6 [00:00<00:00, 40.61it/s, loss=0.405, v_num=192]\n"
     ]
    },
    {
     "name": "stderr",
     "output_type": "stream",
     "text": [
      "\u001b[32m[I 2023-01-15 02:53:59,701]\u001b[0m Trial 293 finished with value: 0.42818284034729004 and parameters: {'num_neurons': 408, 'batch_size': 236, 'learning_rate': 0.01873537800639069, 'layers': 9}. Best is trial 288 with value: 0.13798460364341736.\u001b[0m\n",
      "GPU available: True (mps), used: True\n",
      "TPU available: False, using: 0 TPU cores\n",
      "IPU available: False, using: 0 IPUs\n",
      "HPU available: False, using: 0 HPUs\n",
      "\n",
      "  | Name   | Type       | Params\n",
      "--------------------------------------\n",
      "0 | input  | Linear     | 4.8 K \n",
      "1 | hidden | Sequential | 1.6 M \n",
      "2 | output | Linear     | 401   \n",
      "3 | relu   | ReLU       | 0     \n",
      "--------------------------------------\n",
      "1.6 M     Trainable params\n",
      "0         Non-trainable params\n",
      "1.6 M     Total params\n",
      "6.437     Total estimated model params size (MB)\n"
     ]
    },
    {
     "name": "stdout",
     "output_type": "stream",
     "text": [
      "Epoch 49: 100%|██████████| 6/6 [00:00<00:00, 56.04it/s, loss=0.824, v_num=193]  "
     ]
    },
    {
     "name": "stderr",
     "output_type": "stream",
     "text": [
      "`Trainer.fit` stopped: `max_epochs=50` reached.\n"
     ]
    },
    {
     "name": "stdout",
     "output_type": "stream",
     "text": [
      "Epoch 49: 100%|██████████| 6/6 [00:00<00:00, 40.99it/s, loss=0.824, v_num=193]\n"
     ]
    },
    {
     "name": "stderr",
     "output_type": "stream",
     "text": [
      "\u001b[32m[I 2023-01-15 02:54:08,334]\u001b[0m Trial 294 finished with value: 0.8792545795440674 and parameters: {'num_neurons': 400, 'batch_size': 244, 'learning_rate': 0.020902985886371593, 'layers': 10}. Best is trial 288 with value: 0.13798460364341736.\u001b[0m\n",
      "GPU available: True (mps), used: True\n",
      "TPU available: False, using: 0 TPU cores\n",
      "IPU available: False, using: 0 IPUs\n",
      "HPU available: False, using: 0 HPUs\n",
      "\n",
      "  | Name   | Type       | Params\n",
      "--------------------------------------\n",
      "0 | input  | Linear     | 4.4 K \n",
      "1 | hidden | Sequential | 1.4 M \n",
      "2 | output | Linear     | 370   \n",
      "3 | relu   | ReLU       | 0     \n",
      "--------------------------------------\n",
      "1.4 M     Trainable params\n",
      "0         Non-trainable params\n",
      "1.4 M     Total params\n",
      "5.480     Total estimated model params size (MB)\n"
     ]
    },
    {
     "name": "stdout",
     "output_type": "stream",
     "text": [
      "Epoch 49: 100%|██████████| 6/6 [00:00<00:00, 57.98it/s, loss=0.839, v_num=194]  "
     ]
    },
    {
     "name": "stderr",
     "output_type": "stream",
     "text": [
      "`Trainer.fit` stopped: `max_epochs=50` reached.\n"
     ]
    },
    {
     "name": "stdout",
     "output_type": "stream",
     "text": [
      "Epoch 49: 100%|██████████| 6/6 [00:00<00:00, 40.27it/s, loss=0.839, v_num=194]\n"
     ]
    },
    {
     "name": "stderr",
     "output_type": "stream",
     "text": [
      "\u001b[32m[I 2023-01-15 02:54:17,289]\u001b[0m Trial 295 finished with value: 0.9652058482170105 and parameters: {'num_neurons': 369, 'batch_size': 207, 'learning_rate': 0.016966427918684433, 'layers': 10}. Best is trial 288 with value: 0.13798460364341736.\u001b[0m\n",
      "GPU available: True (mps), used: True\n",
      "TPU available: False, using: 0 TPU cores\n",
      "IPU available: False, using: 0 IPUs\n",
      "HPU available: False, using: 0 HPUs\n",
      "\n",
      "  | Name   | Type       | Params\n",
      "--------------------------------------\n",
      "0 | input  | Linear     | 4.5 K \n",
      "1 | hidden | Sequential | 1.3 M \n",
      "2 | output | Linear     | 378   \n",
      "3 | relu   | ReLU       | 0     \n",
      "--------------------------------------\n",
      "1.3 M     Trainable params\n",
      "0         Non-trainable params\n",
      "1.3 M     Total params\n",
      "5.150     Total estimated model params size (MB)\n"
     ]
    },
    {
     "name": "stdout",
     "output_type": "stream",
     "text": [
      "Epoch 49: 100%|██████████| 6/6 [00:00<00:00, 57.02it/s, loss=0.744, v_num=195]  "
     ]
    },
    {
     "name": "stderr",
     "output_type": "stream",
     "text": [
      "`Trainer.fit` stopped: `max_epochs=50` reached.\n"
     ]
    },
    {
     "name": "stdout",
     "output_type": "stream",
     "text": [
      "Epoch 49: 100%|██████████| 6/6 [00:00<00:00, 39.13it/s, loss=0.744, v_num=195]\n"
     ]
    },
    {
     "name": "stderr",
     "output_type": "stream",
     "text": [
      "\u001b[32m[I 2023-01-15 02:54:25,457]\u001b[0m Trial 296 finished with value: 0.8552391529083252 and parameters: {'num_neurons': 377, 'batch_size': 228, 'learning_rate': 0.020682795538897566, 'layers': 9}. Best is trial 288 with value: 0.13798460364341736.\u001b[0m\n",
      "GPU available: True (mps), used: True\n",
      "TPU available: False, using: 0 TPU cores\n",
      "IPU available: False, using: 0 IPUs\n",
      "HPU available: False, using: 0 HPUs\n",
      "\n",
      "  | Name   | Type       | Params\n",
      "--------------------------------------\n",
      "0 | input  | Linear     | 4.6 K \n",
      "1 | hidden | Sequential | 1.3 M \n",
      "2 | output | Linear     | 384   \n",
      "3 | relu   | ReLU       | 0     \n",
      "--------------------------------------\n",
      "1.3 M     Trainable params\n",
      "0         Non-trainable params\n",
      "1.3 M     Total params\n",
      "5.315     Total estimated model params size (MB)\n"
     ]
    },
    {
     "name": "stdout",
     "output_type": "stream",
     "text": [
      "Epoch 49: 100%|██████████| 6/6 [00:00<00:00, 58.21it/s, loss=0.133, v_num=196]  "
     ]
    },
    {
     "name": "stderr",
     "output_type": "stream",
     "text": [
      "`Trainer.fit` stopped: `max_epochs=50` reached.\n"
     ]
    },
    {
     "name": "stdout",
     "output_type": "stream",
     "text": [
      "Epoch 49: 100%|██████████| 6/6 [00:00<00:00, 44.25it/s, loss=0.133, v_num=196]\n"
     ]
    },
    {
     "name": "stderr",
     "output_type": "stream",
     "text": [
      "\u001b[32m[I 2023-01-15 02:54:33,489]\u001b[0m Trial 297 finished with value: 0.1339951753616333 and parameters: {'num_neurons': 383, 'batch_size': 248, 'learning_rate': 0.018906682638040993, 'layers': 9}. Best is trial 297 with value: 0.1339951753616333.\u001b[0m\n",
      "GPU available: True (mps), used: True\n",
      "TPU available: False, using: 0 TPU cores\n",
      "IPU available: False, using: 0 IPUs\n",
      "HPU available: False, using: 0 HPUs\n",
      "\n",
      "  | Name   | Type       | Params\n",
      "--------------------------------------\n",
      "0 | input  | Linear     | 4.7 K \n",
      "1 | hidden | Sequential | 1.4 M \n",
      "2 | output | Linear     | 390   \n",
      "3 | relu   | ReLU       | 0     \n",
      "--------------------------------------\n",
      "1.4 M     Trainable params\n",
      "0         Non-trainable params\n",
      "1.4 M     Total params\n",
      "5.482     Total estimated model params size (MB)\n"
     ]
    },
    {
     "name": "stdout",
     "output_type": "stream",
     "text": [
      "Epoch 49: 100%|██████████| 6/6 [00:00<00:00, 62.44it/s, loss=0.368, v_num=197]  "
     ]
    },
    {
     "name": "stderr",
     "output_type": "stream",
     "text": [
      "`Trainer.fit` stopped: `max_epochs=50` reached.\n"
     ]
    },
    {
     "name": "stdout",
     "output_type": "stream",
     "text": [
      "Epoch 49: 100%|██████████| 6/6 [00:00<00:00, 45.29it/s, loss=0.368, v_num=197]\n"
     ]
    },
    {
     "name": "stderr",
     "output_type": "stream",
     "text": [
      "\u001b[32m[I 2023-01-15 02:54:41,987]\u001b[0m Trial 298 finished with value: 0.23785966634750366 and parameters: {'num_neurons': 389, 'batch_size': 237, 'learning_rate': 0.015537002097064032, 'layers': 9}. Best is trial 297 with value: 0.1339951753616333.\u001b[0m\n",
      "GPU available: True (mps), used: True\n",
      "TPU available: False, using: 0 TPU cores\n",
      "IPU available: False, using: 0 IPUs\n",
      "HPU available: False, using: 0 HPUs\n",
      "\n",
      "  | Name   | Type       | Params\n",
      "--------------------------------------\n",
      "0 | input  | Linear     | 4.7 K \n",
      "1 | hidden | Sequential | 1.4 M \n",
      "2 | output | Linear     | 392   \n",
      "3 | relu   | ReLU       | 0     \n",
      "--------------------------------------\n",
      "1.4 M     Trainable params\n",
      "0         Non-trainable params\n",
      "1.4 M     Total params\n",
      "5.538     Total estimated model params size (MB)\n"
     ]
    },
    {
     "name": "stdout",
     "output_type": "stream",
     "text": [
      "Epoch 49: 100%|██████████| 6/6 [00:00<00:00, 61.36it/s, loss=0.129, v_num=198]  "
     ]
    },
    {
     "name": "stderr",
     "output_type": "stream",
     "text": [
      "`Trainer.fit` stopped: `max_epochs=50` reached.\n"
     ]
    },
    {
     "name": "stdout",
     "output_type": "stream",
     "text": [
      "Epoch 49: 100%|██████████| 6/6 [00:00<00:00, 44.27it/s, loss=0.129, v_num=198]\n"
     ]
    },
    {
     "name": "stderr",
     "output_type": "stream",
     "text": [
      "\u001b[32m[I 2023-01-15 02:54:50,562]\u001b[0m Trial 299 finished with value: 0.13342277705669403 and parameters: {'num_neurons': 391, 'batch_size': 239, 'learning_rate': 0.012029900886458151, 'layers': 9}. Best is trial 299 with value: 0.13342277705669403.\u001b[0m\n",
      "GPU available: True (mps), used: True\n",
      "TPU available: False, using: 0 TPU cores\n",
      "IPU available: False, using: 0 IPUs\n",
      "HPU available: False, using: 0 HPUs\n",
      "\n",
      "  | Name   | Type       | Params\n",
      "--------------------------------------\n",
      "0 | input  | Linear     | 4.8 K \n",
      "1 | hidden | Sequential | 1.4 M \n",
      "2 | output | Linear     | 397   \n",
      "3 | relu   | ReLU       | 0     \n",
      "--------------------------------------\n",
      "1.4 M     Trainable params\n",
      "0         Non-trainable params\n",
      "1.4 M     Total params\n",
      "5.680     Total estimated model params size (MB)\n"
     ]
    },
    {
     "name": "stdout",
     "output_type": "stream",
     "text": [
      "Epoch 49: 100%|██████████| 6/6 [00:00<00:00, 64.25it/s, loss=0.179, v_num=199]  "
     ]
    },
    {
     "name": "stderr",
     "output_type": "stream",
     "text": [
      "`Trainer.fit` stopped: `max_epochs=50` reached.\n"
     ]
    },
    {
     "name": "stdout",
     "output_type": "stream",
     "text": [
      "Epoch 49: 100%|██████████| 6/6 [00:00<00:00, 46.32it/s, loss=0.179, v_num=199]\n"
     ]
    },
    {
     "name": "stderr",
     "output_type": "stream",
     "text": [
      "\u001b[32m[I 2023-01-15 02:54:58,239]\u001b[0m Trial 300 finished with value: 0.16059985756874084 and parameters: {'num_neurons': 396, 'batch_size': 214, 'learning_rate': 0.012562603297384711, 'layers': 9}. Best is trial 299 with value: 0.13342277705669403.\u001b[0m\n"
     ]
    },
    {
     "name": "stdout",
     "output_type": "stream",
     "text": [
      "FrozenTrial(number=299, values=[0.13342277705669403], datetime_start=datetime.datetime(2023, 1, 15, 2, 54, 41, 990766), datetime_complete=datetime.datetime(2023, 1, 15, 2, 54, 50, 556763), params={'batch_size': 239, 'layers': 9, 'learning_rate': 0.012029900886458151, 'num_neurons': 391}, distributions={'batch_size': IntDistribution(high=512, log=False, low=32, step=1), 'layers': IntDistribution(high=10, log=False, low=1, step=1), 'learning_rate': FloatDistribution(high=0.1, log=False, low=1e-07, step=None), 'num_neurons': IntDistribution(high=512, log=False, low=16, step=1)}, user_attrs={}, system_attrs={}, intermediate_values={}, trial_id=300, state=TrialState.COMPLETE, value=None)\n"
     ]
    }
   ],
   "source": [
    "def optimize_model(trial):\n",
    "    \n",
    "    num_neurons = trial.suggest_int('num_neurons', 16, 512)\n",
    "    batch_size= trial.suggest_int('batch_size', 32, 512)\n",
    "    learning_rate= trial.suggest_float('learning_rate', 1e-7, 1e-1)\n",
    "    layers = trial.suggest_int('layers', 1, 10)\n",
    "\n",
    "    model = RegressionModel(layers=layers, num_neurons=num_neurons, learning_rate=learning_rate, batch_size=batch_size, train_dataset=train_ohe_dataset, val_dataset=val_ohe_dataset, test_dataset=test_ohe_dataset)\n",
    "    trainer = pl.Trainer(accelerator='mps', max_epochs=50)\n",
    "\n",
    "    trainer.fit(model)\n",
    "    return trainer.callback_metrics['val_loss']\n",
    "    \n",
    "study = optuna.create_study(direction='minimize', study_name='insurance', storage='sqlite:///insurance.db', load_if_exists=True)\n",
    "study.optimize(optimize_model, n_trials=100)\n",
    "\n",
    "print(study.best_trial)"
   ]
  },
  {
   "cell_type": "code",
   "execution_count": 174,
   "metadata": {},
   "outputs": [
    {
     "name": "stdout",
     "output_type": "stream",
     "text": [
      "{'batch_size': 239, 'layers': 9, 'learning_rate': 0.012029900886458151, 'num_neurons': 391}\n"
     ]
    }
   ],
   "source": [
    "print(study.best_params)"
   ]
  },
  {
   "cell_type": "code",
   "execution_count": 178,
   "metadata": {},
   "outputs": [
    {
     "name": "stderr",
     "output_type": "stream",
     "text": [
      "GPU available: True (mps), used: True\n",
      "TPU available: False, using: 0 TPU cores\n",
      "IPU available: False, using: 0 IPUs\n",
      "HPU available: False, using: 0 HPUs\n",
      "/Users/lsacy/opt/miniconda3/envs/clcnlu/lib/python3.8/site-packages/pytorch_lightning/callbacks/model_checkpoint.py:604: UserWarning: Checkpoint directory lightning_logs/insurance/version_29/checkpoints exists and is not empty.\n",
      "  rank_zero_warn(f\"Checkpoint directory {dirpath} exists and is not empty.\")\n",
      "\n",
      "  | Name   | Type       | Params\n",
      "--------------------------------------\n",
      "0 | input  | Linear     | 4.7 K \n",
      "1 | hidden | Sequential | 1.4 M \n",
      "2 | output | Linear     | 392   \n",
      "3 | relu   | ReLU       | 0     \n",
      "--------------------------------------\n",
      "1.4 M     Trainable params\n",
      "0         Non-trainable params\n",
      "1.4 M     Total params\n",
      "5.538     Total estimated model params size (MB)\n"
     ]
    },
    {
     "name": "stdout",
     "output_type": "stream",
     "text": [
      "                                                                           "
     ]
    },
    {
     "name": "stderr",
     "output_type": "stream",
     "text": [
      "/Users/lsacy/opt/miniconda3/envs/clcnlu/lib/python3.8/site-packages/pytorch_lightning/trainer/connectors/data_connector.py:224: PossibleUserWarning: The dataloader, val_dataloader 0, does not have many workers which may be a bottleneck. Consider increasing the value of the `num_workers` argument` (try 8 which is the number of cpus on this machine) in the `DataLoader` init to improve performance.\n",
      "  rank_zero_warn(\n",
      "/Users/lsacy/opt/miniconda3/envs/clcnlu/lib/python3.8/site-packages/pytorch_lightning/trainer/connectors/data_connector.py:224: PossibleUserWarning: The dataloader, train_dataloader, does not have many workers which may be a bottleneck. Consider increasing the value of the `num_workers` argument` (try 8 which is the number of cpus on this machine) in the `DataLoader` init to improve performance.\n",
      "  rank_zero_warn(\n",
      "/Users/lsacy/opt/miniconda3/envs/clcnlu/lib/python3.8/site-packages/pytorch_lightning/trainer/trainer.py:1595: PossibleUserWarning: The number of training batches (4) is smaller than the logging interval Trainer(log_every_n_steps=50). Set a lower value for log_every_n_steps if you want to see logs for the training epoch.\n",
      "  rank_zero_warn(\n"
     ]
    },
    {
     "name": "stdout",
     "output_type": "stream",
     "text": [
      "Epoch 49: 100%|██████████| 6/6 [00:00<00:00, 64.11it/s, loss=0.171, v_num=29]  "
     ]
    },
    {
     "name": "stderr",
     "output_type": "stream",
     "text": [
      "`Trainer.fit` stopped: `max_epochs=50` reached.\n"
     ]
    },
    {
     "name": "stdout",
     "output_type": "stream",
     "text": [
      "Epoch 49: 100%|██████████| 6/6 [00:00<00:00, 41.96it/s, loss=0.171, v_num=29]\n"
     ]
    }
   ],
   "source": [
    "# start a new trainer with the best hyperparameters\n",
    "model = RegressionModel(**study.best_params,  train_dataset=train_ohe_dataset, val_dataset=val_ohe_dataset, test_dataset=test_ohe_dataset)\n",
    "trainer = pl.Trainer(accelerator='gpu', devices=1, max_epochs=50, logger=logger, fast_dev_run=False)\n",
    "trainer.fit(model)"
   ]
  },
  {
   "cell_type": "code",
   "execution_count": 179,
   "metadata": {},
   "outputs": [
    {
     "name": "stdout",
     "output_type": "stream",
     "text": [
      "{'train_loss': tensor(0.1540), 'val_loss': tensor(0.1404), 'val_loss_reversed': tensor(31848670.), 'avg_val_loss': tensor(0.1624)}\n"
     ]
    }
   ],
   "source": [
    "print(trainer.logged_metrics)"
   ]
  },
  {
   "cell_type": "code",
   "execution_count": 180,
   "metadata": {},
   "outputs": [
    {
     "name": "stderr",
     "output_type": "stream",
     "text": [
      "Restoring states from the checkpoint path at lightning_logs/insurance/version_29/checkpoints/epoch=49-step=200-v1.ckpt\n",
      "Loaded model weights from checkpoint at lightning_logs/insurance/version_29/checkpoints/epoch=49-step=200-v1.ckpt\n"
     ]
    },
    {
     "name": "stdout",
     "output_type": "stream",
     "text": [
      "Testing DataLoader 0: 100%|██████████| 2/2 [00:00<00:00, 53.77it/s]\n",
      "────────────────────────────────────────────────────────────────────────────────────────────────────────────────────────\n",
      "       Test metric             DataLoader 0\n",
      "────────────────────────────────────────────────────────────────────────────────────────────────────────────────────────\n",
      "        test_loss           0.19460749626159668\n",
      "   test_loss_reversed           39134988.0\n",
      "────────────────────────────────────────────────────────────────────────────────────────────────────────────────────────\n"
     ]
    },
    {
     "data": {
      "text/plain": [
       "[{'test_loss': 0.19460749626159668, 'test_loss_reversed': 39134988.0}]"
      ]
     },
     "execution_count": 180,
     "metadata": {},
     "output_type": "execute_result"
    }
   ],
   "source": [
    "trainer.test()"
   ]
  },
  {
   "cell_type": "code",
   "execution_count": 181,
   "metadata": {},
   "outputs": [
    {
     "data": {
      "text/plain": [
       "({'batch_size': 239,\n",
       "  'layers': 9,\n",
       "  'learning_rate': 0.012029900886458151,\n",
       "  'num_neurons': 391},\n",
       " 0.13342277705669403)"
      ]
     },
     "execution_count": 181,
     "metadata": {},
     "output_type": "execute_result"
    }
   ],
   "source": [
    "study.best_params, study.best_value"
   ]
  },
  {
   "cell_type": "code",
   "execution_count": 87,
   "metadata": {},
   "outputs": [],
   "source": [
    "# save final losses to txt\n",
    "with open('final_losses.txt', 'w') as f:\n",
    "    for key, value in final_losses.items():\n",
    "        f.write('%s:%s ' % (key, value))"
   ]
  },
  {
   "cell_type": "code",
   "execution_count": 216,
   "metadata": {},
   "outputs": [],
   "source": [
    "# get predictions for test dataset\n",
    "model.eval()\n",
    "predictions = [model(i[0].unsqueeze(0)).detach().numpy() for i in test_ohe_dataset]\n",
    "# compare predictions to actual values, calculate mean squared error\n",
    "mse = 0\n",
    "for i in range(len(predictions)):\n",
    "    mse += (predictions[i].item() - test_ohe_dataset[i][1].item())**2\n",
    "mse /= len(predictions)"
   ]
  },
  {
   "cell_type": "code",
   "execution_count": 189,
   "metadata": {},
   "outputs": [
    {
     "data": {
      "text/plain": [
       "(10.045226097106934, 9.655807495117188)"
      ]
     },
     "execution_count": 189,
     "metadata": {},
     "output_type": "execute_result"
    }
   ],
   "source": [
    "predictions[0].item(), test_ohe_dataset[0][1].item()"
   ]
  },
  {
   "cell_type": "code",
   "execution_count": 206,
   "metadata": {},
   "outputs": [
    {
     "data": {
      "text/plain": [
       "268"
      ]
     },
     "execution_count": 206,
     "metadata": {},
     "output_type": "execute_result"
    }
   ],
   "source": [
    "len((y_hat - y)**2)"
   ]
  },
  {
   "cell_type": "code",
   "execution_count": 219,
   "metadata": {},
   "outputs": [
    {
     "data": {
      "text/plain": [
       "117525.87249006219"
      ]
     },
     "execution_count": 219,
     "metadata": {},
     "output_type": "execute_result"
    }
   ],
   "source": [
    "# reverse the log transform\n",
    "y_hat = model(torch.tensor(test_ohe.drop('charges', axis=1).values, dtype=torch.float)).detach().numpy()\n",
    "y = test_ohe['charges'].values\n",
    "mse = (y_hat - y)**2\n",
    "np.sum(mse)\n"
   ]
  },
  {
   "cell_type": "code",
   "execution_count": 199,
   "metadata": {},
   "outputs": [
    {
     "data": {
      "text/plain": [
       "117525.87249006219"
      ]
     },
     "execution_count": 199,
     "metadata": {},
     "output_type": "execute_result"
    }
   ],
   "source": [
    "# sum mse\n",
    "np.sum(mse)"
   ]
  },
  {
   "cell_type": "code",
   "execution_count": 191,
   "metadata": {},
   "outputs": [
    {
     "data": {
      "text/plain": [
       "(array([10.045225], dtype=float32), 9.65580751292789)"
      ]
     },
     "execution_count": 191,
     "metadata": {},
     "output_type": "execute_result"
    }
   ],
   "source": [
    "y_hat[0], y[0]\n"
   ]
  },
  {
   "cell_type": "code",
   "execution_count": 117,
   "metadata": {},
   "outputs": [],
   "source": [
    "# save the predictions to csv\n",
    "with open('predictions.csv', 'w') as f:\n",
    "    for i in predictions:\n",
    "        f.write('%s ' % i.item())\n",
    "        "
   ]
  },
  {
   "cell_type": "code",
   "execution_count": 119,
   "metadata": {},
   "outputs": [
    {
     "data": {
      "text/plain": [
       "[17370.234375,\n",
       " 5327.376953125,\n",
       " 16070.9677734375,\n",
       " 4890.30615234375,\n",
       " 3500.11181640625,\n",
       " 33063.03515625,\n",
       " 4032.1865234375,\n",
       " 4852.14697265625,\n",
       " 5528.578125,\n",
       " 9053.6591796875,\n",
       " 23759.224609375,\n",
       " 31113.30859375,\n",
       " 4508.46728515625,\n",
       " 13942.0078125,\n",
       " 3435.443359375,\n",
       " 12875.24609375,\n",
       " 15023.0166015625,\n",
       " 14211.8798828125,\n",
       " 4303.88818359375,\n",
       " 12621.8701171875,\n",
       " 12293.505859375,\n",
       " 8284.5166015625,\n",
       " 41119.4453125,\n",
       " 15411.6376953125,\n",
       " 14093.6455078125,\n",
       " 24780.2890625,\n",
       " 47983.2109375,\n",
       " 3850.208251953125,\n",
       " 3716.47314453125,\n",
       " 29839.375,\n",
       " 33627.41015625,\n",
       " 23744.849609375,\n",
       " 3655.44189453125,\n",
       " 9946.7578125,\n",
       " 12939.0771484375,\n",
       " 3452.988525390625,\n",
       " 4985.416015625,\n",
       " 14584.0849609375,\n",
       " 11730.4306640625,\n",
       " 8416.9482421875,\n",
       " 3435.443359375,\n",
       " 11334.0380859375,\n",
       " 3619.5546875,\n",
       " 4824.7412109375,\n",
       " 8204.939453125,\n",
       " 11577.8369140625,\n",
       " 11115.9775390625,\n",
       " 3435.443359375,\n",
       " 12877.5849609375,\n",
       " 13683.6083984375,\n",
       " 3435.443359375,\n",
       " 3731.54541015625,\n",
       " 17321.07421875,\n",
       " 5750.66943359375,\n",
       " 31539.7109375,\n",
       " 8876.6337890625,\n",
       " 6124.32666015625,\n",
       " 4085.4130859375,\n",
       " 13890.8916015625,\n",
       " 7381.70263671875,\n",
       " 13631.2373046875,\n",
       " 3435.443359375,\n",
       " 8248.8779296875,\n",
       " 14518.5322265625,\n",
       " 6200.2060546875,\n",
       " 11408.576171875,\n",
       " 14181.400390625,\n",
       " 43767.12890625,\n",
       " 12107.1328125,\n",
       " 3435.443359375,\n",
       " 3850.86962890625,\n",
       " 39002.89453125,\n",
       " 4093.718505859375,\n",
       " 8355.6806640625,\n",
       " 12014.8837890625,\n",
       " 7734.80224609375,\n",
       " 5612.01611328125,\n",
       " 10449.615234375,\n",
       " 9509.1171875,\n",
       " 5190.572265625,\n",
       " 3690.10400390625,\n",
       " 6479.8828125,\n",
       " 3435.443359375,\n",
       " 7816.51416015625,\n",
       " 3877.43798828125,\n",
       " 3435.443359375,\n",
       " 10993.650390625,\n",
       " 40759.46484375,\n",
       " 14047.728515625,\n",
       " 8740.376953125,\n",
       " 3448.83349609375,\n",
       " 8907.986328125,\n",
       " 12734.166015625,\n",
       " 3362.65869140625,\n",
       " 3435.443359375,\n",
       " 7646.54833984375,\n",
       " 5278.86376953125,\n",
       " 9074.7099609375,\n",
       " 13790.9306640625,\n",
       " 17895.88671875,\n",
       " 3435.443359375,\n",
       " 10230.3154296875,\n",
       " 14585.3369140625,\n",
       " 14087.5126953125,\n",
       " 9001.9892578125,\n",
       " 3435.443359375,\n",
       " 13931.0595703125,\n",
       " 11445.3173828125,\n",
       " 6153.14892578125,\n",
       " 15217.1005859375,\n",
       " 29673.87109375,\n",
       " 29614.224609375,\n",
       " 4023.345703125,\n",
       " 24530.23828125,\n",
       " 12309.55859375,\n",
       " 8565.2275390625,\n",
       " 3435.443359375,\n",
       " 12446.3310546875,\n",
       " 17481.69921875,\n",
       " 3435.443359375,\n",
       " 10342.4033203125,\n",
       " 31114.64453125,\n",
       " 12989.9150390625,\n",
       " 14200.5126953125,\n",
       " 6109.40869140625,\n",
       " 9392.4921875,\n",
       " 3151.94189453125,\n",
       " 3435.443359375,\n",
       " 8258.4033203125,\n",
       " 5203.57080078125,\n",
       " 5708.703125,\n",
       " 30398.232421875,\n",
       " 12875.3271484375,\n",
       " 5683.07861328125,\n",
       " 25543.95703125,\n",
       " 15573.8515625,\n",
       " 3435.443359375,\n",
       " 6587.76171875,\n",
       " 3467.25634765625,\n",
       " 9916.2587890625,\n",
       " 5338.314453125,\n",
       " 14007.2001953125,\n",
       " 7182.42529296875,\n",
       " 35457.94921875,\n",
       " 28516.478515625,\n",
       " 37680.62109375,\n",
       " 5338.0751953125,\n",
       " 49640.06640625,\n",
       " 16361.953125,\n",
       " 8248.6181640625,\n",
       " 13445.5615234375,\n",
       " 14271.7275390625,\n",
       " 4639.6435546875,\n",
       " 7958.2041015625,\n",
       " 11049.6123046875,\n",
       " 6104.8310546875,\n",
       " 4372.71044921875,\n",
       " 41590.76953125,\n",
       " 12763.6220703125,\n",
       " 3217.132080078125,\n",
       " 16538.017578125,\n",
       " 8324.9462890625,\n",
       " 11299.12109375,\n",
       " 10304.3125,\n",
       " 14567.6484375,\n",
       " 22652.36328125,\n",
       " 29929.16796875,\n",
       " 3435.443359375,\n",
       " 13641.7646484375,\n",
       " 48263.6953125,\n",
       " 12179.0439453125,\n",
       " 14845.0498046875,\n",
       " 6050.49462890625,\n",
       " 13197.8173828125,\n",
       " 8835.751953125,\n",
       " 8599.755859375,\n",
       " 12717.6435546875,\n",
       " 3876.49951171875,\n",
       " 24950.05859375,\n",
       " 3291.857421875,\n",
       " 3435.443359375,\n",
       " 7872.9326171875,\n",
       " 11684.02734375,\n",
       " 24606.31640625,\n",
       " 12084.9150390625,\n",
       " 3607.625732421875,\n",
       " 51651.48046875,\n",
       " 39839.04296875,\n",
       " 50349.41015625,\n",
       " 4674.54931640625,\n",
       " 10058.8994140625,\n",
       " 9171.3232421875,\n",
       " 31870.53125,\n",
       " 6703.19482421875,\n",
       " 6206.8671875,\n",
       " 18319.84375,\n",
       " 32780.61328125,\n",
       " 5707.65185546875,\n",
       " 5123.8134765625,\n",
       " 9541.4951171875,\n",
       " 12996.1826171875,\n",
       " 10840.2841796875,\n",
       " 4508.07470703125,\n",
       " 6893.05126953125,\n",
       " 3588.96044921875,\n",
       " 11633.412109375,\n",
       " 7935.18115234375,\n",
       " 3671.455810546875,\n",
       " 27483.28515625,\n",
       " 3583.54833984375,\n",
       " 9524.9326171875,\n",
       " 45727.8828125,\n",
       " 10919.853515625,\n",
       " 4220.2431640625,\n",
       " 12575.68359375,\n",
       " 14532.6044921875,\n",
       " 14638.2802734375,\n",
       " 7400.52001953125,\n",
       " 5474.56103515625,\n",
       " 34738.59765625,\n",
       " 9793.330078125,\n",
       " 11435.5146484375,\n",
       " 10774.1689453125,\n",
       " 41007.79296875,\n",
       " 10798.150390625,\n",
       " 3480.17919921875,\n",
       " 12478.3232421875,\n",
       " 3435.443359375,\n",
       " 25512.4609375,\n",
       " 34181.9921875,\n",
       " 5310.70654296875,\n",
       " 7785.14599609375,\n",
       " 43264.69140625,\n",
       " 5897.04833984375,\n",
       " 6962.03271484375,\n",
       " 38423.0078125,\n",
       " 9383.7216796875,\n",
       " 9201.7744140625,\n",
       " 8542.205078125,\n",
       " 9277.2236328125,\n",
       " 33844.26953125,\n",
       " 3435.443359375,\n",
       " 9776.8486328125,\n",
       " 9357.5927734375,\n",
       " 8279.1552734375,\n",
       " 5967.77734375,\n",
       " 28076.4375,\n",
       " 10158.3486328125,\n",
       " 9887.541015625,\n",
       " 8406.7021484375,\n",
       " 11220.3251953125,\n",
       " 13994.3134765625,\n",
       " 8974.7802734375,\n",
       " 15570.0205078125,\n",
       " 15873.162109375,\n",
       " 4330.60986328125,\n",
       " 7080.54541015625,\n",
       " 8872.9638671875,\n",
       " 12918.3837890625,\n",
       " 3503.2119140625,\n",
       " 32806.01171875,\n",
       " 6642.92236328125,\n",
       " 6487.77001953125,\n",
       " 3707.69775390625,\n",
       " 15028.8134765625,\n",
       " 4371.22021484375,\n",
       " 4837.9365234375,\n",
       " 23989.0390625]"
      ]
     },
     "execution_count": 119,
     "metadata": {},
     "output_type": "execute_result"
    }
   ],
   "source": [
    "# # open the predictions csv\n",
    "# with open('predictions.csv', 'r') as f:\n",
    "#     predictions = f.read().split(' ')[:-1]\n",
    "#     predictions = [float(i) for i in predictions]\n"
   ]
  },
  {
   "cell_type": "code",
   "execution_count": 75,
   "metadata": {},
   "outputs": [
    {
     "data": {
      "text/plain": [
       "Reusing TensorBoard on port 6022 (pid 12420), started 0:06:25 ago. (Use '!kill 12420' to kill it.)"
      ]
     },
     "metadata": {},
     "output_type": "display_data"
    },
    {
     "data": {
      "text/html": [
       "\n",
       "      <iframe id=\"tensorboard-frame-e2c04c479972e145\" width=\"100%\" height=\"800\" frameborder=\"0\">\n",
       "      </iframe>\n",
       "      <script>\n",
       "        (function() {\n",
       "          const frame = document.getElementById(\"tensorboard-frame-e2c04c479972e145\");\n",
       "          const url = new URL(\"http://localhost\");\n",
       "          const port = 6022;\n",
       "          if (port) {\n",
       "            url.port = port;\n",
       "          }\n",
       "          frame.src = url;\n",
       "        })();\n",
       "      </script>\n",
       "    "
      ],
      "text/plain": [
       "<IPython.core.display.HTML object>"
      ]
     },
     "metadata": {},
     "output_type": "display_data"
    }
   ],
   "source": [
    "%tensorboard --logdir lightning_logs"
   ]
  }
 ],
 "metadata": {
  "kernelspec": {
   "display_name": "clcnlu",
   "language": "python",
   "name": "python3"
  },
  "language_info": {
   "codemirror_mode": {
    "name": "ipython",
    "version": 3
   },
   "file_extension": ".py",
   "mimetype": "text/x-python",
   "name": "python",
   "nbconvert_exporter": "python",
   "pygments_lexer": "ipython3",
   "version": "3.8.15"
  },
  "orig_nbformat": 4,
  "vscode": {
   "interpreter": {
    "hash": "66b115f1110a69b6eaea00558fab78e993fc04e6100a90d74ba6cc0d37911dfa"
   }
  }
 },
 "nbformat": 4,
 "nbformat_minor": 2
}
